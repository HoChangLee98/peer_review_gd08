{
 "cells": [
  {
   "cell_type": "markdown",
   "id": "89e907e8",
   "metadata": {},
   "source": [
    "# 00. 라이브러리 로드"
   ]
  },
  {
   "cell_type": "code",
   "execution_count": 322,
   "id": "01a1ebfa",
   "metadata": {},
   "outputs": [],
   "source": [
    "import pandas as pd\n",
    "import numpy as np\n",
    "import matplotlib.pyplot as plt\n",
    "import re\n",
    "import time\n",
    "import tensorflow_datasets as tfds\n",
    "import tensorflow as tf"
   ]
  },
  {
   "cell_type": "markdown",
   "id": "83134a8c",
   "metadata": {},
   "source": [
    "# 01. GPT 구조 함수 정의 (트랜스포머와 비교)"
   ]
  },
  {
   "cell_type": "markdown",
   "id": "f39f4705",
   "metadata": {},
   "source": [
    "### Transformer  \n",
    "├── **Input Processing**  \n",
    "│   ├── Positional Encoding Layer  \n",
    "│   ├── Padding Mask  \n",
    "│   └── Look-ahead Mask  \n",
    "├── **Attention Mechanism**  \n",
    "│   ├── Scaled Dot Product Attention  \n",
    "│   └── Multi-Head Attention  \n",
    "├── **Encoder**  \n",
    "│   ├── Encoder Layer  \n",
    "│   │   ├── Multi-Head Attention (Self-Attention)  \n",
    "│   │   ├── Feed Forward Network  \n",
    "│   │   └── Add & Norm (Residual + Layer Normalization)  \n",
    "│   └── Stacking Encoder Layers  \n",
    "├── **Decoder**  \n",
    "│   ├── Decoder Layer  \n",
    "│   │   ├── Masked Multi-Head Attention (Self-Attention)  \n",
    "│   │   ├── Encoder-Decoder Attention  \n",
    "│   │   ├── Feed Forward Network  \n",
    "│   │   └── Add & Norm (Residual + Layer Normalization)  \n",
    "│   └── Stacking Decoder Layers  \n",
    "└── **Output Layer**  \n",
    "    └── Final Linear Layer + Softmax  "
   ]
  },
  {
   "cell_type": "markdown",
   "id": "cc6e20ae",
   "metadata": {},
   "source": [
    "### GPT-1\n",
    "├── **Input Processing**  \n",
    "│   ├── Token Embedding  \n",
    "│   ├── Positional Embedding  \n",
    "│   └── Look-ahead Mask \n",
    "├── **Decoder**    \n",
    "│   ├── Decoder Layer   \n",
    "│   │   ├── Masked Multi-Head Attention (Self-Attention)  \n",
    "│   │   ├── Feed Forward Network  \n",
    "│   │   └── Add & Norm (Residual + Layer Normalization)  \n",
    "│   └── Stacking Decoder Layers  \n",
    "└── **Output Layer**  \n",
    "    └── Final Linear Layer + Softmax  "
   ]
  },
  {
   "cell_type": "markdown",
   "id": "3010a092",
   "metadata": {},
   "source": [
    "###  Transformer과 비교하였을 때, 포지셔널 임베딩과 디코더 층 (마스크드 멀티 헤드 셀프 어텐션, 피드 포워드) 으로만 구성 된다. 또한 디코더 층에 넣어주는 Input의 형태도 잘 고려하여야한다."
   ]
  },
  {
   "cell_type": "markdown",
   "id": "21e14c06",
   "metadata": {},
   "source": [
    "## Input Processing"
   ]
  },
  {
   "cell_type": "code",
   "execution_count": 323,
   "id": "0f12e9fc",
   "metadata": {},
   "outputs": [],
   "source": [
    "# 포지셔널 임베딩 레이어 정의 -> 데이터의 위치정보를 추가!\n",
    "class PositionalEmbedding(tf.keras.layers.Layer):\n",
    "    def __init__(self, max_seq_len, d_model):\n",
    "        super(PositionalEmbedding, self).__init__()\n",
    "        self.pos_embedding = tf.keras.layers.Embedding(max_seq_len, d_model)\n",
    "\n",
    "    def call(self, inputs):\n",
    "        positions = tf.range(start=0, limit=tf.shape(inputs)[1], delta=1)\n",
    "        positions = self.pos_embedding(positions)\n",
    "        return inputs + positions"
   ]
  },
  {
   "cell_type": "markdown",
   "id": "ccb22456",
   "metadata": {},
   "source": [
    "## 디코더 정의"
   ]
  },
  {
   "cell_type": "code",
   "execution_count": 324,
   "id": "51009016",
   "metadata": {},
   "outputs": [],
   "source": [
    "# 디코더 레이어 정의 -> 인코더- 디코더 어텐션 레이어 삭제 한다.\n",
    "def decoder_layer(units, d_model, num_heads, dropout, name=\"decoder_layer\"):\n",
    "    inputs = tf.keras.Input(shape=(None, d_model), name='inputs')\n",
    "    look_ahead_mask = tf.keras.Input(shape=(1, None, None), name='look_ahead_mask')\n",
    "    \n",
    "    # 멀티헤드 어텐션\n",
    "    attention = tf.keras.layers.MultiHeadAttention(\n",
    "        num_heads=num_heads, key_dim=d_model, dropout=dropout, name='attention')(\n",
    "        query=inputs, key=inputs, value=inputs, attention_mask=look_ahead_mask)\n",
    "    \n",
    "    attention = tf.keras.layers.Dropout(dropout)(attention)\n",
    "    attention = tf.keras.layers.LayerNormalization(epsilon=1e-6)(inputs + attention)\n",
    "    \n",
    "    # 피드 포워드 네트워크\n",
    "    outputs = tf.keras.layers.Dense(units, activation='relu')(attention)\n",
    "    outputs = tf.keras.layers.Dense(d_model)(outputs)\n",
    "    outputs = tf.keras.layers.Dropout(dropout)(outputs)\n",
    "    outputs = tf.keras.layers.LayerNormalization(epsilon=1e-6)(attention + outputs)\n",
    "    \n",
    "    return tf.keras.Model(\n",
    "        inputs=[inputs, look_ahead_mask],\n",
    "        outputs=outputs,\n",
    "        name=name\n",
    "    )"
   ]
  },
  {
   "cell_type": "markdown",
   "id": "8c82b9b6",
   "metadata": {},
   "source": [
    "## 디코더 구조"
   ]
  },
  {
   "cell_type": "code",
   "execution_count": 325,
   "id": "1a3f69e8",
   "metadata": {},
   "outputs": [],
   "source": [
    "# GPT-1 모델 정의\n",
    "# 디코더 레이어만 쌓아 모델 구조를 이룬다.\n",
    "def gpt_model(\n",
    "    vocab_size, num_layers, units, d_model, num_heads, dropout, max_seq_len, name=\"gpt_model\"):\n",
    "\n",
    "    inputs = tf.keras.Input(shape=(None,), name='inputs')\n",
    "\n",
    "    # Look-Ahead Mask 생성\n",
    "    look_ahead_mask = tf.keras.layers.Lambda(\n",
    "        create_look_ahead_mask, output_shape=(1, None, None), name='look_ahead_mask')(inputs)\n",
    "\n",
    "    # 임베딩 레이어 및 포지셔널 임베딩 적용\n",
    "    embeddings = tf.keras.layers.Embedding(vocab_size, d_model)(inputs)\n",
    "    embeddings *= tf.math.sqrt(tf.cast(d_model, tf.float32))\n",
    "    embeddings = PositionalEmbedding(max_seq_len, d_model)(embeddings)\n",
    "\n",
    "    outputs = tf.keras.layers.Dropout(dropout)(embeddings)\n",
    "\n",
    "    # 디코더 레이어를 쌓기\n",
    "    for i in range(num_layers):\n",
    "        outputs = decoder_layer(\n",
    "            units=units,\n",
    "            d_model=d_model,\n",
    "            num_heads=num_heads,\n",
    "            dropout=dropout,\n",
    "            name=f'decoder_layer_{i}')(\n",
    "            inputs=[outputs, look_ahead_mask])\n",
    "\n",
    "    # 출력 레이어\n",
    "    logits = tf.keras.layers.Dense(vocab_size)(outputs)\n",
    "\n",
    "    return tf.keras.Model(inputs=inputs, outputs=logits, name=name)"
   ]
  },
  {
   "cell_type": "code",
   "execution_count": 326,
   "id": "44c23152",
   "metadata": {},
   "outputs": [],
   "source": [
    "# 마스킹 함수 정의\n",
    "def create_padding_mask(x):\n",
    "    mask = tf.cast(tf.math.equal(x, 0), tf.float32)\n",
    "    # (batch_size, 1, 1, seq_len)\n",
    "    return mask[:, tf.newaxis, tf.newaxis, :]\n",
    "\n",
    "def create_look_ahead_mask(seq):\n",
    "    seq_len = tf.shape(seq)[1]\n",
    "    look_ahead_mask = 1 - tf.linalg.band_part(tf.ones((seq_len, seq_len)), -1, 0)\n",
    "    padding_mask = create_padding_mask(seq)\n",
    "    return tf.maximum(look_ahead_mask, padding_mask)"
   ]
  },
  {
   "cell_type": "markdown",
   "id": "711b5516",
   "metadata": {},
   "source": [
    "# 02. 데이터 처리"
   ]
  },
  {
   "cell_type": "code",
   "execution_count": 327,
   "id": "faa4d1e5",
   "metadata": {},
   "outputs": [
    {
     "data": {
      "text/html": [
       "<div>\n",
       "<style scoped>\n",
       "    .dataframe tbody tr th:only-of-type {\n",
       "        vertical-align: middle;\n",
       "    }\n",
       "\n",
       "    .dataframe tbody tr th {\n",
       "        vertical-align: top;\n",
       "    }\n",
       "\n",
       "    .dataframe thead th {\n",
       "        text-align: right;\n",
       "    }\n",
       "</style>\n",
       "<table border=\"1\" class=\"dataframe\">\n",
       "  <thead>\n",
       "    <tr style=\"text-align: right;\">\n",
       "      <th></th>\n",
       "      <th>Q</th>\n",
       "      <th>A</th>\n",
       "      <th>label</th>\n",
       "    </tr>\n",
       "  </thead>\n",
       "  <tbody>\n",
       "    <tr>\n",
       "      <th>0</th>\n",
       "      <td>12시 땡!</td>\n",
       "      <td>하루가 또 가네요.</td>\n",
       "      <td>0</td>\n",
       "    </tr>\n",
       "    <tr>\n",
       "      <th>1</th>\n",
       "      <td>1지망 학교 떨어졌어</td>\n",
       "      <td>위로해 드립니다.</td>\n",
       "      <td>0</td>\n",
       "    </tr>\n",
       "    <tr>\n",
       "      <th>2</th>\n",
       "      <td>3박4일 놀러가고 싶다</td>\n",
       "      <td>여행은 언제나 좋죠.</td>\n",
       "      <td>0</td>\n",
       "    </tr>\n",
       "    <tr>\n",
       "      <th>3</th>\n",
       "      <td>3박4일 정도 놀러가고 싶다</td>\n",
       "      <td>여행은 언제나 좋죠.</td>\n",
       "      <td>0</td>\n",
       "    </tr>\n",
       "    <tr>\n",
       "      <th>4</th>\n",
       "      <td>PPL 심하네</td>\n",
       "      <td>눈살이 찌푸려지죠.</td>\n",
       "      <td>0</td>\n",
       "    </tr>\n",
       "  </tbody>\n",
       "</table>\n",
       "</div>"
      ],
      "text/plain": [
       "                 Q            A  label\n",
       "0           12시 땡!   하루가 또 가네요.      0\n",
       "1      1지망 학교 떨어졌어    위로해 드립니다.      0\n",
       "2     3박4일 놀러가고 싶다  여행은 언제나 좋죠.      0\n",
       "3  3박4일 정도 놀러가고 싶다  여행은 언제나 좋죠.      0\n",
       "4          PPL 심하네   눈살이 찌푸려지죠.      0"
      ]
     },
     "execution_count": 327,
     "metadata": {},
     "output_type": "execute_result"
    }
   ],
   "source": [
    "# 데이터 로드\n",
    "chat_path = \"~/aiffel/transformer_chatbot/data/ChatbotData .csv\"\n",
    "data = pd.read_csv(chat_path)\n",
    "data.head()"
   ]
  },
  {
   "cell_type": "code",
   "execution_count": 328,
   "id": "3eb9260c",
   "metadata": {},
   "outputs": [],
   "source": [
    "# 전처리 함수 정의\n",
    "def preprocess_sentence(sentence):\n",
    "    sentence = sentence.strip()\n",
    "    # 구두점과 단어 사이에 공백 추가\n",
    "    sentence = re.sub(r\"([?.!,])\", r\" \\1 \", sentence)\n",
    "    # 여러 공백을 하나로\n",
    "    sentence = re.sub(r'[\" \"]+', \" \", sentence)\n",
    "    # 한글, 숫자, 구두점만 남김\n",
    "    sentence = re.sub(r\"[^ㄱ-ㅎ가-힣0-9?.!,]\", \" \", sentence)\n",
    "    sentence = sentence.strip()\n",
    "    return sentence"
   ]
  },
  {
   "cell_type": "code",
   "execution_count": 329,
   "id": "7b12daf5",
   "metadata": {},
   "outputs": [],
   "source": [
    "# 전처리 적용 및 Q, A 분리\n",
    "questions = []\n",
    "answers = []\n",
    "for idx, row in data.iterrows():\n",
    "    q = preprocess_sentence(row['Q'])\n",
    "    a = preprocess_sentence(row['A'])\n",
    "    questions.append(q)\n",
    "    answers.append(a)"
   ]
  },
  {
   "cell_type": "code",
   "execution_count": 330,
   "id": "7d853039",
   "metadata": {},
   "outputs": [],
   "source": [
    "# 토크나이저 생성\n",
    "tokenizer = tfds.deprecated.text.SubwordTextEncoder.build_from_corpus(\n",
    "    questions + answers, target_vocab_size=2**13)"
   ]
  },
  {
   "cell_type": "code",
   "execution_count": 331,
   "id": "4505c6cd",
   "metadata": {},
   "outputs": [
    {
     "name": "stdout",
     "output_type": "stream",
     "text": [
      "시작 토큰 번호 : [8161]\n",
      "종료 토큰 번호 : [8162]\n",
      "구분 토큰 번호 : [8163]\n",
      "단어 집합의 크기 : 8164\n"
     ]
    }
   ],
   "source": [
    "# 시작 토큰과 종료 토큰, 구분 토큰 정의\n",
    "START_TOKEN = [tokenizer.vocab_size]\n",
    "END_TOKEN = [tokenizer.vocab_size + 1]\n",
    "SEP_TOKEN = [tokenizer.vocab_size + 2]\n",
    "VOCAB_SIZE = tokenizer.vocab_size + 3\n",
    "\n",
    "print('시작 토큰 번호 :', START_TOKEN)\n",
    "print('종료 토큰 번호 :', END_TOKEN)\n",
    "print('구분 토큰 번호 :', SEP_TOKEN)\n",
    "print('단어 집합의 크기 :', VOCAB_SIZE)\n"
   ]
  },
  {
   "cell_type": "code",
   "execution_count": 332,
   "id": "99f792fa",
   "metadata": {},
   "outputs": [
    {
     "data": {
      "image/png": "[encoded data removed]",
      "text/plain": [
       "<Figure size 720x432 with 4 Axes>"
      ]
     },
     "metadata": {
      "needs_background": "light"
     },
     "output_type": "display_data"
    }
   ],
   "source": [
    "import matplotlib.pyplot as plt\n",
    "\n",
    "# 각 문장의 길이를 계산하는 함수\n",
    "def calculate_sentence_length(sentences):\n",
    "    return [len(sentence.split()) for sentence in sentences]\n",
    "\n",
    "# 질문과 답변의 길이 계산\n",
    "question_lengths = calculate_sentence_length(questions)\n",
    "answer_lengths = calculate_sentence_length(answers)\n",
    "\n",
    "# 길이 시각화\n",
    "plt.figure(figsize=(10, 6))\n",
    "\n",
    "# 질문 길이 분포 히스토그램\n",
    "plt.subplot(2, 2, 1)\n",
    "plt.hist(question_lengths, bins=20, color='blue', alpha=0.7)\n",
    "plt.title('Question Length')\n",
    "plt.xlabel('Length')\n",
    "plt.ylabel('Questions')\n",
    "\n",
    "# 답변 길이 분포 히스토그램\n",
    "plt.subplot(2, 2, 2)\n",
    "plt.hist(answer_lengths, bins=20, color='green', alpha=0.7)\n",
    "plt.title('Answer Length')\n",
    "plt.xlabel('Length')\n",
    "plt.ylabel('Answers')\n",
    "\n",
    "# 질문 길이 박스플롯\n",
    "plt.subplot(2, 2, 3)\n",
    "plt.boxplot(question_lengths, patch_artist=True, boxprops=dict(facecolor='lightblue'))\n",
    "plt.title('Question Length')\n",
    "plt.xlabel('Questions')\n",
    "plt.ylabel('Length')\n",
    "\n",
    "# 답변 길이 박스플롯\n",
    "plt.subplot(2, 2, 4)\n",
    "plt.boxplot(answer_lengths, patch_artist=True, boxprops=dict(facecolor='lightgreen'))\n",
    "plt.title('Answer Length')\n",
    "plt.xlabel('Answers')\n",
    "plt.ylabel('Length')\n",
    "\n",
    "plt.tight_layout()\n",
    "plt.show()"
   ]
  },
  {
   "cell_type": "code",
   "execution_count": 333,
   "id": "3e76a81c",
   "metadata": {},
   "outputs": [],
   "source": [
    "# 최대 시퀀스 길이 설정\n",
    "MAX_LENGTH = 25"
   ]
  },
  {
   "cell_type": "code",
   "execution_count": 334,
   "id": "b52c0161",
   "metadata": {},
   "outputs": [],
   "source": [
    "def tokenize_and_filter(input_sentences, output_sentences):\n",
    "    inputs = []\n",
    "    for (sentence1, sentence2) in zip(input_sentences, output_sentences):\n",
    "        # 시작 토큰 + 질문 + 구분 토큰 + 답변 + 종료 토큰\n",
    "        sentence = (\n",
    "            START_TOKEN +\n",
    "            tokenizer.encode(sentence1) +\n",
    "            SEP_TOKEN +\n",
    "            tokenizer.encode(sentence2) +\n",
    "            END_TOKEN\n",
    "        )\n",
    "        if len(sentence) <= MAX_LENGTH:\n",
    "            inputs.append(sentence)\n",
    "    # 패딩\n",
    "    inputs = tf.keras.preprocessing.sequence.pad_sequences(\n",
    "        inputs, maxlen=MAX_LENGTH, padding='post')\n",
    "    return inputs\n",
    "\n",
    "tokenized_inputs = tokenize_and_filter(questions, answers)"
   ]
  },
  {
   "cell_type": "code",
   "execution_count": 335,
   "id": "1e876763",
   "metadata": {},
   "outputs": [
    {
     "name": "stdout",
     "output_type": "stream",
     "text": [
      "입력 시퀀스의 크기(shape) : (11693, 24)\n",
      "타겟 시퀀스의 크기(shape) : (11693, 24)\n"
     ]
    }
   ],
   "source": [
    "# 입력과 타겟 시퀀스 생성\n",
    "x = tokenized_inputs[:, :-1]\n",
    "y = tokenized_inputs[:, 1:]\n",
    "\n",
    "print('입력 시퀀스의 크기(shape) :', x.shape)\n",
    "print('타겟 시퀀스의 크기(shape) :', y.shape)"
   ]
  },
  {
   "cell_type": "code",
   "execution_count": 336,
   "id": "52e5264f",
   "metadata": {},
   "outputs": [],
   "source": [
    "BATCH_SIZE = 64\n",
    "BUFFER_SIZE = 20000\n",
    "\n",
    "dataset = tf.data.Dataset.from_tensor_slices((x, y))\n",
    "dataset = dataset.cache()\n",
    "dataset = dataset.shuffle(BUFFER_SIZE)\n",
    "dataset = dataset.batch(BATCH_SIZE)\n",
    "dataset = dataset.prefetch(tf.data.experimental.AUTOTUNE)"
   ]
  },
  {
   "cell_type": "markdown",
   "id": "d8a30a96",
   "metadata": {},
   "source": [
    "# 03. 모델 구조 정의"
   ]
  },
  {
   "cell_type": "code",
   "execution_count": 337,
   "id": "84ae021f",
   "metadata": {},
   "outputs": [
    {
     "name": "stdout",
     "output_type": "stream",
     "text": [
      "Model: \"gpt_model\"\n",
      "__________________________________________________________________________________________________\n",
      "Layer (type)                    Output Shape         Param #     Connected to                     \n",
      "==================================================================================================\n",
      "inputs (InputLayer)             [(None, None)]       0                                            \n",
      "__________________________________________________________________________________________________\n",
      "embedding_24 (Embedding)        (None, None, 256)    2089984     inputs[0][0]                     \n",
      "__________________________________________________________________________________________________\n",
      "tf.math.multiply_12 (TFOpLambda (None, None, 256)    0           embedding_24[0][0]               \n",
      "__________________________________________________________________________________________________\n",
      "positional_embedding_12 (Positi (None, None, 256)    6400        tf.math.multiply_12[0][0]        \n",
      "__________________________________________________________________________________________________\n",
      "dropout_260 (Dropout)           (None, None, 256)    0           positional_embedding_12[0][0]    \n",
      "__________________________________________________________________________________________________\n",
      "look_ahead_mask (Lambda)        (None, 1, None, None 0           inputs[0][0]                     \n",
      "__________________________________________________________________________________________________\n",
      "decoder_layer_0 (Functional)    (None, None, 256)    2367488     dropout_260[0][0]                \n",
      "                                                                 look_ahead_mask[0][0]            \n",
      "__________________________________________________________________________________________________\n",
      "decoder_layer_1 (Functional)    (None, None, 256)    2367488     decoder_layer_0[0][0]            \n",
      "                                                                 look_ahead_mask[0][0]            \n",
      "__________________________________________________________________________________________________\n",
      "decoder_layer_2 (Functional)    (None, None, 256)    2367488     decoder_layer_1[0][0]            \n",
      "                                                                 look_ahead_mask[0][0]            \n",
      "__________________________________________________________________________________________________\n",
      "decoder_layer_3 (Functional)    (None, None, 256)    2367488     decoder_layer_2[0][0]            \n",
      "                                                                 look_ahead_mask[0][0]            \n",
      "__________________________________________________________________________________________________\n",
      "decoder_layer_4 (Functional)    (None, None, 256)    2367488     decoder_layer_3[0][0]            \n",
      "                                                                 look_ahead_mask[0][0]            \n",
      "__________________________________________________________________________________________________\n",
      "decoder_layer_5 (Functional)    (None, None, 256)    2367488     decoder_layer_4[0][0]            \n",
      "                                                                 look_ahead_mask[0][0]            \n",
      "__________________________________________________________________________________________________\n",
      "decoder_layer_6 (Functional)    (None, None, 256)    2367488     decoder_layer_5[0][0]            \n",
      "                                                                 look_ahead_mask[0][0]            \n",
      "__________________________________________________________________________________________________\n",
      "decoder_layer_7 (Functional)    (None, None, 256)    2367488     decoder_layer_6[0][0]            \n",
      "                                                                 look_ahead_mask[0][0]            \n",
      "__________________________________________________________________________________________________\n",
      "decoder_layer_8 (Functional)    (None, None, 256)    2367488     decoder_layer_7[0][0]            \n",
      "                                                                 look_ahead_mask[0][0]            \n",
      "__________________________________________________________________________________________________\n",
      "decoder_layer_9 (Functional)    (None, None, 256)    2367488     decoder_layer_8[0][0]            \n",
      "                                                                 look_ahead_mask[0][0]            \n",
      "__________________________________________________________________________________________________\n",
      "decoder_layer_10 (Functional)   (None, None, 256)    2367488     decoder_layer_9[0][0]            \n",
      "                                                                 look_ahead_mask[0][0]            \n",
      "__________________________________________________________________________________________________\n",
      "decoder_layer_11 (Functional)   (None, None, 256)    2367488     decoder_layer_10[0][0]           \n",
      "                                                                 look_ahead_mask[0][0]            \n",
      "__________________________________________________________________________________________________\n",
      "dense_283 (Dense)               (None, None, 8164)   2098148     decoder_layer_11[0][0]           \n",
      "==================================================================================================\n",
      "Total params: 32,604,388\n",
      "Trainable params: 32,604,388\n",
      "Non-trainable params: 0\n",
      "__________________________________________________________________________________________________\n"
     ]
    }
   ],
   "source": [
    "# 하이퍼파라미터 설정\n",
    "NUM_LAYERS = 12\n",
    "D_MODEL = 256\n",
    "NUM_HEADS = 8\n",
    "UNITS = 512\n",
    "DROPOUT = 0\n",
    "MAX_SEQ_LEN = MAX_LENGTH\n",
    "\n",
    "# 모델 생성\n",
    "model = gpt_model(\n",
    "    vocab_size=VOCAB_SIZE,\n",
    "    num_layers=NUM_LAYERS,\n",
    "    units=UNITS,\n",
    "    d_model=D_MODEL,\n",
    "    num_heads=NUM_HEADS,\n",
    "    dropout=DROPOUT,\n",
    "    max_seq_len=MAX_SEQ_LEN,\n",
    "    name=\"gpt_model\"\n",
    ")\n",
    "\n",
    "model.summary()\n"
   ]
  },
  {
   "cell_type": "code",
   "execution_count": 338,
   "id": "d0c7ac55",
   "metadata": {},
   "outputs": [],
   "source": [
    "# 손실 함수 및 옵티마이저 정의\n",
    "loss_object = tf.keras.losses.SparseCategoricalCrossentropy(from_logits=True, reduction='none')\n",
    "\n",
    "def loss_function(y_true, y_pred):\n",
    "  y_true = tf.reshape(y_true, shape=(-1, MAX_LENGTH - 1))\n",
    "  \n",
    "  loss = tf.keras.losses.SparseCategoricalCrossentropy(\n",
    "      from_logits=True, reduction='none')(y_true, y_pred)\n",
    "\n",
    "  mask = tf.cast(tf.not_equal(y_true, 0), tf.float32)\n",
    "  loss = tf.multiply(loss, mask)\n",
    "\n",
    "  return tf.reduce_mean(loss)"
   ]
  },
  {
   "cell_type": "code",
   "execution_count": 339,
   "id": "a09c368e",
   "metadata": {},
   "outputs": [],
   "source": [
    "# 학습률 스케줄러 정의\n",
    "class CustomSchedule(tf.keras.optimizers.schedules.LearningRateSchedule):\n",
    "\n",
    "  def __init__(self, d_model, warmup_steps=4000):\n",
    "    super(CustomSchedule, self).__init__()\n",
    "\n",
    "    self.d_model = d_model\n",
    "    self.d_model = tf.cast(self.d_model, tf.float32)\n",
    "\n",
    "    self.warmup_steps = warmup_steps\n",
    "\n",
    "  def __call__(self, step):\n",
    "    arg1 = tf.math.rsqrt(step)\n",
    "    arg2 = step * (self.warmup_steps**-1.5)\n",
    "\n",
    "    return tf.math.rsqrt(self.d_model) * tf.math.minimum(arg1, arg2)"
   ]
  },
  {
   "cell_type": "code",
   "execution_count": 340,
   "id": "be2d2f7f",
   "metadata": {},
   "outputs": [],
   "source": [
    "learning_rate = CustomSchedule(D_MODEL)\n",
    "optimizer = tf.keras.optimizers.Adam(learning_rate,\n",
    "                                     beta_1=0.9,\n",
    "                                     beta_2=0.98,\n",
    "                                     epsilon=1e-9)\n",
    "\n",
    "def accuracy(y_true, y_pred):\n",
    "  # 레이블의 크기는 (batch_size, MAX_LENGTH - 1)\n",
    "  y_true = tf.reshape(y_true, shape=(-1, MAX_LENGTH - 1))\n",
    "  return tf.keras.metrics.sparse_categorical_accuracy(y_true, y_pred)\n",
    "\n",
    "# 모델 컴파일\n",
    "model.compile(optimizer=optimizer, loss=loss_function, metrics=[accuracy])"
   ]
  },
  {
   "cell_type": "markdown",
   "id": "6d72e84a",
   "metadata": {},
   "source": [
    "# 04. 모델 학습"
   ]
  },
  {
   "cell_type": "code",
   "execution_count": 341,
   "id": "050b9edd",
   "metadata": {},
   "outputs": [
    {
     "name": "stdout",
     "output_type": "stream",
     "text": [
      "Epoch 1/12\n",
      "183/183 [==============================] - 37s 153ms/step - loss: 4.5252 - accuracy: 0.0925\n",
      "Epoch 2/12\n",
      "183/183 [==============================] - 28s 155ms/step - loss: 3.7262 - accuracy: 0.1581\n",
      "Epoch 3/12\n",
      "183/183 [==============================] - 28s 152ms/step - loss: 2.7386 - accuracy: 0.2259\n",
      "Epoch 4/12\n",
      "183/183 [==============================] - 28s 153ms/step - loss: 1.9344 - accuracy: 0.3150\n",
      "Epoch 5/12\n",
      "183/183 [==============================] - 28s 154ms/step - loss: 1.3224 - accuracy: 0.4240\n",
      "Epoch 6/12\n",
      "183/183 [==============================] - 28s 153ms/step - loss: 0.8497 - accuracy: 0.5022\n",
      "Epoch 7/12\n",
      "183/183 [==============================] - 28s 153ms/step - loss: 0.5040 - accuracy: 0.5384\n",
      "Epoch 8/12\n",
      "183/183 [==============================] - 28s 153ms/step - loss: 0.2612 - accuracy: 0.5467\n",
      "Epoch 9/12\n",
      "183/183 [==============================] - 28s 153ms/step - loss: 0.1192 - accuracy: 0.5474\n",
      "Epoch 10/12\n",
      "183/183 [==============================] - 28s 153ms/step - loss: 0.1460 - accuracy: 0.5365\n",
      "Epoch 11/12\n",
      "183/183 [==============================] - 28s 153ms/step - loss: 0.0157 - accuracy: 0.5479\n",
      "Epoch 12/12\n",
      "183/183 [==============================] - 28s 153ms/step - loss: 0.0499 - accuracy: 0.5445\n"
     ]
    }
   ],
   "source": [
    "# 모델 학습\n",
    "EPOCHS = 12\n",
    "\n",
    "history = model.fit(dataset, epochs=EPOCHS)"
   ]
  },
  {
   "cell_type": "code",
   "execution_count": 352,
   "id": "11254584",
   "metadata": {},
   "outputs": [
    {
     "data": {
      "image/png": "[encoded data removed]",
      "text/plain": [
       "<Figure size 432x288 with 1 Axes>"
      ]
     },
     "metadata": {
      "needs_background": "light"
     },
     "output_type": "display_data"
    }
   ],
   "source": [
    "import matplotlib.pyplot as plt\n",
    "\n",
    "plt.plot(history.history['loss'])\n",
    "plt.xlabel('Epoch')\n",
    "plt.ylabel('Loss')\n",
    "plt.title('Training Loss')\n",
    "plt.show()"
   ]
  },
  {
   "cell_type": "markdown",
   "id": "43f3d4d6",
   "metadata": {},
   "source": [
    "# 05. 모델 평가 -> 정성적 평가"
   ]
  },
  {
   "cell_type": "code",
   "execution_count": 371,
   "id": "04e4d4e5",
   "metadata": {},
   "outputs": [],
   "source": [
    "# 평가 함수 및 답변 생성 함수 정의\n",
    "def evaluate(sentence):\n",
    "    sentence = preprocess_sentence(sentence)\n",
    "    input_ids = START_TOKEN + tokenizer.encode(sentence) + SEP_TOKEN\n",
    "    input_ids = tf.expand_dims(input_ids, axis=0)  # (1, seq_len)\n",
    "\n",
    "    for i in range(MAX_LENGTH):\n",
    "        # 모델 예측\n",
    "        predictions = model(input_ids, training=False)  # (1, seq_len, vocab_size)\n",
    "\n",
    "        # 마지막 단어의 예측 결과 추출\n",
    "        predictions = predictions[:, -1:, :]  # (1, 1, vocab_size)\n",
    "        predicted_id = tf.argmax(predictions, axis=-1)  # (1, 1)\n",
    "        predicted_id = tf.cast(predicted_id, tf.int32)\n",
    "\n",
    "        # 종료 조건 확인\n",
    "        if tf.equal(predicted_id, END_TOKEN[0]):\n",
    "            break\n",
    "\n",
    "        # 예측된 단어를 입력 시퀀스에 추가\n",
    "        input_ids = tf.concat([input_ids, predicted_id], axis=-1)  # (1, seq_len+1)\n",
    "\n",
    "    # 시작 토큰과 입력 문장 부분을 제거하여 출력 시퀀스 추출\n",
    "    output = tf.squeeze(input_ids, axis=0)\n",
    "    output = output.numpy().tolist()\n",
    "\n",
    "    # [START_TOKEN] + 입력 문장 + [SEP_TOKEN]의 길이 계산\n",
    "    input_length = len(START_TOKEN + tokenizer.encode(sentence) + SEP_TOKEN)\n",
    "\n",
    "    # 출력 시퀀스에서 입력 시퀀스를 제외한 부분만 추출\n",
    "    predicted_sequence = output[input_length:]\n",
    "\n",
    "    return predicted_sequence"
   ]
  },
  {
   "cell_type": "code",
   "execution_count": 372,
   "id": "3978fd1d",
   "metadata": {},
   "outputs": [],
   "source": [
    "def Q1(sentence):\n",
    "    prediction = evaluate(sentence)\n",
    "    predicted_sentence = tokenizer.decode(\n",
    "        [i for i in prediction if i < tokenizer.vocab_size])\n",
    "\n",
    "    print('입력: {}'.format(sentence))\n",
    "    print('출력: {}'.format(predicted_sentence))\n",
    "\n",
    "    return predicted_sentence"
   ]
  },
  {
   "cell_type": "code",
   "execution_count": 373,
   "id": "cf70d2d1",
   "metadata": {},
   "outputs": [
    {
     "name": "stdout",
     "output_type": "stream",
     "text": [
      "입력: 안녕하세요\n",
      "출력: 이제 는 는 는 는 는 는 는 는 는 는 는 는 는 는 는 는 는 는 는 는 는 는 는 는 \n"
     ]
    },
    {
     "data": {
      "text/plain": [
       "'이제 는 는 는 는 는 는 는 는 는 는 는 는 는 는 는 는 는 는 는 는 는 는 는 는 '"
      ]
     },
     "execution_count": 373,
     "metadata": {},
     "output_type": "execute_result"
    }
   ],
   "source": [
    "Q1('안녕하세요')"
   ]
  },
  {
   "cell_type": "code",
   "execution_count": 374,
   "id": "987831a4",
   "metadata": {},
   "outputs": [
    {
     "name": "stdout",
     "output_type": "stream",
     "text": [
      "입력: 오늘 저녁은 뭐야\n",
      "출력: 인 더  .는  .는  .는  .는  .는  .는  .는  .는  .는  .는  .는 \n"
     ]
    },
    {
     "data": {
      "text/plain": [
       "'인 더  .는  .는  .는  .는  .는  .는  .는  .는  .는  .는  .는 '"
      ]
     },
     "execution_count": 374,
     "metadata": {},
     "output_type": "execute_result"
    }
   ],
   "source": [
    "Q1('오늘 저녁은 뭐야')"
   ]
  },
  {
   "cell_type": "markdown",
   "id": "15731a2a",
   "metadata": {},
   "source": [
    "## 모델의 구조와 학습 단계 캡처"
   ]
  },
  {
   "attachments": {
    "image-2.png": {
     "image/png": "[encoded data removed]"
    },
    "image.png": {
     "image/png": "[encoded data removed]"
    }
   },
   "cell_type": "markdown",
   "id": "7ede110c",
   "metadata": {},
   "source": [
    "![image.png](attachment:image.png)\n",
    "\n",
    "![image-2.png](attachment:image-2.png)"
   ]
  },
  {
   "cell_type": "markdown",
   "id": "ef1887d2",
   "metadata": {},
   "source": [
    "## 직접 구현하려니까 너무 어렵네요.."
   ]
  },
  {
   "cell_type": "code",
   "execution_count": 346,
   "id": "db3193ce",
   "metadata": {},
   "outputs": [
    {
     "name": "stdout",
     "output_type": "stream",
     "text": [
      "원본 문장: 오늘 저녁은 뭐야\n",
      "인코딩된 토큰: [76, 6284, 33, 641]\n",
      "디코딩된 문장: 오늘 저녁은 뭐야\n"
     ]
    }
   ],
   "source": [
    "# 예시 문장\n",
    "sentence = '오늘 저녁은 뭐야'\n",
    "\n",
    "# 토큰화 확인\n",
    "encoded = tokenizer.encode(sentence)\n",
    "decoded = tokenizer.decode(encoded)\n",
    "\n",
    "print('원본 문장:', sentence)\n",
    "print('인코딩된 토큰:', encoded)\n",
    "print('디코딩된 문장:', decoded)"
   ]
  },
  {
   "cell_type": "code",
   "execution_count": 348,
   "id": "6abe7a16",
   "metadata": {},
   "outputs": [
    {
     "name": "stdout",
     "output_type": "stream",
     "text": [
      "입력 시퀀스 샘플: [8161 7900 4201 3052   42 8163 3838   74 7882    1 8162    0    0    0\n",
      "    0    0    0    0    0    0    0    0    0    0]\n",
      "타겟 시퀀스 샘플: [7900 4201 3052   42 8163 3838   74 7882    1 8162    0    0    0    0\n",
      "    0    0    0    0    0    0    0    0    0    0]\n"
     ]
    }
   ],
   "source": [
    "print('입력 시퀀스 샘플:', x[0])\n",
    "print('타겟 시퀀스 샘플:', y[0])"
   ]
  },
  {
   "cell_type": "code",
   "execution_count": 353,
   "id": "3e160092",
   "metadata": {},
   "outputs": [],
   "source": [
    "def evaluate_debug(sentence):\n",
    "    sentence = preprocess_sentence(sentence)\n",
    "    input_ids = START_TOKEN + tokenizer.encode(sentence) + SEP_TOKEN\n",
    "    input_ids = tf.expand_dims(input_ids, axis=0)  # (1, seq_len)\n",
    "\n",
    "    output = input_ids  # 초기 입력 시퀀스\n",
    "\n",
    "    for i in range(MAX_LENGTH):\n",
    "        predictions = model(output, training=False)  # (1, seq_len, vocab_size)\n",
    "        predictions = predictions[:, -1, :]  # (1, vocab_size)\n",
    "\n",
    "        predicted_id = tf.argmax(predictions, axis=-1, output_type=tf.int32)  # (1,)\n",
    "\n",
    "        if predicted_id == END_TOKEN[0]:\n",
    "            break\n",
    "\n",
    "        output = tf.concat([output, tf.expand_dims(predicted_id, 0)], axis=-1)  # (1, seq_len)\n",
    "\n",
    "    predicted_sequence = output.numpy()[0]\n",
    "    print('전체 생성된 시퀀스:', predicted_sequence)\n",
    "    predicted_sequence = predicted_sequence[len(input_ids[0]):]  # 입력 부분 제외\n",
    "\n",
    "    return predicted_sequence"
   ]
  },
  {
   "cell_type": "code",
   "execution_count": 354,
   "id": "15bbc7e2",
   "metadata": {},
   "outputs": [
    {
     "name": "stdout",
     "output_type": "stream",
     "text": [
      "전체 생성된 시퀀스: [8161   76 6284   33  641 8163 8163  172    7    1   10    1   10    1\n",
      "   10    1   10    1   10    1   10    1   10    1   10    1   10    1\n",
      "   10    1   10]\n",
      "예측된 문장: 인 더  .는  .는  .는  .는  .는  .는  .는  .는  .는  .는  .는 \n"
     ]
    }
   ],
   "source": [
    "prediction = evaluate_debug('오늘 저녁은 뭐야')\n",
    "predicted_sentence = tokenizer.decode(\n",
    "    [i for i in prediction if i < tokenizer.vocab_size])\n",
    "\n",
    "print('예측된 문장:', predicted_sentence)"
   ]
  },
  {
   "cell_type": "code",
   "execution_count": null,
   "id": "fc81f1cd",
   "metadata": {},
   "outputs": [],
   "source": []
  }
 ],
 "metadata": {
  "kernelspec": {
   "display_name": "Python 3 (ipykernel)",
   "language": "python",
   "name": "python3"
  },
  "language_info": {
   "codemirror_mode": {
    "name": "ipython",
    "version": 3
   },
   "file_extension": ".py",
   "mimetype": "text/x-python",
   "name": "python",
   "nbconvert_exporter": "python",
   "pygments_lexer": "ipython3",
   "version": "3.9.7"
  }
 },
 "nbformat": 4,
 "nbformat_minor": 5
}
