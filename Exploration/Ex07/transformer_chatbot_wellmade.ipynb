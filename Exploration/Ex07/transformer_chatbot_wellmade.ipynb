{
 "cells": [
  {
   "cell_type": "markdown",
   "id": "30ce5059",
   "metadata": {},
   "source": [
    "# 00. 라이브러리 로드"
   ]
  },
  {
   "cell_type": "code",
   "execution_count": 353,
   "id": "6ca38f85",
   "metadata": {},
   "outputs": [],
   "source": [
    "import pandas as pd\n",
    "import numpy as np\n",
    "import matplotlib.pyplot as plt\n",
    "import re\n",
    "import time\n",
    "import tensorflow_datasets as tfds\n",
    "import tensorflow as tf"
   ]
  },
  {
   "cell_type": "markdown",
   "id": "de96e851",
   "metadata": {},
   "source": [
    "# 01. Transformer 구조 함수 정의"
   ]
  },
  {
   "cell_type": "markdown",
   "id": "22fb09b3",
   "metadata": {},
   "source": [
    "### Transformer  \n",
    "├── **Input Processing**  \n",
    "│   ├── Positional Encoding Layer  \n",
    "│   ├── Padding Mask  \n",
    "│   └── Look-ahead Mask  \n",
    "├── **Attention Mechanism**  \n",
    "│   ├── Scaled Dot Product Attention  \n",
    "│   └── Multi-Head Attention  \n",
    "├── **Encoder**  \n",
    "│   ├── Encoder Layer  \n",
    "│   │   ├── Multi-Head Attention (Self-Attention)  \n",
    "│   │   ├── Feed Forward Network  \n",
    "│   │   └── Add & Norm (Residual + Layer Normalization)  \n",
    "│   └── Stacking Encoder Layers  \n",
    "├── **Decoder**  \n",
    "│   ├── Decoder Layer  \n",
    "│   │   ├── Masked Multi-Head Attention (Self-Attention)  \n",
    "│   │   ├── Encoder-Decoder Attention  \n",
    "│   │   ├── Feed Forward Network  \n",
    "│   │   └── Add & Norm (Residual + Layer Normalization)  \n",
    "│   └── Stacking Decoder Layers  \n",
    "└── **Output Layer**  \n",
    "    └── Final Linear Layer + Softmax  "
   ]
  },
  {
   "cell_type": "markdown",
   "id": "a75751bf",
   "metadata": {},
   "source": [
    "## Input Processing"
   ]
  },
  {
   "cell_type": "code",
   "execution_count": 354,
   "id": "ae23fd81",
   "metadata": {},
   "outputs": [],
   "source": [
    "# 포지셔널 인코딩 레이어\n",
    "class PositionalEncoding(tf.keras.layers.Layer):\n",
    "\n",
    "  def __init__(self, position, d_model):\n",
    "    super(PositionalEncoding, self).__init__()\n",
    "    self.pos_encoding = self.positional_encoding(position, d_model)\n",
    "\n",
    "  def get_angles(self, position, i, d_model):\n",
    "    angles = 1 / tf.pow(10000, (2 * (i // 2)) / tf.cast(d_model, tf.float32))\n",
    "    return position * angles\n",
    "\n",
    "  def positional_encoding(self, position, d_model):\n",
    "    # 각도 배열 생성\n",
    "    angle_rads = self.get_angles(\n",
    "        position=tf.range(position, dtype=tf.float32)[:, tf.newaxis],\n",
    "        i=tf.range(d_model, dtype=tf.float32)[tf.newaxis, :],\n",
    "        d_model=d_model)\n",
    "\n",
    "    # 배열의 짝수 인덱스에는 sin 함수 적용\n",
    "    sines = tf.math.sin(angle_rads[:, 0::2])\n",
    "    # 배열의 홀수 인덱스에는 cosine 함수 적용\n",
    "    cosines = tf.math.cos(angle_rads[:, 1::2])\n",
    "\n",
    "    # sin과 cosine이 교차되도록 재배열\n",
    "    pos_encoding = tf.stack([sines, cosines], axis=0)\n",
    "    pos_encoding = tf.transpose(pos_encoding,[1, 2, 0]) \n",
    "    pos_encoding = tf.reshape(pos_encoding, [position, d_model])\n",
    "\n",
    "    pos_encoding = pos_encoding[tf.newaxis, ...]\n",
    "    return tf.cast(pos_encoding, tf.float32)\n",
    "\n",
    "  def call(self, inputs):\n",
    "    return inputs + self.pos_encoding[:, :tf.shape(inputs)[1], :]\n",
    "\n",
    "# Padding Mask 구현\n",
    "def create_padding_mask(x):\n",
    "  mask = tf.cast(tf.math.equal(x, 0), tf.float32)\n",
    "  # (batch_size, 1, 1, sequence length)\n",
    "  return mask[:, tf.newaxis, tf.newaxis, :]\n",
    "\n",
    "# Look-ahead Mask 구현\n",
    "def create_look_ahead_mask(x):\n",
    "  seq_len = tf.shape(x)[1]\n",
    "  look_ahead_mask = 1 - tf.linalg.band_part(tf.ones((seq_len, seq_len)), -1, 0)\n",
    "  padding_mask = create_padding_mask(x)\n",
    "  return tf.maximum(look_ahead_mask, padding_mask)"
   ]
  },
  {
   "cell_type": "markdown",
   "id": "4450b831",
   "metadata": {},
   "source": [
    "## Attention Mechanism"
   ]
  },
  {
   "cell_type": "code",
   "execution_count": 355,
   "id": "b684f95f",
   "metadata": {},
   "outputs": [],
   "source": [
    "# 스케일드 닷 프로덕트 어텐션 함수\n",
    "def scaled_dot_product_attention(query, key, value, mask):\n",
    "  # 어텐션 가중치는 Q와 K의 닷 프로덕트\n",
    "  matmul_qk = tf.matmul(query, key, transpose_b=True)\n",
    "\n",
    "  # 가중치를 정규화\n",
    "  depth = tf.cast(tf.shape(key)[-1], tf.float32)\n",
    "  logits = matmul_qk / tf.math.sqrt(depth)\n",
    "\n",
    "  # 패딩에 마스크 추가\n",
    "  if mask is not None:\n",
    "    logits += (mask * -1e9)\n",
    "\n",
    "  # softmax적용\n",
    "  attention_weights = tf.nn.softmax(logits, axis=-1)\n",
    "\n",
    "  # 최종 어텐션은 가중치와 V의 닷 프로덕트\n",
    "  output = tf.matmul(attention_weights, value)\n",
    "  return output"
   ]
  },
  {
   "cell_type": "code",
   "execution_count": 356,
   "id": "f18cfe1c",
   "metadata": {},
   "outputs": [],
   "source": [
    "class MultiHeadAttention(tf.keras.layers.Layer):\n",
    "\n",
    "  def __init__(self, d_model, num_heads, name=\"multi_head_attention\"):\n",
    "    super(MultiHeadAttention, self).__init__(name=name)\n",
    "    self.num_heads = num_heads\n",
    "    self.d_model = d_model\n",
    "\n",
    "    assert d_model % self.num_heads == 0\n",
    "\n",
    "    self.depth = d_model // self.num_heads\n",
    "\n",
    "    self.query_dense = tf.keras.layers.Dense(units=d_model)\n",
    "    self.key_dense = tf.keras.layers.Dense(units=d_model)\n",
    "    self.value_dense = tf.keras.layers.Dense(units=d_model)\n",
    "\n",
    "    self.dense = tf.keras.layers.Dense(units=d_model)\n",
    "\n",
    "  def split_heads(self, inputs, batch_size):\n",
    "    inputs = tf.reshape(\n",
    "        inputs, shape=(batch_size, -1, self.num_heads, self.depth))\n",
    "    return tf.transpose(inputs, perm=[0, 2, 1, 3])\n",
    "\n",
    "  def call(self, inputs):\n",
    "    query, key, value, mask = inputs['query'], inputs['key'], inputs[\n",
    "        'value'], inputs['mask']\n",
    "    batch_size = tf.shape(query)[0]\n",
    "\n",
    "    # Q, K, V에 각각 Dense를 적용합니다\n",
    "    query = self.query_dense(query)\n",
    "    key = self.key_dense(key)\n",
    "    value = self.value_dense(value)\n",
    "\n",
    "    # 병렬 연산을 위한 머리를 여러 개 만듭니다\n",
    "    query = self.split_heads(query, batch_size)\n",
    "    key = self.split_heads(key, batch_size)\n",
    "    value = self.split_heads(value, batch_size)\n",
    "\n",
    "    # 스케일드 닷 프로덕트 어텐션 함수\n",
    "    scaled_attention = scaled_dot_product_attention(query, key, value, mask)\n",
    "\n",
    "    scaled_attention = tf.transpose(scaled_attention, perm=[0, 2, 1, 3])\n",
    "\n",
    "    # 어텐션 연산 후에 각 결과를 다시 연결(concatenate)합니다\n",
    "    concat_attention = tf.reshape(scaled_attention,\n",
    "                                  (batch_size, -1, self.d_model))\n",
    "\n",
    "    # 최종 결과에도 Dense를 한 번 더 적용합니다\n",
    "    outputs = self.dense(concat_attention)\n",
    "\n",
    "    return outputs"
   ]
  },
  {
   "cell_type": "markdown",
   "id": "1988dbd3",
   "metadata": {},
   "source": [
    "## Encoder"
   ]
  },
  {
   "cell_type": "code",
   "execution_count": 357,
   "id": "2b284e29",
   "metadata": {},
   "outputs": [],
   "source": [
    "# 인코더 하나의 레이어를 함수로 구현.\n",
    "# 이 하나의 레이어 안에는 두 개의 서브 레이어가 존재합니다.\n",
    "def encoder_layer(units, d_model, num_heads, dropout, name=\"encoder_layer\"):\n",
    "  inputs = tf.keras.Input(shape=(None, d_model), name=\"inputs\")\n",
    "\n",
    "  # 패딩 마스크 사용\n",
    "  padding_mask = tf.keras.Input(shape=(1, 1, None), name=\"padding_mask\")\n",
    "\n",
    "  # 첫 번째 서브 레이어 : 멀티 헤드 어텐션 수행 (셀프 어텐션)\n",
    "  attention = MultiHeadAttention(\n",
    "      d_model, num_heads, name=\"attention\")({\n",
    "          'query': inputs,\n",
    "          'key': inputs,\n",
    "          'value': inputs,\n",
    "          'mask': padding_mask\n",
    "      })\n",
    "\n",
    "  # 어텐션의 결과는 Dropout과 Layer Normalization이라는 훈련을 돕는 테크닉을 수행\n",
    "  attention = tf.keras.layers.Dropout(rate=dropout)(attention)\n",
    "  attention = tf.keras.layers.LayerNormalization(\n",
    "      epsilon=1e-6)(inputs + attention)\n",
    "\n",
    "  # 두 번째 서브 레이어 : 2개의 완전연결층\n",
    "  outputs = tf.keras.layers.Dense(units=units, activation='relu')(attention)\n",
    "  outputs = tf.keras.layers.Dense(units=d_model)(outputs)\n",
    "\n",
    "  # 완전연결층의 결과는 Dropout과 LayerNormalization이라는 훈련을 돕는 테크닉을 수행\n",
    "  outputs = tf.keras.layers.Dropout(rate=dropout)(outputs)\n",
    "  outputs = tf.keras.layers.LayerNormalization(\n",
    "      epsilon=1e-6)(attention + outputs)\n",
    "\n",
    "  return tf.keras.Model(\n",
    "      inputs=[inputs, padding_mask], outputs=outputs, name=name)"
   ]
  },
  {
   "cell_type": "code",
   "execution_count": 358,
   "id": "04a7808d",
   "metadata": {},
   "outputs": [],
   "source": [
    "# Encoder layer * N개 쌓기\n",
    "def encoder(vocab_size,\n",
    "            num_layers,\n",
    "            units,\n",
    "            d_model,\n",
    "            num_heads,\n",
    "            dropout,\n",
    "            name=\"encoder\"):\n",
    "  inputs = tf.keras.Input(shape=(None,), name=\"inputs\")\n",
    "\n",
    "  # 패딩 마스크 사용\n",
    "  padding_mask = tf.keras.Input(shape=(1, 1, None), name=\"padding_mask\")\n",
    "\n",
    "  # 임베딩 레이어\n",
    "  embeddings = tf.keras.layers.Embedding(vocab_size, d_model)(inputs)\n",
    "  embeddings *= tf.math.sqrt(tf.cast(d_model, tf.float32))\n",
    "\n",
    "  # 포지셔널 인코딩\n",
    "  embeddings = PositionalEncoding(vocab_size, d_model)(embeddings)\n",
    "\n",
    "  outputs = tf.keras.layers.Dropout(rate=dropout)(embeddings)\n",
    "\n",
    "  # num_layers만큼 쌓아올린 인코더의 층.\n",
    "  for i in range(num_layers):\n",
    "    outputs = encoder_layer(\n",
    "        units=units,\n",
    "        d_model=d_model,\n",
    "        num_heads=num_heads,\n",
    "        dropout=dropout,\n",
    "        name=\"encoder_layer_{}\".format(i),\n",
    "    )([outputs, padding_mask])\n",
    "\n",
    "  return tf.keras.Model(\n",
    "      inputs=[inputs, padding_mask], outputs=outputs, name=name)"
   ]
  },
  {
   "cell_type": "markdown",
   "id": "38235b32",
   "metadata": {},
   "source": [
    "## Decoder"
   ]
  },
  {
   "cell_type": "code",
   "execution_count": 359,
   "id": "d5025cd7",
   "metadata": {},
   "outputs": [],
   "source": [
    "# 디코더 하나의 레이어를 함수로 구현.\n",
    "# 이 하나의 레이어 안에는 세 개의 서브 레이어가 존재합니다.\n",
    "def decoder_layer(units, d_model, num_heads, dropout, name=\"decoder_layer\"):\n",
    "  inputs = tf.keras.Input(shape=(None, d_model), name=\"inputs\")\n",
    "  enc_outputs = tf.keras.Input(shape=(None, d_model), name=\"encoder_outputs\")\n",
    "  look_ahead_mask = tf.keras.Input(\n",
    "      shape=(1, None, None), name=\"look_ahead_mask\")\n",
    "  padding_mask = tf.keras.Input(shape=(1, 1, None), name='padding_mask')\n",
    "\n",
    "  # 첫 번째 서브 레이어 : 멀티 헤드 어텐션 수행 (셀프 어텐션)\n",
    "  attention1 = MultiHeadAttention(\n",
    "      d_model, num_heads, name=\"attention_1\")(inputs={\n",
    "          'query': inputs,\n",
    "          'key': inputs,\n",
    "          'value': inputs,\n",
    "          'mask': look_ahead_mask\n",
    "      })\n",
    "\n",
    "  # 멀티 헤드 어텐션의 결과는 LayerNormalization이라는 훈련을 돕는 테크닉을 수행\n",
    "  attention1 = tf.keras.layers.LayerNormalization(\n",
    "      epsilon=1e-6)(attention1 + inputs)\n",
    "\n",
    "  # 두 번째 서브 레이어 : 마스크드 멀티 헤드 어텐션 수행 (인코더-디코더 어텐션)\n",
    "  attention2 = MultiHeadAttention(\n",
    "      d_model, num_heads, name=\"attention_2\")(inputs={\n",
    "          'query': attention1,\n",
    "          'key': enc_outputs,\n",
    "          'value': enc_outputs,\n",
    "          'mask': padding_mask\n",
    "      })\n",
    "\n",
    "  # 마스크드 멀티 헤드 어텐션의 결과는\n",
    "  # Dropout과 LayerNormalization이라는 훈련을 돕는 테크닉을 수행\n",
    "  attention2 = tf.keras.layers.Dropout(rate=dropout)(attention2)\n",
    "  attention2 = tf.keras.layers.LayerNormalization(\n",
    "      epsilon=1e-6)(attention2 + attention1)\n",
    "\n",
    "  # 세 번째 서브 레이어 : 2개의 완전연결층\n",
    "  outputs = tf.keras.layers.Dense(units=units, activation='relu')(attention2)\n",
    "  outputs = tf.keras.layers.Dense(units=d_model)(outputs)\n",
    "\n",
    "  # 완전연결층의 결과는 Dropout과 LayerNormalization 수행\n",
    "  outputs = tf.keras.layers.Dropout(rate=dropout)(outputs)\n",
    "  outputs = tf.keras.layers.LayerNormalization(\n",
    "      epsilon=1e-6)(outputs + attention2)\n",
    "\n",
    "  return tf.keras.Model(\n",
    "      inputs=[inputs, enc_outputs, look_ahead_mask, padding_mask],\n",
    "      outputs=outputs,\n",
    "      name=name)"
   ]
  },
  {
   "cell_type": "code",
   "execution_count": 360,
   "id": "d52a5901",
   "metadata": {},
   "outputs": [],
   "source": [
    "# Decoder layer * N개 쌓기\n",
    "def decoder(vocab_size,\n",
    "            num_layers,\n",
    "            units,\n",
    "            d_model,\n",
    "            num_heads,\n",
    "            dropout,\n",
    "            name='decoder'):\n",
    "  inputs = tf.keras.Input(shape=(None,), name='inputs')\n",
    "  enc_outputs = tf.keras.Input(shape=(None, d_model), name='encoder_outputs')\n",
    "  look_ahead_mask = tf.keras.Input(\n",
    "      shape=(1, None, None), name='look_ahead_mask')\n",
    "\n",
    "  # 패딩 마스크\n",
    "  padding_mask = tf.keras.Input(shape=(1, 1, None), name='padding_mask')\n",
    "  \n",
    "  # 임베딩 레이어\n",
    "  embeddings = tf.keras.layers.Embedding(vocab_size, d_model)(inputs)\n",
    "  embeddings *= tf.math.sqrt(tf.cast(d_model, tf.float32))\n",
    "\n",
    "  # 포지셔널 인코딩\n",
    "  embeddings = PositionalEncoding(vocab_size, d_model)(embeddings)\n",
    "\n",
    "  # Dropout이라는 훈련을 돕는 테크닉을 수행\n",
    "  outputs = tf.keras.layers.Dropout(rate=dropout)(embeddings)\n",
    "\n",
    "  for i in range(num_layers):\n",
    "    outputs = decoder_layer(\n",
    "        units=units,\n",
    "        d_model=d_model,\n",
    "        num_heads=num_heads,\n",
    "        dropout=dropout,\n",
    "        name='decoder_layer_{}'.format(i),\n",
    "    )(inputs=[outputs, enc_outputs, look_ahead_mask, padding_mask])\n",
    "\n",
    "  return tf.keras.Model(\n",
    "      inputs=[inputs, enc_outputs, look_ahead_mask, padding_mask],\n",
    "      outputs=outputs,\n",
    "      name=name)"
   ]
  },
  {
   "cell_type": "markdown",
   "id": "9a4ce0e4",
   "metadata": {},
   "source": [
    "# 02. 데이터 불러오기"
   ]
  },
  {
   "cell_type": "code",
   "execution_count": 361,
   "id": "2e07ef14",
   "metadata": {},
   "outputs": [
    {
     "data": {
      "text/html": [
       "<div>\n",
       "<style scoped>\n",
       "    .dataframe tbody tr th:only-of-type {\n",
       "        vertical-align: middle;\n",
       "    }\n",
       "\n",
       "    .dataframe tbody tr th {\n",
       "        vertical-align: top;\n",
       "    }\n",
       "\n",
       "    .dataframe thead th {\n",
       "        text-align: right;\n",
       "    }\n",
       "</style>\n",
       "<table border=\"1\" class=\"dataframe\">\n",
       "  <thead>\n",
       "    <tr style=\"text-align: right;\">\n",
       "      <th></th>\n",
       "      <th>Q</th>\n",
       "      <th>A</th>\n",
       "      <th>label</th>\n",
       "    </tr>\n",
       "  </thead>\n",
       "  <tbody>\n",
       "    <tr>\n",
       "      <th>0</th>\n",
       "      <td>12시 땡!</td>\n",
       "      <td>하루가 또 가네요.</td>\n",
       "      <td>0</td>\n",
       "    </tr>\n",
       "    <tr>\n",
       "      <th>1</th>\n",
       "      <td>1지망 학교 떨어졌어</td>\n",
       "      <td>위로해 드립니다.</td>\n",
       "      <td>0</td>\n",
       "    </tr>\n",
       "    <tr>\n",
       "      <th>2</th>\n",
       "      <td>3박4일 놀러가고 싶다</td>\n",
       "      <td>여행은 언제나 좋죠.</td>\n",
       "      <td>0</td>\n",
       "    </tr>\n",
       "    <tr>\n",
       "      <th>3</th>\n",
       "      <td>3박4일 정도 놀러가고 싶다</td>\n",
       "      <td>여행은 언제나 좋죠.</td>\n",
       "      <td>0</td>\n",
       "    </tr>\n",
       "    <tr>\n",
       "      <th>4</th>\n",
       "      <td>PPL 심하네</td>\n",
       "      <td>눈살이 찌푸려지죠.</td>\n",
       "      <td>0</td>\n",
       "    </tr>\n",
       "  </tbody>\n",
       "</table>\n",
       "</div>"
      ],
      "text/plain": [
       "                 Q            A  label\n",
       "0           12시 땡!   하루가 또 가네요.      0\n",
       "1      1지망 학교 떨어졌어    위로해 드립니다.      0\n",
       "2     3박4일 놀러가고 싶다  여행은 언제나 좋죠.      0\n",
       "3  3박4일 정도 놀러가고 싶다  여행은 언제나 좋죠.      0\n",
       "4          PPL 심하네   눈살이 찌푸려지죠.      0"
      ]
     },
     "execution_count": 361,
     "metadata": {},
     "output_type": "execute_result"
    }
   ],
   "source": [
    "## 파일 로드\n",
    "chat_path = \"~/aiffel/transformer_chatbot/data/ChatbotData .csv\"\n",
    "data = pd.read_csv(chat_path)\n",
    "data.head()"
   ]
  },
  {
   "cell_type": "code",
   "execution_count": 362,
   "id": "c51c5c63",
   "metadata": {},
   "outputs": [
    {
     "name": "stdout",
     "output_type": "stream",
     "text": [
      "챗봇 샘플의 개수 : 11823 \n",
      "\n",
      "Null 값 확인\n",
      " Q        0\n",
      "A        0\n",
      "label    0\n",
      "dtype: int64\n"
     ]
    }
   ],
   "source": [
    "# 샘플 개수와 null 값 확인\n",
    "print('챗봇 샘플의 개수 :', len(data),'\\n')\n",
    "print('Null 값 확인\\n',data.isnull().sum())"
   ]
  },
  {
   "cell_type": "markdown",
   "id": "e7683e4a",
   "metadata": {},
   "source": [
    "# 03. 데이터 전처리"
   ]
  },
  {
   "cell_type": "code",
   "execution_count": 363,
   "id": "9282585d",
   "metadata": {},
   "outputs": [],
   "source": [
    "# 전처리 함수\n",
    "def preprocess_sentence(sentence):\n",
    "    # 입력받은 sentence 양쪽 공백을 제거\n",
    "    sentence = sentence.strip()\n",
    "    # 단어와 구두점 사이의 거리 생성\n",
    "    sentence = re.sub(r\"([?.!,])\", r\" \\1 \", sentence)\n",
    "    # 여러 공백을 하나의 공백으로 변환\n",
    "    sentence = re.sub(r'[\" \"]+', \" \", sentence)\n",
    "    # 한글, 숫자, 구두점(?, ., !, ,)을 제외한 모든 문자를 공백으로 대체\n",
    "    sentence = re.sub(r\"[^ㄱ-ㅎ가-힣0-9?.!,]\", \" \", sentence)\n",
    "    # 양쪽 공백을 제거하고 최종 결과 반환\n",
    "    sentence = sentence.strip()\n",
    "\n",
    "    return sentence"
   ]
  },
  {
   "cell_type": "code",
   "execution_count": 364,
   "id": "8ba24dec",
   "metadata": {},
   "outputs": [],
   "source": [
    "# 전처리 적용 및 Q, A 분리\n",
    "questions =[]\n",
    "answers=[]\n",
    "for idx, row in data.iterrows():\n",
    "    questions.append(preprocess_sentence(row['Q']))\n",
    "    answers.append(preprocess_sentence(row['A']))"
   ]
  },
  {
   "cell_type": "code",
   "execution_count": 365,
   "id": "9a88f4fd",
   "metadata": {},
   "outputs": [
    {
     "name": "stderr",
     "output_type": "stream",
     "text": [
      "INFO:absl:SubwordTextEncoder build: trying min_token_count 6695\n",
      "INFO:absl:SubwordTextEncoder build: trying min_token_count 3347\n",
      "INFO:absl:SubwordTextEncoder build: trying min_token_count 1673\n",
      "INFO:absl:SubwordTextEncoder build: trying min_token_count 836\n",
      "INFO:absl:SubwordTextEncoder build: trying min_token_count 418\n",
      "INFO:absl:SubwordTextEncoder build: trying min_token_count 209\n",
      "INFO:absl:SubwordTextEncoder build: trying min_token_count 104\n",
      "INFO:absl:SubwordTextEncoder build: trying min_token_count 52\n",
      "INFO:absl:SubwordTextEncoder build: trying min_token_count 26\n",
      "INFO:absl:SubwordTextEncoder build: trying min_token_count 13\n",
      "INFO:absl:SubwordTextEncoder build: trying min_token_count 6\n",
      "INFO:absl:SubwordTextEncoder build: trying min_token_count 3\n",
      "INFO:absl:SubwordTextEncoder build: trying min_token_count 4\n"
     ]
    }
   ],
   "source": [
    "# 질문과 답변 데이터 셋에 대해서 Vocabulary 생성\n",
    "tokenizer = tfds.deprecated.text.SubwordTextEncoder.build_from_corpus(\n",
    "    questions + answers, target_vocab_size=2**13)\n",
    "\n",
    "# 시작 토큰과 종료 토큰에 고유한 정수를 부여합니다.\n",
    "START_TOKEN, END_TOKEN = [tokenizer.vocab_size], [tokenizer.vocab_size + 1]\n",
    "\n",
    "# 시작 토큰과 종료 토큰을 고려하여 단어 집합의 크기를 + 2\n",
    "VOCAB_SIZE = tokenizer.vocab_size + 2"
   ]
  },
  {
   "cell_type": "code",
   "execution_count": 366,
   "id": "d8e78d9d",
   "metadata": {},
   "outputs": [
    {
     "name": "stdout",
     "output_type": "stream",
     "text": [
      "시작 토큰 번호 : [8161]\n",
      "종료 토큰 번호 : [8162]\n",
      "단어 집합의 크기 : 8163\n"
     ]
    }
   ],
   "source": [
    "print('시작 토큰 번호 :',START_TOKEN)\n",
    "print('종료 토큰 번호 :',END_TOKEN)\n",
    "print('단어 집합의 크기 :',VOCAB_SIZE)"
   ]
  },
  {
   "cell_type": "code",
   "execution_count": 367,
   "id": "fd195c72",
   "metadata": {},
   "outputs": [
    {
     "data": {
      "image/png": "[encoded data removed]",
      "text/plain": [
       "<Figure size 720x432 with 4 Axes>"
      ]
     },
     "metadata": {
      "needs_background": "light"
     },
     "output_type": "display_data"
    }
   ],
   "source": [
    "import matplotlib.pyplot as plt\n",
    "\n",
    "# 각 문장의 길이를 계산하는 함수\n",
    "def calculate_sentence_length(sentences):\n",
    "    return [len(sentence.split()) for sentence in sentences]\n",
    "\n",
    "# 질문과 답변의 길이 계산\n",
    "question_lengths = calculate_sentence_length(questions)\n",
    "answer_lengths = calculate_sentence_length(answers)\n",
    "\n",
    "# 길이 시각화\n",
    "plt.figure(figsize=(10, 6))\n",
    "\n",
    "# 질문 길이 분포 히스토그램\n",
    "plt.subplot(2, 2, 1)\n",
    "plt.hist(question_lengths, bins=20, color='blue', alpha=0.7)\n",
    "plt.title('Question Length')\n",
    "plt.xlabel('Length')\n",
    "plt.ylabel('Questions')\n",
    "\n",
    "# 답변 길이 분포 히스토그램\n",
    "plt.subplot(2, 2, 2)\n",
    "plt.hist(answer_lengths, bins=20, color='green', alpha=0.7)\n",
    "plt.title('Answer Length')\n",
    "plt.xlabel('Length')\n",
    "plt.ylabel('Answers')\n",
    "\n",
    "# 질문 길이 박스플롯\n",
    "plt.subplot(2, 2, 3)\n",
    "plt.boxplot(question_lengths, patch_artist=True, boxprops=dict(facecolor='lightblue'))\n",
    "plt.title('Question Length')\n",
    "plt.xlabel('Questions')\n",
    "plt.ylabel('Length')\n",
    "\n",
    "# 답변 길이 박스플롯\n",
    "plt.subplot(2, 2, 4)\n",
    "plt.boxplot(answer_lengths, patch_artist=True, boxprops=dict(facecolor='lightgreen'))\n",
    "plt.title('Answer Length')\n",
    "plt.xlabel('Answers')\n",
    "plt.ylabel('Length')\n",
    "\n",
    "plt.tight_layout()\n",
    "plt.show()"
   ]
  },
  {
   "cell_type": "code",
   "execution_count": 368,
   "id": "f28422e6",
   "metadata": {},
   "outputs": [],
   "source": [
    "# 패딩을 진행하고자 정의 -> 마스킹이 진행되므로 우선은 데이터의 가장 이상치인 30로 설정\n",
    "MAX_LENGTH = 15\n",
    "\n",
    "# 토큰화 / 정수 인코딩 / 시작 토큰과 종료 토큰 추가 / 패딩 함수화\n",
    "def tokenize_and_filter(inputs, outputs):\n",
    "  tokenized_inputs, tokenized_outputs = [], []\n",
    "\n",
    "  for (sentence1, sentence2) in zip(inputs, outputs):\n",
    "    # encode(토큰화 + 정수 인코딩), 시작 토큰과 종료 토큰 추가\n",
    "    sentence1 = START_TOKEN + tokenizer.encode(sentence1) + END_TOKEN\n",
    "    sentence2 = START_TOKEN + tokenizer.encode(sentence2) + END_TOKEN\n",
    "    \n",
    "    # 최대 길이 30 이하인 경우에만 데이터셋으로 허용\n",
    "    if len(sentence1) <= MAX_LENGTH and len(sentence2) <= MAX_LENGTH:\n",
    "        tokenized_inputs.append(sentence1)\n",
    "        tokenized_outputs.append(sentence2)\n",
    "\n",
    "  # 패딩 -> post로 적용\n",
    "  tokenized_inputs = tf.keras.preprocessing.sequence.pad_sequences(\n",
    "      tokenized_inputs, maxlen=MAX_LENGTH, padding='post')\n",
    "  tokenized_outputs = tf.keras.preprocessing.sequence.pad_sequences(\n",
    "      tokenized_outputs, maxlen=MAX_LENGTH, padding='post')\n",
    "\n",
    "  return tokenized_inputs, tokenized_outputs"
   ]
  },
  {
   "cell_type": "code",
   "execution_count": 369,
   "id": "362e8e92",
   "metadata": {},
   "outputs": [
    {
     "name": "stdout",
     "output_type": "stream",
     "text": [
      "단어장의 크기 : 8163\n",
      "질문 데이터의 크기(shape) : (11570, 15)\n",
      "답변 데이터의 크기(shape) : (11570, 15)\n"
     ]
    }
   ],
   "source": [
    "questions, answers = tokenize_and_filter(questions, answers)\n",
    "\n",
    "print('단어장의 크기 :',(VOCAB_SIZE))\n",
    "print('질문 데이터의 크기(shape) :', questions.shape)\n",
    "print('답변 데이터의 크기(shape) :', answers.shape)"
   ]
  },
  {
   "cell_type": "code",
   "execution_count": 370,
   "id": "d5c05e62",
   "metadata": {},
   "outputs": [],
   "source": [
    "BATCH_SIZE = 64\n",
    "BUFFER_SIZE = 20000\n",
    "\n",
    "# 디코더의 실제값 시퀀스에서는 시작 토큰을 제거해야 한다.\n",
    "dataset = tf.data.Dataset.from_tensor_slices((\n",
    "    {\n",
    "        'inputs': questions,\n",
    "        'dec_inputs': answers[:, :-1] # 디코더의 입력. 마지막 패딩 토큰이 제거된다.\n",
    "    },\n",
    "    {\n",
    "        'outputs': answers[:, 1:]  # 맨 처음 토큰이 제거된다. 다시 말해 시작 토큰이 제거된다.\n",
    "    },\n",
    "))\n",
    "\n",
    "dataset = dataset.cache()\n",
    "dataset = dataset.shuffle(BUFFER_SIZE)\n",
    "dataset = dataset.batch(BATCH_SIZE)\n",
    "dataset = dataset.prefetch(tf.data.experimental.AUTOTUNE)"
   ]
  },
  {
   "cell_type": "markdown",
   "id": "324e3a1a",
   "metadata": {},
   "source": [
    "# 05. Transformer 모델 생성"
   ]
  },
  {
   "cell_type": "code",
   "execution_count": 371,
   "id": "cb8c5d84",
   "metadata": {},
   "outputs": [],
   "source": [
    "def transformer(vocab_size,\n",
    "                num_layers,\n",
    "                units,\n",
    "                d_model,\n",
    "                num_heads,\n",
    "                dropout,\n",
    "                name=\"transformer\"):\n",
    "  inputs = tf.keras.Input(shape=(None,), name=\"inputs\")\n",
    "  dec_inputs = tf.keras.Input(shape=(None,), name=\"dec_inputs\")\n",
    "\n",
    "  # 인코더에서 패딩을 위한 마스크\n",
    "  enc_padding_mask = tf.keras.layers.Lambda(\n",
    "      create_padding_mask, output_shape=(1, 1, None),\n",
    "      name='enc_padding_mask')(inputs)\n",
    "\n",
    "  # 디코더에서 미래의 토큰을 마스크 하기 위해서 사용합니다.\n",
    "  # 내부적으로 패딩 마스크도 포함되어져 있습니다.\n",
    "  look_ahead_mask = tf.keras.layers.Lambda(\n",
    "      create_look_ahead_mask,\n",
    "      output_shape=(1, None, None),\n",
    "      name='look_ahead_mask')(dec_inputs)\n",
    "\n",
    "  # 두 번째 어텐션 블록에서 인코더의 벡터들을 마스킹\n",
    "  # 디코더에서 패딩을 위한 마스크\n",
    "  dec_padding_mask = tf.keras.layers.Lambda(\n",
    "      create_padding_mask, output_shape=(1, 1, None),\n",
    "      name='dec_padding_mask')(inputs)\n",
    "\n",
    "  # 인코더\n",
    "  enc_outputs = encoder(\n",
    "      vocab_size=vocab_size,\n",
    "      num_layers=num_layers,\n",
    "      units=units,\n",
    "      d_model=d_model,\n",
    "      num_heads=num_heads,\n",
    "      dropout=dropout,\n",
    "  )(inputs=[inputs, enc_padding_mask])\n",
    "\n",
    "  # 디코더\n",
    "  dec_outputs = decoder(\n",
    "      vocab_size=vocab_size,\n",
    "      num_layers=num_layers,\n",
    "      units=units,\n",
    "      d_model=d_model,\n",
    "      num_heads=num_heads,\n",
    "      dropout=dropout,\n",
    "  )(inputs=[dec_inputs, enc_outputs, look_ahead_mask, dec_padding_mask])\n",
    "\n",
    "  # 완전연결층\n",
    "  outputs = tf.keras.layers.Dense(units=vocab_size, name=\"outputs\")(dec_outputs)\n",
    "\n",
    "  return tf.keras.Model(inputs=[inputs, dec_inputs], outputs=outputs, name=name)"
   ]
  },
  {
   "cell_type": "code",
   "execution_count": 372,
   "id": "ff9789f0",
   "metadata": {},
   "outputs": [
    {
     "name": "stdout",
     "output_type": "stream",
     "text": [
      "Model: \"transformer\"\n",
      "__________________________________________________________________________________________________\n",
      "Layer (type)                    Output Shape         Param #     Connected to                     \n",
      "==================================================================================================\n",
      "inputs (InputLayer)             [(None, None)]       0                                            \n",
      "__________________________________________________________________________________________________\n",
      "dec_inputs (InputLayer)         [(None, None)]       0                                            \n",
      "__________________________________________________________________________________________________\n",
      "enc_padding_mask (Lambda)       (None, 1, 1, None)   0           inputs[0][0]                     \n",
      "__________________________________________________________________________________________________\n",
      "encoder (Functional)            (None, None, 256)    4198144     inputs[0][0]                     \n",
      "                                                                 enc_padding_mask[0][0]           \n",
      "__________________________________________________________________________________________________\n",
      "look_ahead_mask (Lambda)        (None, 1, None, None 0           dec_inputs[0][0]                 \n",
      "__________________________________________________________________________________________________\n",
      "dec_padding_mask (Lambda)       (None, 1, 1, None)   0           inputs[0][0]                     \n",
      "__________________________________________________________________________________________________\n",
      "decoder (Functional)            (None, None, 256)    5252864     dec_inputs[0][0]                 \n",
      "                                                                 encoder[0][0]                    \n",
      "                                                                 look_ahead_mask[0][0]            \n",
      "                                                                 dec_padding_mask[0][0]           \n",
      "__________________________________________________________________________________________________\n",
      "outputs (Dense)                 (None, None, 8163)   2097891     decoder[0][0]                    \n",
      "==================================================================================================\n",
      "Total params: 11,548,899\n",
      "Trainable params: 11,548,899\n",
      "Non-trainable params: 0\n",
      "__________________________________________________________________________________________________\n"
     ]
    }
   ],
   "source": [
    "# 하이퍼 파라미터 조정을 통한 모델 정의\n",
    "\n",
    "tf.keras.backend.clear_session()\n",
    "\n",
    "# 하이퍼파라미터\n",
    "NUM_LAYERS = 4 # 인코더와 디코더의 층의 개수\n",
    "D_MODEL = 256 # 인코더와 디코더 내부의 입, 출력의 고정 차원\n",
    "NUM_HEADS = 8 # 멀티 헤드 어텐션에서의 헤드 수 \n",
    "UNITS = 512 # 피드 포워드 신경망의 은닉층의 크기\n",
    "DROPOUT = 0.2 # 드롭아웃의 비율\n",
    "\n",
    "model = transformer(\n",
    "    vocab_size=VOCAB_SIZE,\n",
    "    num_layers=NUM_LAYERS,\n",
    "    units=UNITS,\n",
    "    d_model=D_MODEL,\n",
    "    num_heads=NUM_HEADS,\n",
    "    dropout=DROPOUT)\n",
    "\n",
    "model.summary()"
   ]
  },
  {
   "cell_type": "code",
   "execution_count": 373,
   "id": "d29c61f3",
   "metadata": {},
   "outputs": [],
   "source": [
    "# Loss fuction -> 시퀀스에 패딩이 되어 있으므로 패딩 적용\n",
    "def loss_function(y_true, y_pred):\n",
    "  y_true = tf.reshape(y_true, shape=(-1, MAX_LENGTH - 1))\n",
    "  \n",
    "  loss = tf.keras.losses.SparseCategoricalCrossentropy(\n",
    "      from_logits=True, reduction='none')(y_true, y_pred)\n",
    "\n",
    "  mask = tf.cast(tf.not_equal(y_true, 0), tf.float32)\n",
    "  loss = tf.multiply(loss, mask)\n",
    "\n",
    "  return tf.reduce_mean(loss)"
   ]
  },
  {
   "cell_type": "code",
   "execution_count": 374,
   "id": "e9d96b5f",
   "metadata": {},
   "outputs": [],
   "source": [
    "# custom learning rate\n",
    "class CustomSchedule(tf.keras.optimizers.schedules.LearningRateSchedule):\n",
    "\n",
    "  def __init__(self, d_model, warmup_steps=4000):\n",
    "    super(CustomSchedule, self).__init__()\n",
    "\n",
    "    self.d_model = d_model\n",
    "    self.d_model = tf.cast(self.d_model, tf.float32)\n",
    "\n",
    "    self.warmup_steps = warmup_steps\n",
    "\n",
    "  def __call__(self, step):\n",
    "    arg1 = tf.math.rsqrt(step)\n",
    "    arg2 = step * (self.warmup_steps**-1.5)\n",
    "\n",
    "    return tf.math.rsqrt(self.d_model) * tf.math.minimum(arg1, arg2)"
   ]
  },
  {
   "cell_type": "code",
   "execution_count": 375,
   "id": "ed8c8187",
   "metadata": {},
   "outputs": [],
   "source": [
    "# 학습률과 옵티마이저를 정의하고 모델 컴파일\n",
    "\n",
    "learning_rate = CustomSchedule(D_MODEL)\n",
    "\n",
    "\n",
    "optimizer = tf.keras.optimizers.Adam(\n",
    "    learning_rate, beta_1=0.9, beta_2=0.98, epsilon=1e-9)\n",
    "\n",
    "def accuracy(y_true, y_pred):\n",
    "  # 레이블의 크기는 (batch_size, MAX_LENGTH - 1)\n",
    "  y_true = tf.reshape(y_true, shape=(-1, MAX_LENGTH - 1))\n",
    "  return tf.keras.metrics.sparse_categorical_accuracy(y_true, y_pred)\n",
    "\n",
    "model.compile(optimizer=optimizer, loss=loss_function, metrics=[accuracy])"
   ]
  },
  {
   "cell_type": "markdown",
   "id": "96b9f3e0",
   "metadata": {},
   "source": [
    "# 05. Transformer 모델 학습"
   ]
  },
  {
   "cell_type": "code",
   "execution_count": 376,
   "id": "9fef0b7b",
   "metadata": {},
   "outputs": [
    {
     "name": "stdout",
     "output_type": "stream",
     "text": [
      "Epoch 1/80\n",
      "181/181 [==============================] - 20s 52ms/step - loss: 3.9424 - accuracy: 0.0582\n",
      "Epoch 2/80\n",
      "181/181 [==============================] - 9s 51ms/step - loss: 3.2321 - accuracy: 0.1170\n",
      "Epoch 3/80\n",
      "181/181 [==============================] - 9s 52ms/step - loss: 2.7633 - accuracy: 0.1392\n",
      "Epoch 4/80\n",
      "181/181 [==============================] - 9s 51ms/step - loss: 2.5818 - accuracy: 0.1448\n",
      "Epoch 5/80\n",
      "181/181 [==============================] - 9s 52ms/step - loss: 2.4739 - accuracy: 0.1511\n",
      "Epoch 6/80\n",
      "181/181 [==============================] - 9s 52ms/step - loss: 2.3810 - accuracy: 0.1561\n",
      "Epoch 7/80\n",
      "181/181 [==============================] - 9s 51ms/step - loss: 2.2863 - accuracy: 0.1608\n",
      "Epoch 8/80\n",
      "181/181 [==============================] - 9s 52ms/step - loss: 2.1806 - accuracy: 0.1669\n",
      "Epoch 9/80\n",
      "181/181 [==============================] - 10s 53ms/step - loss: 2.0579 - accuracy: 0.1762\n",
      "Epoch 10/80\n",
      "181/181 [==============================] - 9s 52ms/step - loss: 1.9248 - accuracy: 0.1877\n",
      "Epoch 11/80\n",
      "181/181 [==============================] - 9s 51ms/step - loss: 1.7785 - accuracy: 0.2008\n",
      "Epoch 12/80\n",
      "181/181 [==============================] - 9s 52ms/step - loss: 1.6266 - accuracy: 0.2173\n",
      "Epoch 13/80\n",
      "181/181 [==============================] - 9s 51ms/step - loss: 1.4783 - accuracy: 0.2345\n",
      "Epoch 14/80\n",
      "181/181 [==============================] - 9s 52ms/step - loss: 1.3347 - accuracy: 0.2518\n",
      "Epoch 15/80\n",
      "181/181 [==============================] - 9s 52ms/step - loss: 1.2011 - accuracy: 0.2692\n",
      "Epoch 16/80\n",
      "181/181 [==============================] - 9s 52ms/step - loss: 1.0803 - accuracy: 0.2856\n",
      "Epoch 17/80\n",
      "181/181 [==============================] - 9s 52ms/step - loss: 0.9786 - accuracy: 0.2974\n",
      "Epoch 18/80\n",
      "181/181 [==============================] - 9s 52ms/step - loss: 0.8949 - accuracy: 0.3087\n",
      "Epoch 19/80\n",
      "181/181 [==============================] - 9s 52ms/step - loss: 0.8219 - accuracy: 0.3185\n",
      "Epoch 20/80\n",
      "181/181 [==============================] - 9s 51ms/step - loss: 0.7652 - accuracy: 0.3269\n",
      "Epoch 21/80\n",
      "181/181 [==============================] - 9s 52ms/step - loss: 0.7239 - accuracy: 0.3330\n",
      "Epoch 22/80\n",
      "181/181 [==============================] - 9s 51ms/step - loss: 0.6853 - accuracy: 0.3390\n",
      "Epoch 23/80\n",
      "181/181 [==============================] - 9s 51ms/step - loss: 0.6543 - accuracy: 0.3430\n",
      "Epoch 24/80\n",
      "181/181 [==============================] - 9s 51ms/step - loss: 0.6135 - accuracy: 0.3497\n",
      "Epoch 25/80\n",
      "181/181 [==============================] - 9s 51ms/step - loss: 0.5777 - accuracy: 0.3553\n",
      "Epoch 26/80\n",
      "181/181 [==============================] - 9s 51ms/step - loss: 0.5461 - accuracy: 0.3602\n",
      "Epoch 27/80\n",
      "181/181 [==============================] - 9s 52ms/step - loss: 0.5207 - accuracy: 0.3632\n",
      "Epoch 28/80\n",
      "181/181 [==============================] - 9s 51ms/step - loss: 0.4932 - accuracy: 0.3677\n",
      "Epoch 29/80\n",
      "181/181 [==============================] - 9s 51ms/step - loss: 0.4657 - accuracy: 0.3722\n",
      "Epoch 30/80\n",
      "181/181 [==============================] - 9s 51ms/step - loss: 0.4481 - accuracy: 0.3749\n",
      "Epoch 31/80\n",
      "181/181 [==============================] - 9s 51ms/step - loss: 0.4302 - accuracy: 0.3768\n",
      "Epoch 32/80\n",
      "181/181 [==============================] - 9s 52ms/step - loss: 0.4114 - accuracy: 0.3810\n",
      "Epoch 33/80\n",
      "181/181 [==============================] - 9s 52ms/step - loss: 0.3925 - accuracy: 0.3840\n",
      "Epoch 34/80\n",
      "181/181 [==============================] - 9s 52ms/step - loss: 0.3759 - accuracy: 0.3870\n",
      "Epoch 35/80\n",
      "181/181 [==============================] - 9s 52ms/step - loss: 0.3603 - accuracy: 0.3897\n",
      "Epoch 36/80\n",
      "181/181 [==============================] - 9s 51ms/step - loss: 0.3475 - accuracy: 0.3920\n",
      "Epoch 37/80\n",
      "181/181 [==============================] - 9s 51ms/step - loss: 0.3339 - accuracy: 0.3952\n",
      "Epoch 38/80\n",
      "181/181 [==============================] - 9s 51ms/step - loss: 0.3197 - accuracy: 0.3976\n",
      "Epoch 39/80\n",
      "181/181 [==============================] - 9s 51ms/step - loss: 0.3090 - accuracy: 0.3990\n",
      "Epoch 40/80\n",
      "181/181 [==============================] - 9s 51ms/step - loss: 0.2980 - accuracy: 0.4016\n",
      "Epoch 41/80\n",
      "181/181 [==============================] - 9s 52ms/step - loss: 0.2896 - accuracy: 0.4036\n",
      "Epoch 42/80\n",
      "181/181 [==============================] - 9s 51ms/step - loss: 0.2766 - accuracy: 0.4058\n",
      "Epoch 43/80\n",
      "181/181 [==============================] - 9s 52ms/step - loss: 0.2657 - accuracy: 0.4083\n",
      "Epoch 44/80\n",
      "181/181 [==============================] - 9s 51ms/step - loss: 0.2597 - accuracy: 0.4094\n",
      "Epoch 45/80\n",
      "181/181 [==============================] - 9s 51ms/step - loss: 0.2505 - accuracy: 0.4116\n",
      "Epoch 46/80\n",
      "181/181 [==============================] - 9s 52ms/step - loss: 0.2406 - accuracy: 0.4138\n",
      "Epoch 47/80\n",
      "181/181 [==============================] - 9s 51ms/step - loss: 0.2355 - accuracy: 0.4146\n",
      "Epoch 48/80\n",
      "181/181 [==============================] - 9s 51ms/step - loss: 0.2286 - accuracy: 0.4165\n",
      "Epoch 49/80\n",
      "181/181 [==============================] - 9s 51ms/step - loss: 0.2211 - accuracy: 0.4183\n",
      "Epoch 50/80\n",
      "181/181 [==============================] - 9s 51ms/step - loss: 0.2135 - accuracy: 0.4197\n",
      "Epoch 51/80\n",
      "181/181 [==============================] - 9s 51ms/step - loss: 0.2108 - accuracy: 0.4208\n",
      "Epoch 52/80\n",
      "181/181 [==============================] - 9s 52ms/step - loss: 0.2000 - accuracy: 0.4235\n",
      "Epoch 53/80\n",
      "181/181 [==============================] - 9s 51ms/step - loss: 0.1977 - accuracy: 0.4231\n",
      "Epoch 54/80\n",
      "181/181 [==============================] - 9s 52ms/step - loss: 0.1882 - accuracy: 0.4259\n",
      "Epoch 55/80\n",
      "181/181 [==============================] - 9s 52ms/step - loss: 0.1826 - accuracy: 0.4273\n",
      "Epoch 56/80\n",
      "181/181 [==============================] - 9s 51ms/step - loss: 0.1785 - accuracy: 0.4283\n",
      "Epoch 57/80\n",
      "181/181 [==============================] - 9s 51ms/step - loss: 0.1715 - accuracy: 0.4300\n",
      "Epoch 58/80\n",
      "181/181 [==============================] - 9s 51ms/step - loss: 0.1690 - accuracy: 0.4308\n",
      "Epoch 59/80\n",
      "181/181 [==============================] - 9s 51ms/step - loss: 0.1659 - accuracy: 0.4310\n",
      "Epoch 60/80\n",
      "181/181 [==============================] - 9s 51ms/step - loss: 0.1600 - accuracy: 0.4327\n",
      "Epoch 61/80\n",
      "181/181 [==============================] - 9s 51ms/step - loss: 0.1583 - accuracy: 0.4329\n",
      "Epoch 62/80\n",
      "181/181 [==============================] - 9s 51ms/step - loss: 0.1544 - accuracy: 0.4339\n",
      "Epoch 63/80\n",
      "181/181 [==============================] - 9s 51ms/step - loss: 0.1481 - accuracy: 0.4357\n",
      "Epoch 64/80\n",
      "181/181 [==============================] - 9s 52ms/step - loss: 0.1459 - accuracy: 0.4359\n",
      "Epoch 65/80\n",
      "181/181 [==============================] - 9s 51ms/step - loss: 0.1424 - accuracy: 0.4367\n",
      "Epoch 66/80\n",
      "181/181 [==============================] - 9s 52ms/step - loss: 0.1383 - accuracy: 0.4383\n",
      "Epoch 67/80\n",
      "181/181 [==============================] - 10s 53ms/step - loss: 0.1381 - accuracy: 0.4382\n",
      "Epoch 68/80\n",
      "181/181 [==============================] - 10s 53ms/step - loss: 0.1315 - accuracy: 0.4400\n",
      "Epoch 69/80\n",
      "181/181 [==============================] - 10s 53ms/step - loss: 0.1299 - accuracy: 0.4401\n",
      "Epoch 70/80\n",
      "181/181 [==============================] - 9s 52ms/step - loss: 0.1242 - accuracy: 0.4415\n",
      "Epoch 71/80\n",
      "181/181 [==============================] - 9s 51ms/step - loss: 0.1211 - accuracy: 0.4423\n",
      "Epoch 72/80\n",
      "181/181 [==============================] - 9s 51ms/step - loss: 0.1209 - accuracy: 0.4424\n",
      "Epoch 73/80\n",
      "181/181 [==============================] - 9s 51ms/step - loss: 0.1165 - accuracy: 0.4433\n",
      "Epoch 74/80\n",
      "181/181 [==============================] - 9s 50ms/step - loss: 0.1156 - accuracy: 0.4436\n",
      "Epoch 75/80\n",
      "181/181 [==============================] - 9s 51ms/step - loss: 0.1121 - accuracy: 0.4447\n",
      "Epoch 76/80\n",
      "181/181 [==============================] - 9s 51ms/step - loss: 0.1104 - accuracy: 0.4453\n",
      "Epoch 77/80\n",
      "181/181 [==============================] - 9s 51ms/step - loss: 0.1074 - accuracy: 0.4461\n",
      "Epoch 78/80\n",
      "181/181 [==============================] - 9s 52ms/step - loss: 0.1048 - accuracy: 0.4470\n",
      "Epoch 79/80\n",
      "181/181 [==============================] - 9s 52ms/step - loss: 0.1030 - accuracy: 0.4476\n",
      "Epoch 80/80\n",
      "181/181 [==============================] - 9s 52ms/step - loss: 0.1001 - accuracy: 0.4480\n"
     ]
    }
   ],
   "source": [
    "# 모델 학습\n",
    "EPOCHS = 80\n",
    "\n",
    "history = model.fit(\n",
    "    dataset,\n",
    "    epochs=EPOCHS\n",
    ")"
   ]
  },
  {
   "cell_type": "markdown",
   "id": "76cdc1f1",
   "metadata": {},
   "source": [
    "# 06. 모델 평가하기 - 정성적 평가"
   ]
  },
  {
   "cell_type": "code",
   "execution_count": 377,
   "id": "9a39238c",
   "metadata": {},
   "outputs": [],
   "source": [
    "# 트랜스 포머 모델에 전처리가 진행된 사용자의 입력을 전달하여 단어 예측 수행\n",
    "def evaluate(sentence):\n",
    "  # 입력 문장에 대한 전처리\n",
    "  sentence = preprocess_sentence(sentence)\n",
    "\n",
    "  # 입력 문장에 시작 토큰과 종료 토큰을 추가\n",
    "  sentence = tf.expand_dims(\n",
    "      START_TOKEN + tokenizer.encode(sentence) + END_TOKEN, axis=0)\n",
    "\n",
    "  output = tf.expand_dims(START_TOKEN, 0)\n",
    "\n",
    "  # 디코더의 예측 시작\n",
    "  for i in range(MAX_LENGTH):\n",
    "    predictions = model(inputs=[sentence, output], training=False)\n",
    "\n",
    "    # 현재 시점의 예측 단어를 받아온다.\n",
    "    predictions = predictions[:, -1:, :]\n",
    "    predicted_id = tf.cast(tf.argmax(predictions, axis=-1), tf.int32)\n",
    "\n",
    "    # 만약 현재 시점의 예측 단어가 종료 토큰이라면 예측을 중단\n",
    "    if tf.equal(predicted_id, END_TOKEN[0]):\n",
    "      break\n",
    "\n",
    "    # 현재 시점의 예측 단어를 output(출력)에 연결한다.\n",
    "    # output은 for문의 다음 루프에서 디코더의 입력이 된다.\n",
    "    output = tf.concat([output, predicted_id], axis=-1)\n",
    "\n",
    "  # 단어 예측이 모두 끝났다면 output을 리턴.\n",
    "  return tf.squeeze(output, axis=0)"
   ]
  },
  {
   "cell_type": "code",
   "execution_count": 378,
   "id": "e93ea304",
   "metadata": {},
   "outputs": [],
   "source": [
    "# 예측 수행한 결과를 출력하는 함수\n",
    "def Q1(sentence):\n",
    "  prediction = evaluate(sentence)\n",
    "\n",
    "  # prediction == 디코더가 리턴한 챗봇의 대답에 해당하는 정수 시퀀스\n",
    "  # tokenizer.decode()를 통해 정수 시퀀스를 문자열로 디코딩.\n",
    "  predicted_sentence = tokenizer.decode(\n",
    "      [i for i in prediction if i < tokenizer.vocab_size])\n",
    "\n",
    "  print('입력: {}'.format(sentence))\n",
    "  print('출력: {}'.format(predicted_sentence))\n",
    "\n",
    "  return predicted_sentence"
   ]
  },
  {
   "cell_type": "code",
   "execution_count": 379,
   "id": "aa4e7b01",
   "metadata": {},
   "outputs": [
    {
     "name": "stdout",
     "output_type": "stream",
     "text": [
      "입력: 안녕하세요\n",
      "출력: 안녕하세요 .\n"
     ]
    },
    {
     "data": {
      "text/plain": [
       "'안녕하세요 .'"
      ]
     },
     "execution_count": 379,
     "metadata": {},
     "output_type": "execute_result"
    }
   ],
   "source": [
    "Q1('안녕하세요')"
   ]
  },
  {
   "cell_type": "code",
   "execution_count": 380,
   "id": "8cc387e5",
   "metadata": {},
   "outputs": [
    {
     "name": "stdout",
     "output_type": "stream",
     "text": [
      "입력: 밥 먹었어?\n",
      "출력: 저는 배터리가 밥이예요 .\n"
     ]
    },
    {
     "data": {
      "text/plain": [
       "'저는 배터리가 밥이예요 .'"
      ]
     },
     "execution_count": 380,
     "metadata": {},
     "output_type": "execute_result"
    }
   ],
   "source": [
    "Q1('밥 먹었어?')"
   ]
  },
  {
   "cell_type": "code",
   "execution_count": 381,
   "id": "06779c23",
   "metadata": {},
   "outputs": [
    {
     "name": "stdout",
     "output_type": "stream",
     "text": [
      "입력: 저녁은 뭐 먹을까?\n",
      "출력: 맛있는 거 드세요 .\n"
     ]
    },
    {
     "data": {
      "text/plain": [
       "'맛있는 거 드세요 .'"
      ]
     },
     "execution_count": 381,
     "metadata": {},
     "output_type": "execute_result"
    }
   ],
   "source": [
    "Q1('저녁은 뭐 먹을까?')"
   ]
  },
  {
   "cell_type": "code",
   "execution_count": 382,
   "id": "cf959fdc",
   "metadata": {},
   "outputs": [
    {
     "name": "stdout",
     "output_type": "stream",
     "text": [
      "입력: 고민이 있어..\n",
      "출력: 잘 알아보고 사세요 .\n"
     ]
    },
    {
     "data": {
      "text/plain": [
       "'잘 알아보고 사세요 .'"
      ]
     },
     "execution_count": 382,
     "metadata": {},
     "output_type": "execute_result"
    }
   ],
   "source": [
    "Q1('고민이 있어..')"
   ]
  },
  {
   "cell_type": "markdown",
   "id": "1e2e9b7b",
   "metadata": {},
   "source": [
    "### 결과 :  Epochs 수를 적당하게만 설정하였는데도 나쁘지 않은 성능을 보여준다. 정성적인 평가를 진행한 결과는 입력한 문장과 관련된 답변을 내뱉음과 동시에 깔끔한 문장의 맺음을 확인 할 수 있다. 그러나 한국어에 적응을 한 모델인가에 대한 아쉬움이 있다. 대화를 시도할 때 사람은 원하는 답변을 어느정도는 생각해두며 물어보려는 경향을 가질 것이라고 생각한다. 이러한 경향을 가진 사람이 답변을 받았을 때 만족도로 평가한다면 그리 높지는 않은 답변에 경우 일 것이다."
   ]
  },
  {
   "cell_type": "markdown",
   "id": "eca9091e",
   "metadata": {},
   "source": [
    "## 회고\n",
    "### 토큰은 범용적인 서브워드 텍스트 인코더를 사용하여 한국어 대화에 완전한 답변을 얻을 수 있는 경우가 생기는 것을 확인하였고 나름 만족스러웠다. 그러나 한국어에 형태와 관련된 완전한 학습을 진행하였나? 하는 의문이 드는 대답은 어느정도 있었다. 또한 검증과 정량적인 평가 지표를 어떻게 얻을 수 있을까에 대한 의문도 생겼다. 이러한 해결 방법에 대한 추가적인 고찰이 필요하다고 느꼈다."
   ]
  },
  {
   "cell_type": "markdown",
   "id": "a68a6bc7",
   "metadata": {},
   "source": [
    "# (번외) 07. 토크나이저 변경 - 시간 아깝다..ㅜ"
   ]
  },
  {
   "cell_type": "code",
   "execution_count": 396,
   "id": "e2739e5d",
   "metadata": {},
   "outputs": [
    {
     "name": "stdout",
     "output_type": "stream",
     "text": [
      "Requirement already satisfied: transformers in /opt/conda/lib/python3.9/site-packages (4.8.1)\n",
      "Requirement already satisfied: filelock in /opt/conda/lib/python3.9/site-packages (from transformers) (3.4.0)\n",
      "Requirement already satisfied: sacremoses in /opt/conda/lib/python3.9/site-packages (from transformers) (0.0.46)\n",
      "Requirement already satisfied: numpy>=1.17 in /opt/conda/lib/python3.9/site-packages (from transformers) (1.21.4)\n",
      "Requirement already satisfied: packaging in /opt/conda/lib/python3.9/site-packages (from transformers) (21.3)\n",
      "Requirement already satisfied: pyyaml in /opt/conda/lib/python3.9/site-packages (from transformers) (6.0)\n",
      "Requirement already satisfied: tokenizers<0.11,>=0.10.1 in /opt/conda/lib/python3.9/site-packages (from transformers) (0.10.3)\n",
      "Requirement already satisfied: requests in /opt/conda/lib/python3.9/site-packages (from transformers) (2.26.0)\n",
      "Requirement already satisfied: tqdm>=4.27 in /opt/conda/lib/python3.9/site-packages (from transformers) (4.62.3)\n",
      "Requirement already satisfied: huggingface-hub==0.0.12 in /opt/conda/lib/python3.9/site-packages (from transformers) (0.0.12)\n",
      "Requirement already satisfied: regex!=2019.12.17 in /opt/conda/lib/python3.9/site-packages (from transformers) (2021.11.10)\n",
      "Requirement already satisfied: typing-extensions in /opt/conda/lib/python3.9/site-packages (from huggingface-hub==0.0.12->transformers) (4.0.1)\n",
      "Requirement already satisfied: pyparsing!=3.0.5,>=2.0.2 in /opt/conda/lib/python3.9/site-packages (from packaging->transformers) (3.0.6)\n",
      "Requirement already satisfied: charset-normalizer~=2.0.0 in /opt/conda/lib/python3.9/site-packages (from requests->transformers) (2.0.8)\n",
      "Requirement already satisfied: idna<4,>=2.5 in /opt/conda/lib/python3.9/site-packages (from requests->transformers) (2.10)\n",
      "Requirement already satisfied: certifi>=2017.4.17 in /opt/conda/lib/python3.9/site-packages (from requests->transformers) (2021.10.8)\n",
      "Requirement already satisfied: urllib3<1.27,>=1.21.1 in /opt/conda/lib/python3.9/site-packages (from requests->transformers) (1.25.11)\n",
      "Requirement already satisfied: six in /opt/conda/lib/python3.9/site-packages (from sacremoses->transformers) (1.16.0)\n",
      "Requirement already satisfied: joblib in /opt/conda/lib/python3.9/site-packages (from sacremoses->transformers) (1.1.0)\n",
      "Requirement already satisfied: click in /opt/conda/lib/python3.9/site-packages (from sacremoses->transformers) (8.0.3)\n",
      "\u001b[33mWARNING: Running pip as the 'root' user can result in broken permissions and conflicting behaviour with the system package manager. It is recommended to use a virtual environment instead: https://pip.pypa.io/warnings/venv\u001b[0m\n",
      "Requirement already satisfied: gluonnlp in /opt/conda/lib/python3.9/site-packages (0.10.0)\n",
      "Requirement already satisfied: numpy>=1.16.0 in /opt/conda/lib/python3.9/site-packages (from gluonnlp) (1.21.4)\n",
      "Requirement already satisfied: cython in /opt/conda/lib/python3.9/site-packages (from gluonnlp) (0.29.24)\n",
      "Requirement already satisfied: packaging in /opt/conda/lib/python3.9/site-packages (from gluonnlp) (21.3)\n",
      "Requirement already satisfied: pyparsing!=3.0.5,>=2.0.2 in /opt/conda/lib/python3.9/site-packages (from packaging->gluonnlp) (3.0.6)\n",
      "\u001b[33mWARNING: Running pip as the 'root' user can result in broken permissions and conflicting behaviour with the system package manager. It is recommended to use a virtual environment instead: https://pip.pypa.io/warnings/venv\u001b[0m\n",
      "Collecting git+https://github.com/SKTBrain/KoBERT.git\n",
      "  Cloning https://github.com/SKTBrain/KoBERT.git to /tmp/pip-req-build-wqze0oo6\n",
      "  Running command git clone --filter=blob:none -q https://github.com/SKTBrain/KoBERT.git /tmp/pip-req-build-wqze0oo6\n",
      "  Resolved https://github.com/SKTBrain/KoBERT.git to commit 47a69af87928fc24e20f571fe10c3cc9dd9af9a3\n",
      "  Preparing metadata (setup.py) ... \u001b[?25ldone\n",
      "\u001b[?25hRequirement already satisfied: boto3<=1.15.18 in /opt/conda/lib/python3.9/site-packages (from kobert==0.2.3) (1.15.18)\n",
      "Requirement already satisfied: gluonnlp<=0.10.0,>=0.6.0 in /opt/conda/lib/python3.9/site-packages (from kobert==0.2.3) (0.10.0)\n",
      "Requirement already satisfied: mxnet<=1.7.0.post2,>=1.4.0 in /opt/conda/lib/python3.9/site-packages (from kobert==0.2.3) (1.7.0.post2)\n",
      "Requirement already satisfied: onnxruntime<=1.8.0,==1.8.0 in /opt/conda/lib/python3.9/site-packages (from kobert==0.2.3) (1.8.0)\n",
      "Requirement already satisfied: sentencepiece<=0.1.96,>=0.1.6 in /opt/conda/lib/python3.9/site-packages (from kobert==0.2.3) (0.1.96)\n",
      "Requirement already satisfied: torch<=1.10.1,>=1.7.0 in /opt/conda/lib/python3.9/site-packages (from kobert==0.2.3) (1.9.1+cu111)\n",
      "Requirement already satisfied: transformers<=4.8.1,>=4.8.1 in /opt/conda/lib/python3.9/site-packages (from kobert==0.2.3) (4.8.1)\n",
      "Requirement already satisfied: numpy>=1.16.6 in /opt/conda/lib/python3.9/site-packages (from onnxruntime<=1.8.0,==1.8.0->kobert==0.2.3) (1.21.4)\n",
      "Requirement already satisfied: protobuf in /opt/conda/lib/python3.9/site-packages (from onnxruntime<=1.8.0,==1.8.0->kobert==0.2.3) (3.19.1)\n",
      "Requirement already satisfied: flatbuffers in /opt/conda/lib/python3.9/site-packages (from onnxruntime<=1.8.0,==1.8.0->kobert==0.2.3) (1.12)\n",
      "Requirement already satisfied: jmespath<1.0.0,>=0.7.1 in /opt/conda/lib/python3.9/site-packages (from boto3<=1.15.18->kobert==0.2.3) (0.10.0)\n",
      "Requirement already satisfied: s3transfer<0.4.0,>=0.3.0 in /opt/conda/lib/python3.9/site-packages (from boto3<=1.15.18->kobert==0.2.3) (0.3.7)\n",
      "Requirement already satisfied: botocore<1.19.0,>=1.18.18 in /opt/conda/lib/python3.9/site-packages (from boto3<=1.15.18->kobert==0.2.3) (1.18.18)\n",
      "Requirement already satisfied: packaging in /opt/conda/lib/python3.9/site-packages (from gluonnlp<=0.10.0,>=0.6.0->kobert==0.2.3) (21.3)\n",
      "Requirement already satisfied: cython in /opt/conda/lib/python3.9/site-packages (from gluonnlp<=0.10.0,>=0.6.0->kobert==0.2.3) (0.29.24)\n",
      "Requirement already satisfied: graphviz<0.9.0,>=0.8.1 in /opt/conda/lib/python3.9/site-packages (from mxnet<=1.7.0.post2,>=1.4.0->kobert==0.2.3) (0.8.4)\n",
      "Requirement already satisfied: requests<3,>=2.20.0 in /opt/conda/lib/python3.9/site-packages (from mxnet<=1.7.0.post2,>=1.4.0->kobert==0.2.3) (2.26.0)\n",
      "Requirement already satisfied: typing-extensions in /opt/conda/lib/python3.9/site-packages (from torch<=1.10.1,>=1.7.0->kobert==0.2.3) (4.0.1)\n",
      "Requirement already satisfied: pyyaml in /opt/conda/lib/python3.9/site-packages (from transformers<=4.8.1,>=4.8.1->kobert==0.2.3) (6.0)\n",
      "Requirement already satisfied: tqdm>=4.27 in /opt/conda/lib/python3.9/site-packages (from transformers<=4.8.1,>=4.8.1->kobert==0.2.3) (4.62.3)\n",
      "Requirement already satisfied: regex!=2019.12.17 in /opt/conda/lib/python3.9/site-packages (from transformers<=4.8.1,>=4.8.1->kobert==0.2.3) (2021.11.10)\n",
      "Requirement already satisfied: tokenizers<0.11,>=0.10.1 in /opt/conda/lib/python3.9/site-packages (from transformers<=4.8.1,>=4.8.1->kobert==0.2.3) (0.10.3)\n",
      "Requirement already satisfied: filelock in /opt/conda/lib/python3.9/site-packages (from transformers<=4.8.1,>=4.8.1->kobert==0.2.3) (3.4.0)\n",
      "Requirement already satisfied: sacremoses in /opt/conda/lib/python3.9/site-packages (from transformers<=4.8.1,>=4.8.1->kobert==0.2.3) (0.0.46)\n",
      "Requirement already satisfied: huggingface-hub==0.0.12 in /opt/conda/lib/python3.9/site-packages (from transformers<=4.8.1,>=4.8.1->kobert==0.2.3) (0.0.12)\n",
      "Requirement already satisfied: urllib3<1.26,>=1.20 in /opt/conda/lib/python3.9/site-packages (from botocore<1.19.0,>=1.18.18->boto3<=1.15.18->kobert==0.2.3) (1.25.11)\n",
      "Requirement already satisfied: python-dateutil<3.0.0,>=2.1 in /opt/conda/lib/python3.9/site-packages (from botocore<1.19.0,>=1.18.18->boto3<=1.15.18->kobert==0.2.3) (2.8.2)\n",
      "Requirement already satisfied: pyparsing!=3.0.5,>=2.0.2 in /opt/conda/lib/python3.9/site-packages (from packaging->gluonnlp<=0.10.0,>=0.6.0->kobert==0.2.3) (3.0.6)\n",
      "Requirement already satisfied: idna<4,>=2.5 in /opt/conda/lib/python3.9/site-packages (from requests<3,>=2.20.0->mxnet<=1.7.0.post2,>=1.4.0->kobert==0.2.3) (2.10)\n",
      "Requirement already satisfied: certifi>=2017.4.17 in /opt/conda/lib/python3.9/site-packages (from requests<3,>=2.20.0->mxnet<=1.7.0.post2,>=1.4.0->kobert==0.2.3) (2021.10.8)\n",
      "Requirement already satisfied: charset-normalizer~=2.0.0 in /opt/conda/lib/python3.9/site-packages (from requests<3,>=2.20.0->mxnet<=1.7.0.post2,>=1.4.0->kobert==0.2.3) (2.0.8)\n",
      "Requirement already satisfied: joblib in /opt/conda/lib/python3.9/site-packages (from sacremoses->transformers<=4.8.1,>=4.8.1->kobert==0.2.3) (1.1.0)\n",
      "Requirement already satisfied: click in /opt/conda/lib/python3.9/site-packages (from sacremoses->transformers<=4.8.1,>=4.8.1->kobert==0.2.3) (8.0.3)\n",
      "Requirement already satisfied: six in /opt/conda/lib/python3.9/site-packages (from sacremoses->transformers<=4.8.1,>=4.8.1->kobert==0.2.3) (1.16.0)\n",
      "\u001b[33mWARNING: Running pip as the 'root' user can result in broken permissions and conflicting behaviour with the system package manager. It is recommended to use a virtual environment instead: https://pip.pypa.io/warnings/venv\u001b[0m\n"
     ]
    }
   ],
   "source": [
    "!pip install transformers\n",
    "!pip install gluonnlp\n",
    "!pip install git+https://github.com/SKTBrain/KoBERT.git\n",
    "\n",
    "from kobert import get_tokenizer\n",
    "from transformers import BertModel\n",
    "from gluonnlp.data import SentencepieceTokenizer"
   ]
  },
  {
   "cell_type": "code",
   "execution_count": 429,
   "id": "3afe0c22",
   "metadata": {},
   "outputs": [],
   "source": [
    "# 전처리 적용 및 Q, A 분리\n",
    "questions_a =[]\n",
    "answers_a=[]\n",
    "for idx, row in data.iterrows():\n",
    "    questions_a.append(preprocess_sentence(row['Q']))\n",
    "    answers_a.append(preprocess_sentence(row['A']))"
   ]
  },
  {
   "cell_type": "code",
   "execution_count": 430,
   "id": "79f10f22",
   "metadata": {},
   "outputs": [
    {
     "name": "stdout",
     "output_type": "stream",
     "text": [
      "using cached model. /aiffel/aiffel/transformer_chatbot/.cache/kobert_news_wiki_ko_cased-1087f8699e.spiece\n",
      "첫 번째 질문의 토큰화 결과: [2, '▁12', '시', '▁', '땡', '▁', '!', 3]\n",
      "첫 번째 답변의 토큰화 결과: [2, '▁하루', '가', '▁또', '▁', '가', '네요', '▁', '.', 3]\n"
     ]
    }
   ],
   "source": [
    "# KoBERT 토크나이저 가져오기\n",
    "tokenizer_path = get_tokenizer()\n",
    "sp_tokenizer = SentencepieceTokenizer(tokenizer_path)\n",
    "\n",
    "# KoBERT 토크나이저를 사용해 질문과 답변 데이터 토크나이징\n",
    "questions_tokenized_a = [sp_tokenizer(sentence) for sentence in questions_a]\n",
    "answers_tokenized_a = [sp_tokenizer(sentence) for sentence in answers_a]\n",
    "\n",
    "# KoBERT에서 시작 토큰과 종료 토큰을 추가하기 위한 설정\n",
    "START_TOKEN = [2]  # KoBERT에서 사용하는 CLS 토큰 ID\n",
    "END_TOKEN = [3]    # KoBERT에서 사용하는 SEP 토큰 ID\n",
    "\n",
    "# 시작 토큰과 종료 토큰을 각 질문과 답변에 추가\n",
    "questions_tokenized_a = [START_TOKEN + tokens + END_TOKEN for tokens in questions_tokenized_a]\n",
    "answers_tokenized_a = [START_TOKEN + tokens + END_TOKEN for tokens in answers_tokenized_a]\n",
    "\n",
    "# VOCAB_SIZE를 KoBERT 토크나이저 기반으로 설정\n",
    "VOCAB_SIZE = len(sp_tokenizer)\n",
    "\n",
    "# 예시: 첫 번째 질문 및 답변 토큰화 결과 출력\n",
    "print(\"첫 번째 질문의 토큰화 결과:\", questions_tokenized_a[0])\n",
    "print(\"첫 번째 답변의 토큰화 결과:\", answers_tokenized_a[0])"
   ]
  },
  {
   "cell_type": "code",
   "execution_count": 431,
   "id": "ef4e226a",
   "metadata": {},
   "outputs": [
    {
     "name": "stdout",
     "output_type": "stream",
     "text": [
      "시작 토큰 번호 : [8002]\n",
      "종료 토큰 번호 : [8003]\n",
      "단어 집합의 크기 : 8004\n"
     ]
    }
   ],
   "source": [
    "print('시작 토큰 번호 :',START_TOKEN_A)\n",
    "print('종료 토큰 번호 :',END_TOKEN_A)\n",
    "print('단어 집합의 크기 :',VOCAB_SIZE_A)"
   ]
  },
  {
   "cell_type": "code",
   "execution_count": 432,
   "id": "be0db9fe",
   "metadata": {},
   "outputs": [
    {
     "data": {
      "image/png": "[encoded data removed]",
      "text/plain": [
       "<Figure size 720x432 with 4 Axes>"
      ]
     },
     "metadata": {
      "needs_background": "light"
     },
     "output_type": "display_data"
    }
   ],
   "source": [
    "# 각 문장의 토큰 개수를 계산하는 함수\n",
    "def calculate_sentence_length(sentences):\n",
    "    return [len(sentence) for sentence in sentences]\n",
    "\n",
    "# 질문과 답변의 길이 계산\n",
    "question_lengths = calculate_sentence_length(questions_tokenized_a)\n",
    "answer_lengths = calculate_sentence_length(answers_tokenized_a)\n",
    "\n",
    "# 길이 시각화\n",
    "import matplotlib.pyplot as plt\n",
    "plt.figure(figsize=(10, 6))\n",
    "\n",
    "# 질문 길이 분포 히스토그램\n",
    "plt.subplot(2, 2, 1)\n",
    "plt.hist(question_lengths, bins=20, color='blue', alpha=0.7)\n",
    "plt.title('Question Length')\n",
    "plt.xlabel('Length')\n",
    "plt.ylabel('Questions')\n",
    "\n",
    "# 답변 길이 분포 히스토그램\n",
    "plt.subplot(2, 2, 2)\n",
    "plt.hist(answer_lengths, bins=20, color='green', alpha=0.7)\n",
    "plt.title('Answer Length')\n",
    "plt.xlabel('Length')\n",
    "plt.ylabel('Answers')\n",
    "\n",
    "# 질문 길이 박스플롯\n",
    "plt.subplot(2, 2, 3)\n",
    "plt.boxplot(question_lengths, patch_artist=True, boxprops=dict(facecolor='lightblue'))\n",
    "plt.title('Question Length')\n",
    "plt.xlabel('Questions')\n",
    "plt.ylabel('Length')\n",
    "\n",
    "# 답변 길이 박스플롯\n",
    "plt.subplot(2, 2, 4)\n",
    "plt.boxplot(answer_lengths, patch_artist=True, boxprops=dict(facecolor='lightgreen'))\n",
    "plt.title('Answer Length')\n",
    "plt.xlabel('Answers')\n",
    "plt.ylabel('Length')\n",
    "\n",
    "plt.tight_layout()\n",
    "plt.show()"
   ]
  },
  {
   "cell_type": "code",
   "execution_count": 433,
   "id": "7ba4fa4d",
   "metadata": {},
   "outputs": [
    {
     "name": "stdout",
     "output_type": "stream",
     "text": [
      "단어장의 크기 : 8002\n",
      "질문 데이터의 크기(shape) : 11338\n",
      "답변 데이터의 크기(shape) : 11338\n"
     ]
    }
   ],
   "source": [
    "# 패딩을 진행하고자 정의 -> 마스킹이 진행되므로 우선은 데이터의 가장 이상치인 30로 설정\n",
    "MAX_LENGTH = 20\n",
    "\n",
    "# Tokenize and filter 함수 구현\n",
    "def tokenize_and_filter(inputs, outputs):\n",
    "    tokenized_inputs, tokenized_outputs = [], []\n",
    "\n",
    "    for (sentence1, sentence2) in zip(inputs, outputs):\n",
    "        sentence1 = START_TOKEN + sp_tokenizer(sentence1) + END_TOKEN\n",
    "        sentence2 = START_TOKEN + sp_tokenizer(sentence2) + END_TOKEN\n",
    "\n",
    "        # 길이를 MAX_LENGTH로 제한\n",
    "        if len(sentence1) <= MAX_LENGTH and len(sentence2) <= MAX_LENGTH:\n",
    "            tokenized_inputs.append(sentence1)\n",
    "            tokenized_outputs.append(sentence2)\n",
    "\n",
    "    return tokenized_inputs, tokenized_outputs\n",
    "\n",
    "questions_a, answers_a = tokenize_and_filter(questions_a, answers_a)\n",
    "\n",
    "print('단어장의 크기 :', (VOCAB_SIZE))\n",
    "print('질문 데이터의 크기(shape) :', len(questions_a))\n",
    "print('답변 데이터의 크기(shape) :', len(answers_a))"
   ]
  },
  {
   "cell_type": "code",
   "execution_count": 435,
   "id": "0f2ba777",
   "metadata": {},
   "outputs": [
    {
     "ename": "TypeError",
     "evalue": "not a string",
     "output_type": "error",
     "traceback": [
      "\u001b[0;31m---------------------------------------------------------------------------\u001b[0m",
      "\u001b[0;31mTypeError\u001b[0m                                 Traceback (most recent call last)",
      "\u001b[0;32m/tmp/ipykernel_31/2756290747.py\u001b[0m in \u001b[0;36m<module>\u001b[0;34m\u001b[0m\n\u001b[1;32m     14\u001b[0m \u001b[0;34m\u001b[0m\u001b[0m\n\u001b[1;32m     15\u001b[0m \u001b[0;31m# 질문과 답변을 정수 ID로 변환\u001b[0m\u001b[0;34m\u001b[0m\u001b[0;34m\u001b[0m\u001b[0m\n\u001b[0;32m---> 16\u001b[0;31m \u001b[0mquestions_tokenized_a\u001b[0m \u001b[0;34m=\u001b[0m \u001b[0mtokenize_to_ids\u001b[0m\u001b[0;34m(\u001b[0m\u001b[0mquestions_a\u001b[0m\u001b[0;34m,\u001b[0m \u001b[0msp_tokenizer\u001b[0m\u001b[0;34m)\u001b[0m\u001b[0;34m\u001b[0m\u001b[0;34m\u001b[0m\u001b[0m\n\u001b[0m\u001b[1;32m     17\u001b[0m \u001b[0manswers_tokenized_a\u001b[0m \u001b[0;34m=\u001b[0m \u001b[0mtokenize_to_ids\u001b[0m\u001b[0;34m(\u001b[0m\u001b[0manswers_a\u001b[0m\u001b[0;34m,\u001b[0m \u001b[0msp_tokenizer\u001b[0m\u001b[0;34m)\u001b[0m\u001b[0;34m\u001b[0m\u001b[0;34m\u001b[0m\u001b[0m\n\u001b[1;32m     18\u001b[0m \u001b[0;34m\u001b[0m\u001b[0m\n",
      "\u001b[0;32m/tmp/ipykernel_31/2756290747.py\u001b[0m in \u001b[0;36mtokenize_to_ids\u001b[0;34m(sentences, sp_tokenizer)\u001b[0m\n\u001b[1;32m      9\u001b[0m     \u001b[0;32mfor\u001b[0m \u001b[0msentence\u001b[0m \u001b[0;32min\u001b[0m \u001b[0msentences\u001b[0m\u001b[0;34m:\u001b[0m\u001b[0;34m\u001b[0m\u001b[0;34m\u001b[0m\u001b[0m\n\u001b[1;32m     10\u001b[0m         \u001b[0;31m# 문장을 정수 ID로 변환\u001b[0m\u001b[0;34m\u001b[0m\u001b[0;34m\u001b[0m\u001b[0m\n\u001b[0;32m---> 11\u001b[0;31m         \u001b[0mtokens\u001b[0m \u001b[0;34m=\u001b[0m \u001b[0msp_tokenizer\u001b[0m\u001b[0;34m(\u001b[0m\u001b[0msentence\u001b[0m\u001b[0;34m)\u001b[0m\u001b[0;34m\u001b[0m\u001b[0;34m\u001b[0m\u001b[0m\n\u001b[0m\u001b[1;32m     12\u001b[0m         \u001b[0mtokenized_ids\u001b[0m\u001b[0;34m.\u001b[0m\u001b[0mappend\u001b[0m\u001b[0;34m(\u001b[0m\u001b[0mtokens\u001b[0m\u001b[0;34m)\u001b[0m\u001b[0;34m\u001b[0m\u001b[0;34m\u001b[0m\u001b[0m\n\u001b[1;32m     13\u001b[0m     \u001b[0;32mreturn\u001b[0m \u001b[0mtokenized_ids\u001b[0m\u001b[0;34m\u001b[0m\u001b[0;34m\u001b[0m\u001b[0m\n",
      "\u001b[0;32m/opt/conda/lib/python3.9/site-packages/gluonnlp/data/transforms.py\u001b[0m in \u001b[0;36m__call__\u001b[0;34m(self, sample)\u001b[0m\n\u001b[1;32m    558\u001b[0m             \u001b[0mList\u001b[0m \u001b[0mof\u001b[0m \u001b[0mtokens\u001b[0m\u001b[0;34m\u001b[0m\u001b[0;34m\u001b[0m\u001b[0m\n\u001b[1;32m    559\u001b[0m         \"\"\"\n\u001b[0;32m--> 560\u001b[0;31m         return self._processor.SampleEncodeAsPieces(sample, self._nbest,\n\u001b[0m\u001b[1;32m    561\u001b[0m                                                     self._alpha)\n\u001b[1;32m    562\u001b[0m \u001b[0;34m\u001b[0m\u001b[0m\n",
      "\u001b[0;32m/opt/conda/lib/python3.9/site-packages/sentencepiece/__init__.py\u001b[0m in \u001b[0;36mSampleEncodeAsPieces\u001b[0;34m(self, input, nbest_size, alpha)\u001b[0m\n\u001b[1;32m    109\u001b[0m \u001b[0;34m\u001b[0m\u001b[0m\n\u001b[1;32m    110\u001b[0m     \u001b[0;32mdef\u001b[0m \u001b[0mSampleEncodeAsPieces\u001b[0m\u001b[0;34m(\u001b[0m\u001b[0mself\u001b[0m\u001b[0;34m,\u001b[0m \u001b[0minput\u001b[0m\u001b[0;34m,\u001b[0m \u001b[0mnbest_size\u001b[0m\u001b[0;34m,\u001b[0m \u001b[0malpha\u001b[0m\u001b[0;34m)\u001b[0m\u001b[0;34m:\u001b[0m\u001b[0;34m\u001b[0m\u001b[0;34m\u001b[0m\u001b[0m\n\u001b[0;32m--> 111\u001b[0;31m         \u001b[0;32mreturn\u001b[0m \u001b[0m_sentencepiece\u001b[0m\u001b[0;34m.\u001b[0m\u001b[0mSentencePieceProcessor_SampleEncodeAsPieces\u001b[0m\u001b[0;34m(\u001b[0m\u001b[0mself\u001b[0m\u001b[0;34m,\u001b[0m \u001b[0minput\u001b[0m\u001b[0;34m,\u001b[0m \u001b[0mnbest_size\u001b[0m\u001b[0;34m,\u001b[0m \u001b[0malpha\u001b[0m\u001b[0;34m)\u001b[0m\u001b[0;34m\u001b[0m\u001b[0;34m\u001b[0m\u001b[0m\n\u001b[0m\u001b[1;32m    112\u001b[0m \u001b[0;34m\u001b[0m\u001b[0m\n\u001b[1;32m    113\u001b[0m     \u001b[0;32mdef\u001b[0m \u001b[0mSampleEncodeAsIds\u001b[0m\u001b[0;34m(\u001b[0m\u001b[0mself\u001b[0m\u001b[0;34m,\u001b[0m \u001b[0minput\u001b[0m\u001b[0;34m,\u001b[0m \u001b[0mnbest_size\u001b[0m\u001b[0;34m,\u001b[0m \u001b[0malpha\u001b[0m\u001b[0;34m)\u001b[0m\u001b[0;34m:\u001b[0m\u001b[0;34m\u001b[0m\u001b[0;34m\u001b[0m\u001b[0m\n",
      "\u001b[0;31mTypeError\u001b[0m: not a string"
     ]
    }
   ],
   "source": [
    "BATCH_SIZE_A = 32\n",
    "BUFFER_SIZE = 20000\n",
    "\n",
    "from tensorflow.keras.preprocessing.sequence import pad_sequences\n",
    "\n",
    "# KoBERT에서 문자열 토큰을 정수 ID로 변환하는 함수\n",
    "def tokenize_to_ids(sentences, sp_tokenizer):\n",
    "    tokenized_ids = []\n",
    "    for sentence in sentences:\n",
    "        # 문장을 정수 ID로 변환\n",
    "        tokens = sp_tokenizer(sentence)\n",
    "        tokenized_ids.append(tokens)\n",
    "    return tokenized_ids\n",
    "\n",
    "# 질문과 답변을 정수 ID로 변환\n",
    "questions_tokenized_a = tokenize_to_ids(questions_a, sp_tokenizer)\n",
    "answers_tokenized_a = tokenize_to_ids(answers_a, sp_tokenizer)\n",
    "\n",
    "# 패딩을 적용하여 모든 문장의 길이를 동일하게 설정\n",
    "questions_padded = pad_sequences(questions_tokenized_a, maxlen=MAX_LENGTH, padding='post')\n",
    "answers_padded = pad_sequences(answers_tokenized_a, maxlen=MAX_LENGTH, padding='post')\n",
    "\n",
    "# 디코더의 실제값 시퀀스에서는 시작 토큰을 제거해야 한다.\n",
    "dataset_newtoken = tf.data.Dataset.from_tensor_slices((\n",
    "    {\n",
    "        'inputs': questions_padded,\n",
    "        'dec_inputs': answers_padded[:, :-1]  # 디코더의 입력. 마지막 패딩 토큰이 제거된다.\n",
    "    },\n",
    "    {\n",
    "        'outputs': answers_padded[:, 1:]  # 맨 처음 토큰이 제거된다. 다시 말해 시작 토큰이 제거된다.\n",
    "    },\n",
    "))\n",
    "\n",
    "dataset_newtoken = dataset_newtoken.cache()\n",
    "dataset_newtoken = dataset_newtoken.shuffle(BUFFER_SIZE)\n",
    "dataset_newtoken = dataset_newtoken.batch(BATCH_SIZE_A)\n",
    "dataset_newtoken = dataset_newtoken.prefetch(tf.data.experimental.AUTOTUNE)"
   ]
  },
  {
   "cell_type": "markdown",
   "id": "d3297f97",
   "metadata": {},
   "source": [
    "## 해결 실패.. BERT 를 나중에 공부해야 해결할 수 있을 것 같다.."
   ]
  },
  {
   "cell_type": "code",
   "execution_count": 436,
   "id": "1cf4addb",
   "metadata": {},
   "outputs": [
    {
     "name": "stdout",
     "output_type": "stream",
     "text": [
      "Model: \"transformer\"\n",
      "__________________________________________________________________________________________________\n",
      "Layer (type)                    Output Shape         Param #     Connected to                     \n",
      "==================================================================================================\n",
      "inputs (InputLayer)             [(None, None)]       0                                            \n",
      "__________________________________________________________________________________________________\n",
      "dec_inputs (InputLayer)         [(None, None)]       0                                            \n",
      "__________________________________________________________________________________________________\n",
      "enc_padding_mask (Lambda)       (None, 1, 1, None)   0           inputs[0][0]                     \n",
      "__________________________________________________________________________________________________\n",
      "encoder (Functional)            (None, None, 256)    4156928     inputs[0][0]                     \n",
      "                                                                 enc_padding_mask[0][0]           \n",
      "__________________________________________________________________________________________________\n",
      "look_ahead_mask (Lambda)        (None, 1, None, None 0           dec_inputs[0][0]                 \n",
      "__________________________________________________________________________________________________\n",
      "dec_padding_mask (Lambda)       (None, 1, 1, None)   0           inputs[0][0]                     \n",
      "__________________________________________________________________________________________________\n",
      "decoder (Functional)            (None, None, 256)    5211648     dec_inputs[0][0]                 \n",
      "                                                                 encoder[0][0]                    \n",
      "                                                                 look_ahead_mask[0][0]            \n",
      "                                                                 dec_padding_mask[0][0]           \n",
      "__________________________________________________________________________________________________\n",
      "outputs (Dense)                 (None, None, 8002)   2056514     decoder[0][0]                    \n",
      "==================================================================================================\n",
      "Total params: 11,425,090\n",
      "Trainable params: 11,425,090\n",
      "Non-trainable params: 0\n",
      "__________________________________________________________________________________________________\n"
     ]
    }
   ],
   "source": [
    "# 하이퍼 파라미터 조정을 통한 모델 정의\n",
    "\n",
    "tf.keras.backend.clear_session()\n",
    "\n",
    "# 하이퍼파라미터\n",
    "NUM_LAYERS = 4  # 인코더와 디코더의 층의 개수\n",
    "D_MODEL = 256  # 인코더와 디코더 내부의 입, 출력의 고정 차원\n",
    "NUM_HEADS = 8  # 멀티 헤드 어텐션에서의 헤드 수\n",
    "UNITS = 512  # 피드 포워드 신경망의 은닉층의 크기\n",
    "DROPOUT = 0.2  # 드롭아웃의 비율\n",
    "\n",
    "# 모델 정의\n",
    "model_newtoken = transformer(\n",
    "    vocab_size=VOCAB_SIZE,\n",
    "    num_layers=NUM_LAYERS,\n",
    "    units=UNITS,\n",
    "    d_model=D_MODEL,\n",
    "    num_heads=NUM_HEADS,\n",
    "    dropout=DROPOUT\n",
    ")\n",
    "\n",
    "model_newtoken.summary()\n"
   ]
  },
  {
   "cell_type": "code",
   "execution_count": 437,
   "id": "d3b3c811",
   "metadata": {},
   "outputs": [],
   "source": [
    "# 학습률과 옵티마이저를 정의하고 모델 컴파일\n",
    "learning_rate = CustomSchedule(D_MODEL)\n",
    "\n",
    "optimizer = tf.keras.optimizers.Adam(\n",
    "    learning_rate, beta_1=0.9, beta_2=0.98, epsilon=1e-9)\n",
    "\n",
    "def accuracy(y_true, y_pred):\n",
    "    y_true = tf.reshape(y_true, shape=(-1, MAX_LENGTH - 1))\n",
    "    return tf.keras.metrics.sparse_categorical_accuracy(y_true, y_pred)\n",
    "\n",
    "model_newtoken.compile(optimizer=optimizer, loss=loss_function, metrics=[accuracy])"
   ]
  },
  {
   "cell_type": "code",
   "execution_count": 438,
   "id": "8719fe4f",
   "metadata": {},
   "outputs": [
    {
     "name": "stdout",
     "output_type": "stream",
     "text": [
      "Epoch 1/5\n",
      "369/369 [==============================] - 26s 43ms/step - loss: nan - accuracy: 0.6414\n",
      "Epoch 2/5\n",
      "369/369 [==============================] - 16s 43ms/step - loss: nan - accuracy: 0.6432\n",
      "Epoch 3/5\n",
      "369/369 [==============================] - 16s 44ms/step - loss: nan - accuracy: 0.6432\n",
      "Epoch 4/5\n",
      "369/369 [==============================] - 16s 43ms/step - loss: nan - accuracy: 0.6432\n",
      "Epoch 5/5\n",
      "369/369 [==============================] - 16s 45ms/step - loss: nan - accuracy: 0.6432\n"
     ]
    }
   ],
   "source": [
    "# 모델 학습\n",
    "EPOCHS = 5\n",
    "\n",
    "history = model_newtoken.fit(\n",
    "    dataset_newtoken,\n",
    "    epochs=EPOCHS\n",
    ")"
   ]
  },
  {
   "cell_type": "markdown",
   "id": "54364df1",
   "metadata": {},
   "source": [
    "### Loss가 nan이 나오는 이유는 토큰화 진행 후 학습 과정에서 토큰나이저가 달라 학습과정에서의 오류가 났을 가능성이 높다고 판단한다."
   ]
  },
  {
   "cell_type": "code",
   "execution_count": 439,
   "id": "a01258b5",
   "metadata": {},
   "outputs": [],
   "source": [
    "# 트랜스포머 모델에 전처리가 진행된 사용자의 입력을 전달하여 단어 예측 수행\n",
    "def evaluate_newtoken(sentence):\n",
    "    # sp_tokenizer는 문장을 토큰화한 후 정수 리스트를 반환합니다.\n",
    "    sentence_tokens = sp_tokenizer(sentence)\n",
    "\n",
    "    # START_TOKEN과 END_TOKEN이 정수 리스트인지 확인\n",
    "    sentence = tf.expand_dims(\n",
    "        START_TOKEN + sentence_tokens + END_TOKEN, axis=0\n",
    "    )\n",
    "\n",
    "    output = tf.expand_dims(START_TOKEN, 0)\n",
    "\n",
    "    for i in range(MAX_LENGTH):\n",
    "        predictions = model_newtoken(inputs=[sentence, output], training=False)\n",
    "\n",
    "        # 예측 결과에서 마지막 단어 선택\n",
    "        predictions = predictions[:, -1:, :]\n",
    "        predicted_id = tf.cast(tf.argmax(predictions, axis=-1), tf.int32)\n",
    "\n",
    "        # 예측한 단어가 종료 토큰이라면 예측을 중단합니다.\n",
    "        if tf.equal(predicted_id, END_TOKEN[0]):\n",
    "            break\n",
    "\n",
    "        # 예측한 단어를 출력에 연결합니다.\n",
    "        output = tf.concat([output, predicted_id], axis=-1)\n",
    "\n",
    "    return tf.squeeze(output, axis=0)"
   ]
  },
  {
   "cell_type": "code",
   "execution_count": 440,
   "id": "148a0ed8",
   "metadata": {},
   "outputs": [],
   "source": [
    "# 예측 수행한 결과를 출력하는 함수\n",
    "def Q2(sentence):\n",
    "    prediction = evaluate_newtoken(sentence)\n",
    "    \n",
    "    # 예측 결과를 디코딩해서 사람이 읽을 수 있는 문장으로 변환\n",
    "    predicted_sentence = sp_tokenizer.DecodeIds(prediction.numpy().tolist())\n",
    "\n",
    "    print('입력: {}'.format(sentence))\n",
    "    print('출력: {}'.format(predicted_sentence))\n"
   ]
  },
  {
   "cell_type": "code",
   "execution_count": 441,
   "id": "23e79d26",
   "metadata": {},
   "outputs": [
    {
     "ename": "ValueError",
     "evalue": "Can't convert Python sequence with mixed types to Tensor.",
     "output_type": "error",
     "traceback": [
      "\u001b[0;31m---------------------------------------------------------------------------\u001b[0m",
      "\u001b[0;31mValueError\u001b[0m                                Traceback (most recent call last)",
      "\u001b[0;32m/tmp/ipykernel_31/3044490931.py\u001b[0m in \u001b[0;36m<module>\u001b[0;34m\u001b[0m\n\u001b[1;32m      1\u001b[0m \u001b[0;31m# 예시 실행\u001b[0m\u001b[0;34m\u001b[0m\u001b[0;34m\u001b[0m\u001b[0m\n\u001b[0;32m----> 2\u001b[0;31m \u001b[0mQ2\u001b[0m\u001b[0;34m(\u001b[0m\u001b[0;34m'저녁은 뭐 먹을까?'\u001b[0m\u001b[0;34m)\u001b[0m\u001b[0;34m\u001b[0m\u001b[0;34m\u001b[0m\u001b[0m\n\u001b[0m",
      "\u001b[0;32m/tmp/ipykernel_31/3693266390.py\u001b[0m in \u001b[0;36mQ2\u001b[0;34m(sentence)\u001b[0m\n\u001b[1;32m      1\u001b[0m \u001b[0;31m# 예측 수행한 결과를 출력하는 함수\u001b[0m\u001b[0;34m\u001b[0m\u001b[0;34m\u001b[0m\u001b[0m\n\u001b[1;32m      2\u001b[0m \u001b[0;32mdef\u001b[0m \u001b[0mQ2\u001b[0m\u001b[0;34m(\u001b[0m\u001b[0msentence\u001b[0m\u001b[0;34m)\u001b[0m\u001b[0;34m:\u001b[0m\u001b[0;34m\u001b[0m\u001b[0;34m\u001b[0m\u001b[0m\n\u001b[0;32m----> 3\u001b[0;31m     \u001b[0mprediction\u001b[0m \u001b[0;34m=\u001b[0m \u001b[0mevaluate_newtoken\u001b[0m\u001b[0;34m(\u001b[0m\u001b[0msentence\u001b[0m\u001b[0;34m)\u001b[0m\u001b[0;34m\u001b[0m\u001b[0;34m\u001b[0m\u001b[0m\n\u001b[0m\u001b[1;32m      4\u001b[0m \u001b[0;34m\u001b[0m\u001b[0m\n\u001b[1;32m      5\u001b[0m     \u001b[0;31m# 예측 결과를 디코딩해서 사람이 읽을 수 있는 문장으로 변환\u001b[0m\u001b[0;34m\u001b[0m\u001b[0;34m\u001b[0m\u001b[0m\n",
      "\u001b[0;32m/tmp/ipykernel_31/3044904251.py\u001b[0m in \u001b[0;36mevaluate_newtoken\u001b[0;34m(sentence)\u001b[0m\n\u001b[1;32m      5\u001b[0m \u001b[0;34m\u001b[0m\u001b[0m\n\u001b[1;32m      6\u001b[0m     \u001b[0;31m# START_TOKEN과 END_TOKEN이 정수 리스트인지 확인\u001b[0m\u001b[0;34m\u001b[0m\u001b[0;34m\u001b[0m\u001b[0m\n\u001b[0;32m----> 7\u001b[0;31m     sentence = tf.expand_dims(\n\u001b[0m\u001b[1;32m      8\u001b[0m         \u001b[0mSTART_TOKEN\u001b[0m \u001b[0;34m+\u001b[0m \u001b[0msentence_tokens\u001b[0m \u001b[0;34m+\u001b[0m \u001b[0mEND_TOKEN\u001b[0m\u001b[0;34m,\u001b[0m \u001b[0maxis\u001b[0m\u001b[0;34m=\u001b[0m\u001b[0;36m0\u001b[0m\u001b[0;34m\u001b[0m\u001b[0;34m\u001b[0m\u001b[0m\n\u001b[1;32m      9\u001b[0m     )\n",
      "\u001b[0;32m/opt/conda/lib/python3.9/site-packages/tensorflow/python/util/dispatch.py\u001b[0m in \u001b[0;36mwrapper\u001b[0;34m(*args, **kwargs)\u001b[0m\n\u001b[1;32m    204\u001b[0m     \u001b[0;34m\"\"\"Call target, and fall back on dispatchers if there is a TypeError.\"\"\"\u001b[0m\u001b[0;34m\u001b[0m\u001b[0;34m\u001b[0m\u001b[0m\n\u001b[1;32m    205\u001b[0m     \u001b[0;32mtry\u001b[0m\u001b[0;34m:\u001b[0m\u001b[0;34m\u001b[0m\u001b[0;34m\u001b[0m\u001b[0m\n\u001b[0;32m--> 206\u001b[0;31m       \u001b[0;32mreturn\u001b[0m \u001b[0mtarget\u001b[0m\u001b[0;34m(\u001b[0m\u001b[0;34m*\u001b[0m\u001b[0margs\u001b[0m\u001b[0;34m,\u001b[0m \u001b[0;34m**\u001b[0m\u001b[0mkwargs\u001b[0m\u001b[0;34m)\u001b[0m\u001b[0;34m\u001b[0m\u001b[0;34m\u001b[0m\u001b[0m\n\u001b[0m\u001b[1;32m    207\u001b[0m     \u001b[0;32mexcept\u001b[0m \u001b[0;34m(\u001b[0m\u001b[0mTypeError\u001b[0m\u001b[0;34m,\u001b[0m \u001b[0mValueError\u001b[0m\u001b[0;34m)\u001b[0m\u001b[0;34m:\u001b[0m\u001b[0;34m\u001b[0m\u001b[0;34m\u001b[0m\u001b[0m\n\u001b[1;32m    208\u001b[0m       \u001b[0;31m# Note: convert_to_eager_tensor currently raises a ValueError, not a\u001b[0m\u001b[0;34m\u001b[0m\u001b[0;34m\u001b[0m\u001b[0m\n",
      "\u001b[0;32m/opt/conda/lib/python3.9/site-packages/tensorflow/python/ops/array_ops.py\u001b[0m in \u001b[0;36mexpand_dims_v2\u001b[0;34m(input, axis, name)\u001b[0m\n\u001b[1;32m    435\u001b[0m     \u001b[0mInvalidArgumentError\u001b[0m\u001b[0;34m:\u001b[0m \u001b[0mIf\u001b[0m\u001b[0;31m \u001b[0m\u001b[0;31m`\u001b[0m\u001b[0maxis\u001b[0m\u001b[0;31m`\u001b[0m \u001b[0;32mis\u001b[0m \u001b[0mout\u001b[0m \u001b[0mof\u001b[0m \u001b[0mrange\u001b[0m\u001b[0;31m \u001b[0m\u001b[0;31m`\u001b[0m\u001b[0;34m[\u001b[0m\u001b[0;34m-\u001b[0m\u001b[0;34m(\u001b[0m\u001b[0mD\u001b[0m\u001b[0;34m+\u001b[0m\u001b[0;36m1\u001b[0m\u001b[0;34m)\u001b[0m\u001b[0;34m,\u001b[0m \u001b[0mD\u001b[0m\u001b[0;34m]\u001b[0m\u001b[0;31m`\u001b[0m\u001b[0;34m.\u001b[0m\u001b[0;34m\u001b[0m\u001b[0;34m\u001b[0m\u001b[0m\n\u001b[1;32m    436\u001b[0m   \"\"\"\n\u001b[0;32m--> 437\u001b[0;31m   \u001b[0;32mreturn\u001b[0m \u001b[0mgen_array_ops\u001b[0m\u001b[0;34m.\u001b[0m\u001b[0mexpand_dims\u001b[0m\u001b[0;34m(\u001b[0m\u001b[0minput\u001b[0m\u001b[0;34m,\u001b[0m \u001b[0maxis\u001b[0m\u001b[0;34m,\u001b[0m \u001b[0mname\u001b[0m\u001b[0;34m)\u001b[0m\u001b[0;34m\u001b[0m\u001b[0;34m\u001b[0m\u001b[0m\n\u001b[0m\u001b[1;32m    438\u001b[0m \u001b[0;34m\u001b[0m\u001b[0m\n\u001b[1;32m    439\u001b[0m \u001b[0;34m\u001b[0m\u001b[0m\n",
      "\u001b[0;32m/opt/conda/lib/python3.9/site-packages/tensorflow/python/ops/gen_array_ops.py\u001b[0m in \u001b[0;36mexpand_dims\u001b[0;34m(input, axis, name)\u001b[0m\n\u001b[1;32m   2291\u001b[0m       \u001b[0;32mpass\u001b[0m\u001b[0;34m\u001b[0m\u001b[0;34m\u001b[0m\u001b[0m\n\u001b[1;32m   2292\u001b[0m     \u001b[0;32mtry\u001b[0m\u001b[0;34m:\u001b[0m\u001b[0;34m\u001b[0m\u001b[0;34m\u001b[0m\u001b[0m\n\u001b[0;32m-> 2293\u001b[0;31m       return expand_dims_eager_fallback(\n\u001b[0m\u001b[1;32m   2294\u001b[0m           input, axis, name=name, ctx=_ctx)\n\u001b[1;32m   2295\u001b[0m     \u001b[0;32mexcept\u001b[0m \u001b[0m_core\u001b[0m\u001b[0;34m.\u001b[0m\u001b[0m_SymbolicException\u001b[0m\u001b[0;34m:\u001b[0m\u001b[0;34m\u001b[0m\u001b[0;34m\u001b[0m\u001b[0m\n",
      "\u001b[0;32m/opt/conda/lib/python3.9/site-packages/tensorflow/python/ops/gen_array_ops.py\u001b[0m in \u001b[0;36mexpand_dims_eager_fallback\u001b[0;34m(input, axis, name, ctx)\u001b[0m\n\u001b[1;32m   2312\u001b[0m \u001b[0;34m\u001b[0m\u001b[0m\n\u001b[1;32m   2313\u001b[0m \u001b[0;32mdef\u001b[0m \u001b[0mexpand_dims_eager_fallback\u001b[0m\u001b[0;34m(\u001b[0m\u001b[0minput\u001b[0m\u001b[0;34m,\u001b[0m \u001b[0maxis\u001b[0m\u001b[0;34m,\u001b[0m \u001b[0mname\u001b[0m\u001b[0;34m,\u001b[0m \u001b[0mctx\u001b[0m\u001b[0;34m)\u001b[0m\u001b[0;34m:\u001b[0m\u001b[0;34m\u001b[0m\u001b[0;34m\u001b[0m\u001b[0m\n\u001b[0;32m-> 2314\u001b[0;31m   \u001b[0m_attr_T\u001b[0m\u001b[0;34m,\u001b[0m \u001b[0;34m(\u001b[0m\u001b[0minput\u001b[0m\u001b[0;34m,\u001b[0m\u001b[0;34m)\u001b[0m \u001b[0;34m=\u001b[0m \u001b[0m_execute\u001b[0m\u001b[0;34m.\u001b[0m\u001b[0margs_to_matching_eager\u001b[0m\u001b[0;34m(\u001b[0m\u001b[0;34m[\u001b[0m\u001b[0minput\u001b[0m\u001b[0;34m]\u001b[0m\u001b[0;34m,\u001b[0m \u001b[0mctx\u001b[0m\u001b[0;34m,\u001b[0m \u001b[0;34m[\u001b[0m\u001b[0;34m]\u001b[0m\u001b[0;34m)\u001b[0m\u001b[0;34m\u001b[0m\u001b[0;34m\u001b[0m\u001b[0m\n\u001b[0m\u001b[1;32m   2315\u001b[0m   \u001b[0m_attr_Tdim\u001b[0m\u001b[0;34m,\u001b[0m \u001b[0;34m(\u001b[0m\u001b[0maxis\u001b[0m\u001b[0;34m,\u001b[0m\u001b[0;34m)\u001b[0m \u001b[0;34m=\u001b[0m \u001b[0m_execute\u001b[0m\u001b[0;34m.\u001b[0m\u001b[0margs_to_matching_eager\u001b[0m\u001b[0;34m(\u001b[0m\u001b[0;34m[\u001b[0m\u001b[0maxis\u001b[0m\u001b[0;34m]\u001b[0m\u001b[0;34m,\u001b[0m \u001b[0mctx\u001b[0m\u001b[0;34m,\u001b[0m \u001b[0;34m[\u001b[0m\u001b[0m_dtypes\u001b[0m\u001b[0;34m.\u001b[0m\u001b[0mint32\u001b[0m\u001b[0;34m,\u001b[0m \u001b[0m_dtypes\u001b[0m\u001b[0;34m.\u001b[0m\u001b[0mint64\u001b[0m\u001b[0;34m,\u001b[0m \u001b[0;34m]\u001b[0m\u001b[0;34m,\u001b[0m \u001b[0m_dtypes\u001b[0m\u001b[0;34m.\u001b[0m\u001b[0mint32\u001b[0m\u001b[0;34m)\u001b[0m\u001b[0;34m\u001b[0m\u001b[0;34m\u001b[0m\u001b[0m\n\u001b[1;32m   2316\u001b[0m   \u001b[0m_inputs_flat\u001b[0m \u001b[0;34m=\u001b[0m \u001b[0;34m[\u001b[0m\u001b[0minput\u001b[0m\u001b[0;34m,\u001b[0m \u001b[0maxis\u001b[0m\u001b[0;34m]\u001b[0m\u001b[0;34m\u001b[0m\u001b[0;34m\u001b[0m\u001b[0m\n",
      "\u001b[0;32m/opt/conda/lib/python3.9/site-packages/tensorflow/python/eager/execute.py\u001b[0m in \u001b[0;36margs_to_matching_eager\u001b[0;34m(l, ctx, allowed_dtypes, default_dtype)\u001b[0m\n\u001b[1;32m    271\u001b[0m \u001b[0;34m\u001b[0m\u001b[0m\n\u001b[1;32m    272\u001b[0m       \u001b[0;32mif\u001b[0m \u001b[0mtensor\u001b[0m \u001b[0;32mis\u001b[0m \u001b[0;32mNone\u001b[0m\u001b[0;34m:\u001b[0m\u001b[0;34m\u001b[0m\u001b[0;34m\u001b[0m\u001b[0m\n\u001b[0;32m--> 273\u001b[0;31m         tensor = ops.convert_to_tensor(\n\u001b[0m\u001b[1;32m    274\u001b[0m             t, dtype, preferred_dtype=default_dtype, ctx=ctx)\n\u001b[1;32m    275\u001b[0m \u001b[0;34m\u001b[0m\u001b[0m\n",
      "\u001b[0;32m/opt/conda/lib/python3.9/site-packages/tensorflow/python/profiler/trace.py\u001b[0m in \u001b[0;36mwrapped\u001b[0;34m(*args, **kwargs)\u001b[0m\n\u001b[1;32m    161\u001b[0m         \u001b[0;32mwith\u001b[0m \u001b[0mTrace\u001b[0m\u001b[0;34m(\u001b[0m\u001b[0mtrace_name\u001b[0m\u001b[0;34m,\u001b[0m \u001b[0;34m**\u001b[0m\u001b[0mtrace_kwargs\u001b[0m\u001b[0;34m)\u001b[0m\u001b[0;34m:\u001b[0m\u001b[0;34m\u001b[0m\u001b[0;34m\u001b[0m\u001b[0m\n\u001b[1;32m    162\u001b[0m           \u001b[0;32mreturn\u001b[0m \u001b[0mfunc\u001b[0m\u001b[0;34m(\u001b[0m\u001b[0;34m*\u001b[0m\u001b[0margs\u001b[0m\u001b[0;34m,\u001b[0m \u001b[0;34m**\u001b[0m\u001b[0mkwargs\u001b[0m\u001b[0;34m)\u001b[0m\u001b[0;34m\u001b[0m\u001b[0;34m\u001b[0m\u001b[0m\n\u001b[0;32m--> 163\u001b[0;31m       \u001b[0;32mreturn\u001b[0m \u001b[0mfunc\u001b[0m\u001b[0;34m(\u001b[0m\u001b[0;34m*\u001b[0m\u001b[0margs\u001b[0m\u001b[0;34m,\u001b[0m \u001b[0;34m**\u001b[0m\u001b[0mkwargs\u001b[0m\u001b[0;34m)\u001b[0m\u001b[0;34m\u001b[0m\u001b[0;34m\u001b[0m\u001b[0m\n\u001b[0m\u001b[1;32m    164\u001b[0m \u001b[0;34m\u001b[0m\u001b[0m\n\u001b[1;32m    165\u001b[0m     \u001b[0;32mreturn\u001b[0m \u001b[0mwrapped\u001b[0m\u001b[0;34m\u001b[0m\u001b[0;34m\u001b[0m\u001b[0m\n",
      "\u001b[0;32m/opt/conda/lib/python3.9/site-packages/tensorflow/python/framework/ops.py\u001b[0m in \u001b[0;36mconvert_to_tensor\u001b[0;34m(value, dtype, name, as_ref, preferred_dtype, dtype_hint, ctx, accepted_result_types)\u001b[0m\n\u001b[1;32m   1564\u001b[0m \u001b[0;34m\u001b[0m\u001b[0m\n\u001b[1;32m   1565\u001b[0m     \u001b[0;32mif\u001b[0m \u001b[0mret\u001b[0m \u001b[0;32mis\u001b[0m \u001b[0;32mNone\u001b[0m\u001b[0;34m:\u001b[0m\u001b[0;34m\u001b[0m\u001b[0;34m\u001b[0m\u001b[0m\n\u001b[0;32m-> 1566\u001b[0;31m       \u001b[0mret\u001b[0m \u001b[0;34m=\u001b[0m \u001b[0mconversion_func\u001b[0m\u001b[0;34m(\u001b[0m\u001b[0mvalue\u001b[0m\u001b[0;34m,\u001b[0m \u001b[0mdtype\u001b[0m\u001b[0;34m=\u001b[0m\u001b[0mdtype\u001b[0m\u001b[0;34m,\u001b[0m \u001b[0mname\u001b[0m\u001b[0;34m=\u001b[0m\u001b[0mname\u001b[0m\u001b[0;34m,\u001b[0m \u001b[0mas_ref\u001b[0m\u001b[0;34m=\u001b[0m\u001b[0mas_ref\u001b[0m\u001b[0;34m)\u001b[0m\u001b[0;34m\u001b[0m\u001b[0;34m\u001b[0m\u001b[0m\n\u001b[0m\u001b[1;32m   1567\u001b[0m \u001b[0;34m\u001b[0m\u001b[0m\n\u001b[1;32m   1568\u001b[0m     \u001b[0;32mif\u001b[0m \u001b[0mret\u001b[0m \u001b[0;32mis\u001b[0m \u001b[0mNotImplemented\u001b[0m\u001b[0;34m:\u001b[0m\u001b[0;34m\u001b[0m\u001b[0;34m\u001b[0m\u001b[0m\n",
      "\u001b[0;32m/opt/conda/lib/python3.9/site-packages/tensorflow/python/framework/constant_op.py\u001b[0m in \u001b[0;36m_constant_tensor_conversion_function\u001b[0;34m(v, dtype, name, as_ref)\u001b[0m\n\u001b[1;32m    344\u001b[0m                                          as_ref=False):\n\u001b[1;32m    345\u001b[0m   \u001b[0m_\u001b[0m \u001b[0;34m=\u001b[0m \u001b[0mas_ref\u001b[0m\u001b[0;34m\u001b[0m\u001b[0;34m\u001b[0m\u001b[0m\n\u001b[0;32m--> 346\u001b[0;31m   \u001b[0;32mreturn\u001b[0m \u001b[0mconstant\u001b[0m\u001b[0;34m(\u001b[0m\u001b[0mv\u001b[0m\u001b[0;34m,\u001b[0m \u001b[0mdtype\u001b[0m\u001b[0;34m=\u001b[0m\u001b[0mdtype\u001b[0m\u001b[0;34m,\u001b[0m \u001b[0mname\u001b[0m\u001b[0;34m=\u001b[0m\u001b[0mname\u001b[0m\u001b[0;34m)\u001b[0m\u001b[0;34m\u001b[0m\u001b[0;34m\u001b[0m\u001b[0m\n\u001b[0m\u001b[1;32m    347\u001b[0m \u001b[0;34m\u001b[0m\u001b[0m\n\u001b[1;32m    348\u001b[0m \u001b[0;34m\u001b[0m\u001b[0m\n",
      "\u001b[0;32m/opt/conda/lib/python3.9/site-packages/tensorflow/python/framework/constant_op.py\u001b[0m in \u001b[0;36mconstant\u001b[0;34m(value, dtype, shape, name)\u001b[0m\n\u001b[1;32m    269\u001b[0m     \u001b[0mValueError\u001b[0m\u001b[0;34m:\u001b[0m \u001b[0;32mif\u001b[0m \u001b[0mcalled\u001b[0m \u001b[0mon\u001b[0m \u001b[0ma\u001b[0m \u001b[0msymbolic\u001b[0m \u001b[0mtensor\u001b[0m\u001b[0;34m.\u001b[0m\u001b[0;34m\u001b[0m\u001b[0;34m\u001b[0m\u001b[0m\n\u001b[1;32m    270\u001b[0m   \"\"\"\n\u001b[0;32m--> 271\u001b[0;31m   return _constant_impl(value, dtype, shape, name, verify_shape=False,\n\u001b[0m\u001b[1;32m    272\u001b[0m                         allow_broadcast=True)\n\u001b[1;32m    273\u001b[0m \u001b[0;34m\u001b[0m\u001b[0m\n",
      "\u001b[0;32m/opt/conda/lib/python3.9/site-packages/tensorflow/python/framework/constant_op.py\u001b[0m in \u001b[0;36m_constant_impl\u001b[0;34m(value, dtype, shape, name, verify_shape, allow_broadcast)\u001b[0m\n\u001b[1;32m    281\u001b[0m       \u001b[0;32mwith\u001b[0m \u001b[0mtrace\u001b[0m\u001b[0;34m.\u001b[0m\u001b[0mTrace\u001b[0m\u001b[0;34m(\u001b[0m\u001b[0;34m\"tf.constant\"\u001b[0m\u001b[0;34m)\u001b[0m\u001b[0;34m:\u001b[0m\u001b[0;34m\u001b[0m\u001b[0;34m\u001b[0m\u001b[0m\n\u001b[1;32m    282\u001b[0m         \u001b[0;32mreturn\u001b[0m \u001b[0m_constant_eager_impl\u001b[0m\u001b[0;34m(\u001b[0m\u001b[0mctx\u001b[0m\u001b[0;34m,\u001b[0m \u001b[0mvalue\u001b[0m\u001b[0;34m,\u001b[0m \u001b[0mdtype\u001b[0m\u001b[0;34m,\u001b[0m \u001b[0mshape\u001b[0m\u001b[0;34m,\u001b[0m \u001b[0mverify_shape\u001b[0m\u001b[0;34m)\u001b[0m\u001b[0;34m\u001b[0m\u001b[0;34m\u001b[0m\u001b[0m\n\u001b[0;32m--> 283\u001b[0;31m     \u001b[0;32mreturn\u001b[0m \u001b[0m_constant_eager_impl\u001b[0m\u001b[0;34m(\u001b[0m\u001b[0mctx\u001b[0m\u001b[0;34m,\u001b[0m \u001b[0mvalue\u001b[0m\u001b[0;34m,\u001b[0m \u001b[0mdtype\u001b[0m\u001b[0;34m,\u001b[0m \u001b[0mshape\u001b[0m\u001b[0;34m,\u001b[0m \u001b[0mverify_shape\u001b[0m\u001b[0;34m)\u001b[0m\u001b[0;34m\u001b[0m\u001b[0;34m\u001b[0m\u001b[0m\n\u001b[0m\u001b[1;32m    284\u001b[0m \u001b[0;34m\u001b[0m\u001b[0m\n\u001b[1;32m    285\u001b[0m   \u001b[0mg\u001b[0m \u001b[0;34m=\u001b[0m \u001b[0mops\u001b[0m\u001b[0;34m.\u001b[0m\u001b[0mget_default_graph\u001b[0m\u001b[0;34m(\u001b[0m\u001b[0;34m)\u001b[0m\u001b[0;34m\u001b[0m\u001b[0;34m\u001b[0m\u001b[0m\n",
      "\u001b[0;32m/opt/conda/lib/python3.9/site-packages/tensorflow/python/framework/constant_op.py\u001b[0m in \u001b[0;36m_constant_eager_impl\u001b[0;34m(ctx, value, dtype, shape, verify_shape)\u001b[0m\n\u001b[1;32m    306\u001b[0m \u001b[0;32mdef\u001b[0m \u001b[0m_constant_eager_impl\u001b[0m\u001b[0;34m(\u001b[0m\u001b[0mctx\u001b[0m\u001b[0;34m,\u001b[0m \u001b[0mvalue\u001b[0m\u001b[0;34m,\u001b[0m \u001b[0mdtype\u001b[0m\u001b[0;34m,\u001b[0m \u001b[0mshape\u001b[0m\u001b[0;34m,\u001b[0m \u001b[0mverify_shape\u001b[0m\u001b[0;34m)\u001b[0m\u001b[0;34m:\u001b[0m\u001b[0;34m\u001b[0m\u001b[0;34m\u001b[0m\u001b[0m\n\u001b[1;32m    307\u001b[0m   \u001b[0;34m\"\"\"Creates a constant on the current device.\"\"\"\u001b[0m\u001b[0;34m\u001b[0m\u001b[0;34m\u001b[0m\u001b[0m\n\u001b[0;32m--> 308\u001b[0;31m   \u001b[0mt\u001b[0m \u001b[0;34m=\u001b[0m \u001b[0mconvert_to_eager_tensor\u001b[0m\u001b[0;34m(\u001b[0m\u001b[0mvalue\u001b[0m\u001b[0;34m,\u001b[0m \u001b[0mctx\u001b[0m\u001b[0;34m,\u001b[0m \u001b[0mdtype\u001b[0m\u001b[0;34m)\u001b[0m\u001b[0;34m\u001b[0m\u001b[0;34m\u001b[0m\u001b[0m\n\u001b[0m\u001b[1;32m    309\u001b[0m   \u001b[0;32mif\u001b[0m \u001b[0mshape\u001b[0m \u001b[0;32mis\u001b[0m \u001b[0;32mNone\u001b[0m\u001b[0;34m:\u001b[0m\u001b[0;34m\u001b[0m\u001b[0;34m\u001b[0m\u001b[0m\n\u001b[1;32m    310\u001b[0m     \u001b[0;32mreturn\u001b[0m \u001b[0mt\u001b[0m\u001b[0;34m\u001b[0m\u001b[0;34m\u001b[0m\u001b[0m\n",
      "\u001b[0;32m/opt/conda/lib/python3.9/site-packages/tensorflow/python/framework/constant_op.py\u001b[0m in \u001b[0;36mconvert_to_eager_tensor\u001b[0;34m(value, ctx, dtype)\u001b[0m\n\u001b[1;32m    104\u001b[0m       \u001b[0mdtype\u001b[0m \u001b[0;34m=\u001b[0m \u001b[0mdtypes\u001b[0m\u001b[0;34m.\u001b[0m\u001b[0mas_dtype\u001b[0m\u001b[0;34m(\u001b[0m\u001b[0mdtype\u001b[0m\u001b[0;34m)\u001b[0m\u001b[0;34m.\u001b[0m\u001b[0mas_datatype_enum\u001b[0m\u001b[0;34m\u001b[0m\u001b[0;34m\u001b[0m\u001b[0m\n\u001b[1;32m    105\u001b[0m   \u001b[0mctx\u001b[0m\u001b[0;34m.\u001b[0m\u001b[0mensure_initialized\u001b[0m\u001b[0;34m(\u001b[0m\u001b[0;34m)\u001b[0m\u001b[0;34m\u001b[0m\u001b[0;34m\u001b[0m\u001b[0m\n\u001b[0;32m--> 106\u001b[0;31m   \u001b[0;32mreturn\u001b[0m \u001b[0mops\u001b[0m\u001b[0;34m.\u001b[0m\u001b[0mEagerTensor\u001b[0m\u001b[0;34m(\u001b[0m\u001b[0mvalue\u001b[0m\u001b[0;34m,\u001b[0m \u001b[0mctx\u001b[0m\u001b[0;34m.\u001b[0m\u001b[0mdevice_name\u001b[0m\u001b[0;34m,\u001b[0m \u001b[0mdtype\u001b[0m\u001b[0;34m)\u001b[0m\u001b[0;34m\u001b[0m\u001b[0;34m\u001b[0m\u001b[0m\n\u001b[0m\u001b[1;32m    107\u001b[0m \u001b[0;34m\u001b[0m\u001b[0m\n\u001b[1;32m    108\u001b[0m \u001b[0;34m\u001b[0m\u001b[0m\n",
      "\u001b[0;31mValueError\u001b[0m: Can't convert Python sequence with mixed types to Tensor."
     ]
    }
   ],
   "source": [
    "# 예시 실행\n",
    "Q2('저녁은 뭐 먹을까?')"
   ]
  },
  {
   "cell_type": "markdown",
   "id": "ddd43be2",
   "metadata": {},
   "source": [
    "## 퍼실님게 문의해본 결과.. koBERT는 토큰화 과정이 다르므로 모델 구현 함수에 그대로 적용할 시 오류 가능성이 높다고 한다. 따로 처리해 주어야할 내용이 많아 BERT를 공부한 뒤 진행하는 것을 추천하셨다.. 근데 저는 CV 가고 싶어요..."
   ]
  },
  {
   "cell_type": "code",
   "execution_count": null,
   "id": "8cea3b5a",
   "metadata": {},
   "outputs": [],
   "source": []
  },
  {
   "cell_type": "code",
   "execution_count": null,
   "id": "ed910927",
   "metadata": {},
   "outputs": [],
   "source": []
  },
  {
   "cell_type": "code",
   "execution_count": null,
   "id": "0e12847d",
   "metadata": {},
   "outputs": [],
   "source": []
  }
 ],
 "metadata": {
  "kernelspec": {
   "display_name": "Python 3 (ipykernel)",
   "language": "python",
   "name": "python3"
  },
  "language_info": {
   "codemirror_mode": {
    "name": "ipython",
    "version": 3
   },
   "file_extension": ".py",
   "mimetype": "text/x-python",
   "name": "python",
   "nbconvert_exporter": "python",
   "pygments_lexer": "ipython3",
   "version": "3.9.7"
  }
 },
 "nbformat": 4,
 "nbformat_minor": 5
}
