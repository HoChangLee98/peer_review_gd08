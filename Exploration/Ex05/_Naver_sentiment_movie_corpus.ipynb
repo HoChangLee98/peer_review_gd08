{
 "cells": [
  {
   "cell_type": "markdown",
   "id": "b709ab6e",
   "metadata": {},
   "source": [
    "# 00. 라이브러리"
   ]
  },
  {
   "cell_type": "code",
   "execution_count": 142,
   "id": "ed731e2e",
   "metadata": {},
   "outputs": [
    {
     "name": "stdout",
     "output_type": "stream",
     "text": [
      "1.3.3\n",
      "0.5.2\n",
      "4.1.2\n"
     ]
    }
   ],
   "source": [
    "import pandas\n",
    "import konlpy\n",
    "import gensim\n",
    "\n",
    "print(pandas.__version__)\n",
    "print(konlpy.__version__)\n",
    "print(gensim.__version__)"
   ]
  },
  {
   "cell_type": "code",
   "execution_count": 143,
   "id": "8b31b7b1",
   "metadata": {},
   "outputs": [],
   "source": [
    "from konlpy.tag import Mecab\n",
    "import numpy as np\n",
    "from collections import Counter\n",
    "import pandas as pd\n",
    "import tensorflow as tf\n",
    "\n",
    "import matplotlib.pyplot as plt"
   ]
  },
  {
   "cell_type": "markdown",
   "id": "3e5f8f69",
   "metadata": {},
   "source": [
    "# 01. 데이터 준비"
   ]
  },
  {
   "cell_type": "code",
   "execution_count": 144,
   "id": "cbf7bfde",
   "metadata": {},
   "outputs": [
    {
     "name": "stdout",
     "output_type": "stream",
     "text": [
      "<class 'pandas.core.frame.DataFrame'>\n",
      "RangeIndex: 150000 entries, 0 to 149999\n",
      "Data columns (total 3 columns):\n",
      " #   Column    Non-Null Count   Dtype \n",
      "---  ------    --------------   ----- \n",
      " 0   id        150000 non-null  int64 \n",
      " 1   document  149995 non-null  object\n",
      " 2   label     150000 non-null  int64 \n",
      "dtypes: int64(2), object(1)\n",
      "memory usage: 3.4+ MB\n",
      "None\n"
     ]
    },
    {
     "data": {
      "text/html": [
       "<div>\n",
       "<style scoped>\n",
       "    .dataframe tbody tr th:only-of-type {\n",
       "        vertical-align: middle;\n",
       "    }\n",
       "\n",
       "    .dataframe tbody tr th {\n",
       "        vertical-align: top;\n",
       "    }\n",
       "\n",
       "    .dataframe thead th {\n",
       "        text-align: right;\n",
       "    }\n",
       "</style>\n",
       "<table border=\"1\" class=\"dataframe\">\n",
       "  <thead>\n",
       "    <tr style=\"text-align: right;\">\n",
       "      <th></th>\n",
       "      <th>id</th>\n",
       "      <th>document</th>\n",
       "      <th>label</th>\n",
       "    </tr>\n",
       "  </thead>\n",
       "  <tbody>\n",
       "    <tr>\n",
       "      <th>0</th>\n",
       "      <td>9976970</td>\n",
       "      <td>아 더빙.. 진짜 짜증나네요 목소리</td>\n",
       "      <td>0</td>\n",
       "    </tr>\n",
       "    <tr>\n",
       "      <th>1</th>\n",
       "      <td>3819312</td>\n",
       "      <td>흠...포스터보고 초딩영화줄....오버연기조차 가볍지 않구나</td>\n",
       "      <td>1</td>\n",
       "    </tr>\n",
       "    <tr>\n",
       "      <th>2</th>\n",
       "      <td>10265843</td>\n",
       "      <td>너무재밓었다그래서보는것을추천한다</td>\n",
       "      <td>0</td>\n",
       "    </tr>\n",
       "    <tr>\n",
       "      <th>3</th>\n",
       "      <td>9045019</td>\n",
       "      <td>교도소 이야기구먼 ..솔직히 재미는 없다..평점 조정</td>\n",
       "      <td>0</td>\n",
       "    </tr>\n",
       "    <tr>\n",
       "      <th>4</th>\n",
       "      <td>6483659</td>\n",
       "      <td>사이몬페그의 익살스런 연기가 돋보였던 영화!스파이더맨에서 늙어보이기만 했던 커스틴 ...</td>\n",
       "      <td>1</td>\n",
       "    </tr>\n",
       "  </tbody>\n",
       "</table>\n",
       "</div>"
      ],
      "text/plain": [
       "         id                                           document  label\n",
       "0   9976970                                아 더빙.. 진짜 짜증나네요 목소리      0\n",
       "1   3819312                  흠...포스터보고 초딩영화줄....오버연기조차 가볍지 않구나      1\n",
       "2  10265843                                  너무재밓었다그래서보는것을추천한다      0\n",
       "3   9045019                      교도소 이야기구먼 ..솔직히 재미는 없다..평점 조정      0\n",
       "4   6483659  사이몬페그의 익살스런 연기가 돋보였던 영화!스파이더맨에서 늙어보이기만 했던 커스틴 ...      1"
      ]
     },
     "execution_count": 144,
     "metadata": {},
     "output_type": "execute_result"
    }
   ],
   "source": [
    "# 데이터를 읽어봅시다. \n",
    "train_data = pd.read_table('~/aiffel/sentiment_classification/data/ratings_train.txt')\n",
    "test_data = pd.read_table('~/aiffel/sentiment_classification/data/ratings_test.txt')\n",
    "\n",
    "print(train_data.info())\n",
    "train_data.head()"
   ]
  },
  {
   "cell_type": "markdown",
   "id": "b4d9534e",
   "metadata": {},
   "source": [
    "# 02. Data_loader"
   ]
  },
  {
   "cell_type": "code",
   "execution_count": 145,
   "id": "c36de134",
   "metadata": {},
   "outputs": [],
   "source": [
    "# 토크나이저 정의\n",
    "tokenizer = Mecab()\n",
    "\n",
    "# 불용어 정의\n",
    "stopwords = ['의','가','이','은','들','는','좀','잘','걍','과','도','를','으로','자','에','와','한','하다']\n",
    "\n",
    "# 특수 토큰 정의\n",
    "pad_token = '<PAD>'\n",
    "bos_token = '<BOS>'\n",
    "unk_token = '<UNK>'\n",
    "eos_token = '<EOS>'\n",
    "\n",
    "def load_data(train_data, test_data, num_words=10000):\n",
    "    \n",
    "    # 중복 단어 제거    \n",
    "    train_data.drop_duplicates(subset=['document'], inplace=True)\n",
    "    test_data.drop_duplicates(subset=['document'], inplace=True)\n",
    "    \n",
    "    # 결측치 처리\n",
    "    train_data = train_data.dropna(how = 'any') \n",
    "    test_data = test_data.dropna(how = 'any') \n",
    "    \n",
    "    # 불용어 제거 (토큰화 -> 불용어 제거)\n",
    "    X_train = []\n",
    "    for sentence in train_data['document']:\n",
    "        temp_X = tokenizer.morphs(sentence) # 토큰화\n",
    "        temp_X = [word for word in temp_X if not word in stopwords] # 불용어 제거\n",
    "        X_train.append(temp_X)\n",
    "\n",
    "    X_test = []\n",
    "    for sentence in test_data['document']:\n",
    "        temp_X = tokenizer.morphs(sentence) # 토큰화\n",
    "        temp_X = [word for word in temp_X if not word in stopwords] # 불용어 제거\n",
    "        X_test.append(temp_X)\n",
    "    \n",
    "    # 단어 리스트 생성 및 빈도수 계산\n",
    "    words = np.concatenate(X_train).tolist()\n",
    "    counter = Counter(words)\n",
    "    counter = counter.most_common(10000-4)\n",
    "\n",
    "    # 어휘 사전 생성\n",
    "    vocab = [pad_token, bos_token, unk_token, eos_token] + [key for key, _ in counter]\n",
    "    word_to_index = {word: index for index, word in enumerate(vocab)}\n",
    "    \n",
    "    # 단어 인덱스 -> 인덱스 리스트 변환\n",
    "    def wordlist_to_indexlist(wordlist):\n",
    "        return [word_to_index.get(word, word_to_index[unk_token]) for word in wordlist]\n",
    "        \n",
    "    X_train = list(map(wordlist_to_indexlist, X_train))\n",
    "    X_test = list(map(wordlist_to_indexlist, X_test))\n",
    "        \n",
    "    return X_train, np.array(list(train_data['label'])), X_test, np.array(list(test_data['label'])), word_to_index\n",
    "    \n",
    "X_train, y_train, X_test, y_test, word_to_index = load_data(train_data, test_data)"
   ]
  },
  {
   "cell_type": "code",
   "execution_count": 146,
   "id": "26071ca4",
   "metadata": {},
   "outputs": [],
   "source": [
    "# word to index 에서 index to word로 변환\n",
    "index_to_word = {index:word for word, index in word_to_index.items()}"
   ]
  },
  {
   "cell_type": "code",
   "execution_count": 147,
   "id": "97f3298e",
   "metadata": {},
   "outputs": [],
   "source": [
    "# 문장 1개를 활용할 딕셔너리와 함께 주면, 단어 인덱스 리스트 벡터로 변환해 주는 함수입니다. \n",
    "def get_encoded_sentence(sentence, word_to_index):\n",
    "    return [word_to_index['<BOS>']]+[word_to_index[word] if word in word_to_index else word_to_index['<UNK>'] for word in sentence.split()]\n",
    "\n",
    "# 여러 개의 문장 리스트를 한꺼번에 단어 인덱스 리스트 벡터로 encode해 주는 함수입니다. \n",
    "def get_encoded_sentences(sentences, word_to_index):\n",
    "    return [get_encoded_sentence(sentence, word_to_index) for sentence in sentences]\n",
    "\n",
    "# 숫자 벡터로 encode된 문장을 원래대로 decode하는 함수입니다. \n",
    "def get_decoded_sentence(encoded_sentence, index_to_word):\n",
    "    return ' '.join(index_to_word[index] if index in index_to_word else '<UNK>' for index in encoded_sentence[1:])  #[1:]를 통해 <BOS>를 제외\n",
    "\n",
    "# 여러 개의 숫자 벡터로 encode된 문장을 한꺼번에 원래대로 decode하는 함수입니다. \n",
    "def get_decoded_sentences(encoded_sentences, index_to_word):\n",
    "    return [get_decoded_sentence(encoded_sentence, index_to_word) for encoded_sentence in encoded_sentences]"
   ]
  },
  {
   "cell_type": "code",
   "execution_count": 148,
   "id": "d3783507",
   "metadata": {},
   "outputs": [
    {
     "name": "stdout",
     "output_type": "stream",
     "text": [
      "문장길이 평균 :  15.96940191154864\n",
      "문장길이 최대 :  116\n",
      "문장길이 표준편차 :  12.843571191092\n",
      "pad_sequences maxlen :  41\n",
      "전체 문장의 0.9342988343341575%가 maxlen 설정값 이내에 포함됩니다. \n"
     ]
    }
   ],
   "source": [
    "total_data_text = list(X_train) + list(X_test)\n",
    "# 텍스트데이터 문장길이의 리스트를 생성한 후\n",
    "num_tokens = [len(tokens) for tokens in total_data_text]\n",
    "num_tokens = np.array(num_tokens)\n",
    "# 문장길이의 평균값, 최대값, 표준편차를 계산해 본다. \n",
    "print('문장길이 평균 : ', np.mean(num_tokens))\n",
    "print('문장길이 최대 : ', np.max(num_tokens))\n",
    "print('문장길이 표준편차 : ', np.std(num_tokens))\n",
    "\n",
    "# 예를들어, 최대 길이를 (평균 + 2*표준편차)로 한다면,  \n",
    "max_tokens = np.mean(num_tokens) + 2 * np.std(num_tokens)\n",
    "maxlen = int(max_tokens)\n",
    "print('pad_sequences maxlen : ', maxlen)\n",
    "print(f'전체 문장의 {np.sum(num_tokens < max_tokens) / len(num_tokens)}%가 maxlen 설정값 이내에 포함됩니다. ')"
   ]
  },
  {
   "cell_type": "code",
   "execution_count": 149,
   "id": "68e81033",
   "metadata": {},
   "outputs": [],
   "source": [
    "# 패딩 적용\n",
    "maxlen = 45  # 최대 시퀀스 길이 설정\n",
    "X_train = tf.keras.preprocessing.sequence.pad_sequences(\n",
    "    X_train,\n",
    "    value=word_to_index[pad_token],\n",
    "    padding='pre',\n",
    "    maxlen=maxlen\n",
    ")\n",
    "X_test = tf.keras.preprocessing.sequence.pad_sequences(\n",
    "    X_test,\n",
    "    value=word_to_index[pad_token],\n",
    "    padding='pre',\n",
    "    maxlen=maxlen\n",
    ")"
   ]
  },
  {
   "cell_type": "code",
   "execution_count": 150,
   "id": "5def6894",
   "metadata": {},
   "outputs": [
    {
     "data": {
      "text/plain": [
       "(146182, 45)"
      ]
     },
     "execution_count": 150,
     "metadata": {},
     "output_type": "execute_result"
    }
   ],
   "source": [
    "X_train.shape"
   ]
  },
  {
   "cell_type": "markdown",
   "id": "f070ee22",
   "metadata": {},
   "source": [
    "# 03. 모델 정의"
   ]
  },
  {
   "cell_type": "code",
   "execution_count": 151,
   "id": "5fbc4127",
   "metadata": {},
   "outputs": [
    {
     "name": "stdout",
     "output_type": "stream",
     "text": [
      "Model: \"sequential_18\"\n",
      "_________________________________________________________________\n",
      "Layer (type)                 Output Shape              Param #   \n",
      "=================================================================\n",
      "embedding_18 (Embedding)     (None, None, 14)          140000    \n",
      "_________________________________________________________________\n",
      "lstm_4 (LSTM)                (None, 16)                1984      \n",
      "_________________________________________________________________\n",
      "dense_54 (Dense)             (None, 16)                272       \n",
      "_________________________________________________________________\n",
      "dense_55 (Dense)             (None, 8)                 136       \n",
      "_________________________________________________________________\n",
      "dense_56 (Dense)             (None, 1)                 9         \n",
      "=================================================================\n",
      "Total params: 142,401\n",
      "Trainable params: 142,401\n",
      "Non-trainable params: 0\n",
      "_________________________________________________________________\n"
     ]
    }
   ],
   "source": [
    "vocab_size = 10000  # 어휘 사전의 크기입니다(10000개의 단어)\n",
    "word_vector_dim = 14  # 단어 하나를 표현하는 임베딩 벡터의 차원수입니다. \n",
    "\n",
    "model_lstm = tf.keras.Sequential()\n",
    "model_lstm.add(tf.keras.layers.Embedding(vocab_size, word_vector_dim, input_shape=(None,)))\n",
    "model_lstm.add(tf.keras.layers.LSTM(16))   # 가장 널리 쓰이는 RNN인 LSTM 레이어를 사용하였습니다. 이때 LSTM state 벡터의 차원수는 8로 하였습니다. (변경 가능)\n",
    "model_lstm.add(tf.keras.layers.Dense(16, activation='relu'))\n",
    "model_lstm.add(tf.keras.layers.Dense(8, activation='relu'))\n",
    "model_lstm.add(tf.keras.layers.Dense(1, activation='sigmoid'))  # 최종 출력은 긍정/부정을 나타내는 1dim 입니다.\n",
    "\n",
    "model_lstm.summary()"
   ]
  },
  {
   "cell_type": "code",
   "execution_count": 152,
   "id": "02d957d0",
   "metadata": {},
   "outputs": [
    {
     "name": "stdout",
     "output_type": "stream",
     "text": [
      "Model: \"sequential_19\"\n",
      "_________________________________________________________________\n",
      "Layer (type)                 Output Shape              Param #   \n",
      "=================================================================\n",
      "embedding_19 (Embedding)     (None, None, 14)          140000    \n",
      "_________________________________________________________________\n",
      "conv1d_22 (Conv1D)           (None, None, 128)         18048     \n",
      "_________________________________________________________________\n",
      "max_pooling1d_11 (MaxPooling (None, None, 128)         0         \n",
      "_________________________________________________________________\n",
      "conv1d_23 (Conv1D)           (None, None, 64)          81984     \n",
      "_________________________________________________________________\n",
      "global_max_pooling1d_14 (Glo (None, 64)                0         \n",
      "_________________________________________________________________\n",
      "dense_57 (Dense)             (None, 16)                1040      \n",
      "_________________________________________________________________\n",
      "dense_58 (Dense)             (None, 8)                 136       \n",
      "_________________________________________________________________\n",
      "dense_59 (Dense)             (None, 1)                 9         \n",
      "=================================================================\n",
      "Total params: 241,217\n",
      "Trainable params: 241,217\n",
      "Non-trainable params: 0\n",
      "_________________________________________________________________\n"
     ]
    }
   ],
   "source": [
    "vocab_size = 10000  # 어휘 사전의 크기입니다(10000개의 단어)\n",
    "word_vector_dim = 14   # 단어 하나를 표현하는 임베딩 벡터의 차원 수입니다. \n",
    "\n",
    "model_1d = tf.keras.Sequential()\n",
    "model_1d.add(tf.keras.layers.Embedding(vocab_size, word_vector_dim, input_shape=(None,)))\n",
    "model_1d.add(tf.keras.layers.Conv1D(128, 10, activation='relu'))\n",
    "model_1d.add(tf.keras.layers.MaxPooling1D(2))\n",
    "model_1d.add(tf.keras.layers.Conv1D(64, 10, activation='relu'))\n",
    "model_1d.add(tf.keras.layers.GlobalMaxPooling1D())\n",
    "model_1d.add(tf.keras.layers.Dense(16, activation='relu'))\n",
    "model_1d.add(tf.keras.layers.Dense(8, activation='relu'))\n",
    "model_1d.add(tf.keras.layers.Dense(1, activation='sigmoid'))  # 최종 출력은 긍정/부정을 나타내는 1dim 입니다.\n",
    "\n",
    "model_1d.summary()"
   ]
  },
  {
   "cell_type": "code",
   "execution_count": 96,
   "id": "f205474f",
   "metadata": {},
   "outputs": [
    {
     "name": "stdout",
     "output_type": "stream",
     "text": [
      "Model: \"sequential_10\"\n",
      "_________________________________________________________________\n",
      "Layer (type)                 Output Shape              Param #   \n",
      "=================================================================\n",
      "embedding_10 (Embedding)     (None, None, 14)          140000    \n",
      "_________________________________________________________________\n",
      "global_max_pooling1d_6 (Glob (None, 14)                0         \n",
      "_________________________________________________________________\n",
      "dense_30 (Dense)             (None, 32)                480       \n",
      "_________________________________________________________________\n",
      "dense_31 (Dense)             (None, 16)                528       \n",
      "_________________________________________________________________\n",
      "dense_32 (Dense)             (None, 1)                 17        \n",
      "=================================================================\n",
      "Total params: 141,025\n",
      "Trainable params: 141,025\n",
      "Non-trainable params: 0\n",
      "_________________________________________________________________\n"
     ]
    }
   ],
   "source": [
    "vocab_size = 10000  # 어휘 사전의 크기입니다(10개의 단어)\n",
    "word_vector_dim = 14   # 단어 하나를 표현하는 임베딩 벡터의 차원 수입니다. \n",
    "\n",
    "model_gmp = tf.keras.Sequential()\n",
    "model_gmp.add(tf.keras.layers.Embedding(vocab_size, word_vector_dim, input_shape=(None,)))\n",
    "model_gmp.add(tf.keras.layers.GlobalMaxPooling1D())\n",
    "model_gmp.add(tf.keras.layers.Dense(32, activation='relu'))\n",
    "model_gmp.add(tf.keras.layers.Dense(16, activation='relu'))\n",
    "model_gmp.add(tf.keras.layers.Dense(1, activation='sigmoid'))  # 최종 출력은 긍정/부정을 나타내는 1dim 입니다.\n",
    "\n",
    "model_gmp.summary()"
   ]
  },
  {
   "cell_type": "markdown",
   "id": "5f370e93",
   "metadata": {},
   "source": [
    "# 04. 모델 평가"
   ]
  },
  {
   "cell_type": "code",
   "execution_count": 153,
   "id": "910a7ece",
   "metadata": {},
   "outputs": [],
   "source": [
    "# validation set 분리\n",
    "from sklearn.model_selection import train_test_split\n",
    "\n",
    "X_train,X_val, y_train, y_val = train_test_split(X_train,y_train,test_size = 0.2)"
   ]
  },
  {
   "cell_type": "code",
   "execution_count": 154,
   "id": "71388c74",
   "metadata": {},
   "outputs": [],
   "source": [
    "# 모델 실행 및 모델 평가 함수화 - 귀찮으니 함수화 해버리자..\n",
    "\n",
    "def model_evaluate(model, x_train, y_train, x_val, y_val,x_test,y_test,epochs,batch_size):\n",
    "    \n",
    "    model.compile(optimizer='adam',\n",
    "              loss='binary_crossentropy',\n",
    "              metrics=['accuracy'])\n",
    "    \n",
    "    history = model.fit(x_train,\n",
    "                    y_train,\n",
    "                    epochs=epochs,\n",
    "                    batch_size=batch_size,\n",
    "                    validation_data=(x_val, y_val),\n",
    "                    verbose=1)\n",
    "    results = model.evaluate(x_test, y_test, verbose=2)\n",
    "    history_dict = history.history\n",
    "    \n",
    "    acc = history_dict['accuracy']\n",
    "    val_acc = history_dict['val_accuracy']\n",
    "    loss = history_dict['loss']\n",
    "    val_loss = history_dict['val_loss']\n",
    "\n",
    "    epochs = range(1, len(acc) + 1)\n",
    "    \n",
    "    plt.figure(figsize=(12, 5))\n",
    "\n",
    "    # 첫 번째 subplot: Training and validation loss\n",
    "    plt.subplot(1, 2, 1)\n",
    "    plt.plot(epochs, loss, 'bo', label='Training loss')    # 'bo'는 파란색 점\n",
    "    plt.plot(epochs, val_loss, 'b', label='Validation loss')  # 'b'는 파란 실선\n",
    "    plt.title('Training and validation loss')\n",
    "    plt.xlabel('Epochs')\n",
    "    plt.ylabel('Loss')\n",
    "    plt.legend()\n",
    "\n",
    "    # 두 번째 subplot: Training and validation accuracy\n",
    "    plt.subplot(1, 2, 2)\n",
    "    plt.plot(epochs, acc, 'ro', label='Training acc')      # 'ro'는 빨간색 점\n",
    "    plt.plot(epochs, val_acc, 'r', label='Validation acc')   # 'r'는 빨간 실선\n",
    "    plt.title('Training and validation accuracy')\n",
    "    plt.xlabel('Epochs')\n",
    "    plt.ylabel('Accuracy')\n",
    "    plt.legend()\n",
    "\n",
    "    plt.tight_layout()\n",
    "    plt.show()\n",
    "    \n",
    "    return results, history_dict"
   ]
  },
  {
   "cell_type": "code",
   "execution_count": 155,
   "id": "76d6f781",
   "metadata": {},
   "outputs": [
    {
     "name": "stdout",
     "output_type": "stream",
     "text": [
      "Epoch 1/20\n",
      "914/914 [==============================] - 7s 6ms/step - loss: 0.4091 - accuracy: 0.8165 - val_loss: 0.3537 - val_accuracy: 0.8444\n",
      "Epoch 2/20\n",
      "914/914 [==============================] - 5s 6ms/step - loss: 0.3295 - accuracy: 0.8593 - val_loss: 0.3490 - val_accuracy: 0.8464\n",
      "Epoch 3/20\n",
      "914/914 [==============================] - 5s 6ms/step - loss: 0.3064 - accuracy: 0.8706 - val_loss: 0.3462 - val_accuracy: 0.8480\n",
      "Epoch 4/20\n",
      "914/914 [==============================] - 5s 6ms/step - loss: 0.2866 - accuracy: 0.8801 - val_loss: 0.3452 - val_accuracy: 0.8489\n",
      "Epoch 5/20\n",
      "914/914 [==============================] - 5s 6ms/step - loss: 0.2630 - accuracy: 0.8906 - val_loss: 0.3526 - val_accuracy: 0.8519\n",
      "Epoch 6/20\n",
      "914/914 [==============================] - 5s 6ms/step - loss: 0.2413 - accuracy: 0.9006 - val_loss: 0.3550 - val_accuracy: 0.8495\n",
      "Epoch 7/20\n",
      "914/914 [==============================] - 5s 6ms/step - loss: 0.2213 - accuracy: 0.9097 - val_loss: 0.3712 - val_accuracy: 0.8502\n",
      "Epoch 8/20\n",
      "914/914 [==============================] - 5s 6ms/step - loss: 0.2056 - accuracy: 0.9174 - val_loss: 0.4062 - val_accuracy: 0.8516\n",
      "Epoch 9/20\n",
      "914/914 [==============================] - 5s 6ms/step - loss: 0.1905 - accuracy: 0.9244 - val_loss: 0.4299 - val_accuracy: 0.8488\n",
      "Epoch 10/20\n",
      "914/914 [==============================] - 5s 6ms/step - loss: 0.1776 - accuracy: 0.9308 - val_loss: 0.4527 - val_accuracy: 0.8435\n",
      "Epoch 11/20\n",
      "914/914 [==============================] - 5s 6ms/step - loss: 0.1651 - accuracy: 0.9363 - val_loss: 0.4699 - val_accuracy: 0.8414\n",
      "Epoch 12/20\n",
      "914/914 [==============================] - 5s 6ms/step - loss: 0.1541 - accuracy: 0.9417 - val_loss: 0.4998 - val_accuracy: 0.8431\n",
      "Epoch 13/20\n",
      "914/914 [==============================] - 5s 6ms/step - loss: 0.1439 - accuracy: 0.9458 - val_loss: 0.5866 - val_accuracy: 0.8379\n",
      "Epoch 14/20\n",
      "914/914 [==============================] - 5s 6ms/step - loss: 0.1362 - accuracy: 0.9485 - val_loss: 0.6224 - val_accuracy: 0.8382\n",
      "Epoch 15/20\n",
      "914/914 [==============================] - 5s 6ms/step - loss: 0.1265 - accuracy: 0.9525 - val_loss: 0.6221 - val_accuracy: 0.8336\n",
      "Epoch 16/20\n",
      "914/914 [==============================] - 5s 6ms/step - loss: 0.1189 - accuracy: 0.9558 - val_loss: 0.6728 - val_accuracy: 0.8339\n",
      "Epoch 17/20\n",
      "914/914 [==============================] - 5s 6ms/step - loss: 0.1136 - accuracy: 0.9571 - val_loss: 0.6645 - val_accuracy: 0.8345\n",
      "Epoch 18/20\n",
      "914/914 [==============================] - 5s 6ms/step - loss: 0.1063 - accuracy: 0.9600 - val_loss: 0.7142 - val_accuracy: 0.8354\n",
      "Epoch 19/20\n",
      "914/914 [==============================] - 5s 6ms/step - loss: 0.1019 - accuracy: 0.9617 - val_loss: 0.7619 - val_accuracy: 0.8344\n",
      "Epoch 20/20\n",
      "914/914 [==============================] - 5s 6ms/step - loss: 0.0963 - accuracy: 0.9633 - val_loss: 0.7563 - val_accuracy: 0.8337\n",
      "1537/1537 - 3s - loss: 0.7400 - accuracy: 0.8343\n"
     ]
    },
    {
     "data": {
      "image/png": "[encoded data removed]",
      "text/plain": [
       "<Figure size 864x360 with 2 Axes>"
      ]
     },
     "metadata": {
      "needs_background": "light"
     },
     "output_type": "display_data"
    }
   ],
   "source": [
    "results_lstm, history_dict_lstm = model_evaluate(model_lstm, X_train,y_train, X_val, y_val,X_test,y_test,20,128)"
   ]
  },
  {
   "cell_type": "code",
   "execution_count": 156,
   "id": "6b9db616",
   "metadata": {},
   "outputs": [
    {
     "name": "stdout",
     "output_type": "stream",
     "text": [
      "Epoch 1/20\n",
      "229/229 [==============================] - 3s 8ms/step - loss: 0.4617 - accuracy: 0.7620 - val_loss: 0.3576 - val_accuracy: 0.8419\n",
      "Epoch 2/20\n",
      "229/229 [==============================] - 2s 7ms/step - loss: 0.3262 - accuracy: 0.8605 - val_loss: 0.3485 - val_accuracy: 0.8480\n",
      "Epoch 3/20\n",
      "229/229 [==============================] - 2s 7ms/step - loss: 0.2928 - accuracy: 0.8767 - val_loss: 0.3464 - val_accuracy: 0.8496\n",
      "Epoch 4/20\n",
      "229/229 [==============================] - 2s 7ms/step - loss: 0.2636 - accuracy: 0.8917 - val_loss: 0.3509 - val_accuracy: 0.8486\n",
      "Epoch 5/20\n",
      "229/229 [==============================] - 2s 7ms/step - loss: 0.2328 - accuracy: 0.9067 - val_loss: 0.3656 - val_accuracy: 0.8462\n",
      "Epoch 6/20\n",
      "229/229 [==============================] - 2s 7ms/step - loss: 0.2005 - accuracy: 0.9225 - val_loss: 0.3985 - val_accuracy: 0.8439\n",
      "Epoch 7/20\n",
      "229/229 [==============================] - 2s 7ms/step - loss: 0.1685 - accuracy: 0.9370 - val_loss: 0.4327 - val_accuracy: 0.8417\n",
      "Epoch 8/20\n",
      "229/229 [==============================] - 2s 7ms/step - loss: 0.1409 - accuracy: 0.9486 - val_loss: 0.4891 - val_accuracy: 0.8364\n",
      "Epoch 9/20\n",
      "229/229 [==============================] - 2s 7ms/step - loss: 0.1189 - accuracy: 0.9582 - val_loss: 0.5347 - val_accuracy: 0.8314\n",
      "Epoch 10/20\n",
      "229/229 [==============================] - 2s 7ms/step - loss: 0.1009 - accuracy: 0.9660 - val_loss: 0.5894 - val_accuracy: 0.8298\n",
      "Epoch 11/20\n",
      "229/229 [==============================] - 2s 7ms/step - loss: 0.0851 - accuracy: 0.9723 - val_loss: 0.6634 - val_accuracy: 0.8292\n",
      "Epoch 12/20\n",
      "229/229 [==============================] - 2s 7ms/step - loss: 0.0763 - accuracy: 0.9754 - val_loss: 0.6963 - val_accuracy: 0.8255\n",
      "Epoch 13/20\n",
      "229/229 [==============================] - 2s 7ms/step - loss: 0.0698 - accuracy: 0.9781 - val_loss: 0.7848 - val_accuracy: 0.8254\n",
      "Epoch 14/20\n",
      "229/229 [==============================] - 2s 7ms/step - loss: 0.0634 - accuracy: 0.9802 - val_loss: 0.8365 - val_accuracy: 0.8244\n",
      "Epoch 15/20\n",
      "229/229 [==============================] - 2s 7ms/step - loss: 0.0568 - accuracy: 0.9829 - val_loss: 0.8811 - val_accuracy: 0.8228\n",
      "Epoch 16/20\n",
      "229/229 [==============================] - 2s 7ms/step - loss: 0.0526 - accuracy: 0.9838 - val_loss: 0.8761 - val_accuracy: 0.8239\n",
      "Epoch 17/20\n",
      "229/229 [==============================] - 2s 7ms/step - loss: 0.0504 - accuracy: 0.9843 - val_loss: 0.9708 - val_accuracy: 0.8217\n",
      "Epoch 18/20\n",
      "229/229 [==============================] - 2s 7ms/step - loss: 0.0481 - accuracy: 0.9847 - val_loss: 1.0273 - val_accuracy: 0.8196\n",
      "Epoch 19/20\n",
      "229/229 [==============================] - 2s 7ms/step - loss: 0.0502 - accuracy: 0.9838 - val_loss: 1.0089 - val_accuracy: 0.8177\n",
      "Epoch 20/20\n",
      "229/229 [==============================] - 2s 7ms/step - loss: 0.0498 - accuracy: 0.9836 - val_loss: 1.0678 - val_accuracy: 0.8221\n",
      "1537/1537 - 3s - loss: 1.0548 - accuracy: 0.8212\n"
     ]
    },
    {
     "data": {
      "image/png": "[encoded data removed]",
      "text/plain": [
       "<Figure size 864x360 with 2 Axes>"
      ]
     },
     "metadata": {
      "needs_background": "light"
     },
     "output_type": "display_data"
    }
   ],
   "source": [
    "results_1d, history_dict_1d = model_evaluate(model_1d, X_train,y_train, X_val, y_val,X_test,y_test,20,512)"
   ]
  },
  {
   "cell_type": "code",
   "execution_count": 157,
   "id": "b6b7d993",
   "metadata": {},
   "outputs": [
    {
     "name": "stdout",
     "output_type": "stream",
     "text": [
      "Epoch 1/20\n",
      "914/914 [==============================] - 4s 4ms/step - loss: 0.2619 - accuracy: 0.9046 - val_loss: 0.2623 - val_accuracy: 0.8988\n",
      "Epoch 2/20\n",
      "914/914 [==============================] - 3s 4ms/step - loss: 0.2335 - accuracy: 0.9140 - val_loss: 0.2782 - val_accuracy: 0.8885\n",
      "Epoch 3/20\n",
      "914/914 [==============================] - 3s 4ms/step - loss: 0.2149 - accuracy: 0.9224 - val_loss: 0.2947 - val_accuracy: 0.8833\n",
      "Epoch 4/20\n",
      "914/914 [==============================] - 3s 4ms/step - loss: 0.1994 - accuracy: 0.9294 - val_loss: 0.3149 - val_accuracy: 0.8779\n",
      "Epoch 5/20\n",
      "914/914 [==============================] - 3s 4ms/step - loss: 0.1858 - accuracy: 0.9350 - val_loss: 0.3321 - val_accuracy: 0.8722\n",
      "Epoch 6/20\n",
      "914/914 [==============================] - 3s 4ms/step - loss: 0.1750 - accuracy: 0.9389 - val_loss: 0.3538 - val_accuracy: 0.8691\n",
      "Epoch 7/20\n",
      "914/914 [==============================] - 3s 4ms/step - loss: 0.1657 - accuracy: 0.9426 - val_loss: 0.3600 - val_accuracy: 0.8674\n",
      "Epoch 8/20\n",
      "914/914 [==============================] - 3s 4ms/step - loss: 0.1568 - accuracy: 0.9465 - val_loss: 0.3825 - val_accuracy: 0.8637\n",
      "Epoch 9/20\n",
      "914/914 [==============================] - 3s 4ms/step - loss: 0.1502 - accuracy: 0.9481 - val_loss: 0.3999 - val_accuracy: 0.8621\n",
      "Epoch 10/20\n",
      "914/914 [==============================] - 3s 4ms/step - loss: 0.1438 - accuracy: 0.9511 - val_loss: 0.4166 - val_accuracy: 0.8583\n",
      "Epoch 11/20\n",
      "914/914 [==============================] - 3s 4ms/step - loss: 0.1384 - accuracy: 0.9528 - val_loss: 0.4441 - val_accuracy: 0.8566\n",
      "Epoch 12/20\n",
      "914/914 [==============================] - 3s 4ms/step - loss: 0.1336 - accuracy: 0.9543 - val_loss: 0.4568 - val_accuracy: 0.8560\n",
      "Epoch 13/20\n",
      "914/914 [==============================] - 3s 4ms/step - loss: 0.1292 - accuracy: 0.9555 - val_loss: 0.4795 - val_accuracy: 0.8546\n",
      "Epoch 14/20\n",
      "914/914 [==============================] - 3s 4ms/step - loss: 0.1249 - accuracy: 0.9573 - val_loss: 0.5128 - val_accuracy: 0.8527\n",
      "Epoch 15/20\n",
      "914/914 [==============================] - 3s 4ms/step - loss: 0.1209 - accuracy: 0.9588 - val_loss: 0.5144 - val_accuracy: 0.8536\n",
      "Epoch 16/20\n",
      "914/914 [==============================] - 3s 4ms/step - loss: 0.1184 - accuracy: 0.9591 - val_loss: 0.5323 - val_accuracy: 0.8497\n",
      "Epoch 17/20\n",
      "914/914 [==============================] - 3s 4ms/step - loss: 0.1150 - accuracy: 0.9605 - val_loss: 0.5348 - val_accuracy: 0.8493\n",
      "Epoch 18/20\n",
      "914/914 [==============================] - 3s 4ms/step - loss: 0.1123 - accuracy: 0.9613 - val_loss: 0.5695 - val_accuracy: 0.8486\n",
      "Epoch 19/20\n",
      "914/914 [==============================] - 3s 4ms/step - loss: 0.1092 - accuracy: 0.9626 - val_loss: 0.5946 - val_accuracy: 0.8491\n",
      "Epoch 20/20\n",
      "914/914 [==============================] - 3s 4ms/step - loss: 0.1071 - accuracy: 0.9633 - val_loss: 0.6003 - val_accuracy: 0.8459\n",
      "1537/1537 - 2s - loss: 0.7593 - accuracy: 0.8137\n"
     ]
    },
    {
     "data": {
      "image/png": "[encoded data removed]",
      "text/plain": [
       "<Figure size 864x360 with 2 Axes>"
      ]
     },
     "metadata": {
      "needs_background": "light"
     },
     "output_type": "display_data"
    }
   ],
   "source": [
    "results_gmp, history_dict_gmp = model_evaluate(model_gmp, X_train,y_train, X_val, y_val,X_test,y_test,20,128)"
   ]
  },
  {
   "cell_type": "markdown",
   "id": "4940c343",
   "metadata": {},
   "source": [
    "# 05. 학습된 임베딩 모델 활용 및 분석"
   ]
  },
  {
   "cell_type": "code",
   "execution_count": 158,
   "id": "58295363",
   "metadata": {},
   "outputs": [],
   "source": [
    "import os\n",
    "from gensim.models.keyedvectors import Word2VecKeyedVectors\n",
    "\n",
    "# Word2Vec 모델 로드\n",
    "model_path = os.path.expanduser('~/data/word2vec_ko.model')\n",
    "word_vectors = Word2VecKeyedVectors.load(model_path )\n",
    "\n",
    "# 모델 활용 예시\n",
    "vector = word_vectors.wv['끝']"
   ]
  },
  {
   "cell_type": "code",
   "execution_count": 159,
   "id": "c5a8920e",
   "metadata": {},
   "outputs": [
    {
     "data": {
      "text/plain": [
       "array([ 1.038851  , -1.1634965 ,  2.2386286 ,  0.8971453 , -2.088168  ,\n",
       "       -4.1942534 , -0.02519768, -0.69813883, -0.2908033 , -1.4651134 ,\n",
       "       -2.6863668 ,  0.7999443 , -0.6957915 , -0.5018775 ,  3.5025773 ,\n",
       "        0.21326113, -0.6588098 , -1.1900496 ,  0.61399573,  2.1247969 ,\n",
       "        0.1549463 ,  3.0840218 ,  3.1680267 , -3.9143991 ,  3.6073153 ,\n",
       "        0.5315545 , -0.3511633 , -1.107248  ,  1.7767181 , -0.95981866,\n",
       "        2.6072454 , -0.00697957, -3.27628   ,  1.558644  ,  0.81922376,\n",
       "        1.9231955 ,  3.7026553 , -0.53824735, -0.4920138 ,  2.4657123 ,\n",
       "       -2.620749  , -0.08950733,  0.61453176,  1.8866426 ,  0.257866  ,\n",
       "       -2.7827141 ,  2.9129577 , -0.6313133 ,  2.0387425 , -4.222685  ,\n",
       "       -2.7560544 ,  1.7903243 , -1.3080189 , -2.5531402 , -0.43849912,\n",
       "       -3.1073573 , -0.29090825,  5.1817617 ,  1.9604833 , -5.1421604 ,\n",
       "       -0.71431434,  4.5624633 , -0.55525815, -3.3019137 ,  1.6761336 ,\n",
       "       -1.9606539 , -0.2726863 ,  0.2465995 ,  1.2685091 ,  1.6055685 ,\n",
       "        1.8344896 ,  1.2752469 ,  0.99503314, -2.3348706 , -0.9290329 ,\n",
       "       -1.5920266 ,  5.693834  ,  1.1132814 , -0.9603875 , -1.970055  ,\n",
       "       -1.0120267 , -2.7289615 , -2.7759619 ,  3.214084  ,  1.8573734 ,\n",
       "       -1.3495721 , -0.10321241,  3.434593  , -2.8573685 , -1.9004927 ,\n",
       "       -1.6801298 , -2.805677  ,  1.7723105 , -0.41865307, -2.310913  ,\n",
       "       -6.2761464 , -0.8376036 ,  2.4590037 ,  2.1697695 , -4.440443  ],\n",
       "      dtype=float32)"
      ]
     },
     "execution_count": 159,
     "metadata": {},
     "output_type": "execute_result"
    }
   ],
   "source": [
    "# 벡터 크기 분석 및 레이어 확인\n",
    "vector"
   ]
  },
  {
   "cell_type": "code",
   "execution_count": 160,
   "id": "d5fe6e0a",
   "metadata": {},
   "outputs": [
    {
     "name": "stdout",
     "output_type": "stream",
     "text": [
      "(302960, 100)\n"
     ]
    }
   ],
   "source": [
    "# 단어 임베딩 가중치 가져오기 - shape를 통한 학습된 임베딩 크기 분석\n",
    "weights = word_vectors.wv.vectors\n",
    "print(weights.shape)  # shape: (vocab_size, embedding_dim)"
   ]
  },
  {
   "cell_type": "code",
   "execution_count": 161,
   "id": "d983792e",
   "metadata": {},
   "outputs": [],
   "source": [
    "vocab_size = 10000    # 어휘 사전의 크기입니다(302960개의 단어)\n",
    "word_vector_dim = 100  # 워드 벡터의 차원수\n",
    "embedding_matrix = np.random.rand(vocab_size, word_vector_dim)\n",
    "\n",
    "# embedding_matrix에 Word2Vec 워드 벡터를 단어 하나씩마다 차례차례 카피\n",
    "for i in range(4,vocab_size):\n",
    "    if index_to_word[i] in word_vectors.wv:\n",
    "        embedding_matrix[i] = word_vectors.wv[index_to_word[i]]"
   ]
  },
  {
   "cell_type": "code",
   "execution_count": 182,
   "id": "990d24e0",
   "metadata": {},
   "outputs": [
    {
     "name": "stdout",
     "output_type": "stream",
     "text": [
      "Model: \"sequential_34\"\n",
      "_________________________________________________________________\n",
      "Layer (type)                 Output Shape              Param #   \n",
      "=================================================================\n",
      "embedding_34 (Embedding)     (None, 45, 100)           1000000   \n",
      "_________________________________________________________________\n",
      "conv1d_57 (Conv1D)           (None, 38, 256)           205056    \n",
      "_________________________________________________________________\n",
      "max_pooling1d_25 (MaxPooling (None, 19, 256)           0         \n",
      "_________________________________________________________________\n",
      "conv1d_58 (Conv1D)           (None, 12, 128)           262272    \n",
      "_________________________________________________________________\n",
      "global_max_pooling1d_27 (Glo (None, 128)               0         \n",
      "_________________________________________________________________\n",
      "dense_74 (Dense)             (None, 64)                8256      \n",
      "_________________________________________________________________\n",
      "dense_75 (Dense)             (None, 32)                2080      \n",
      "_________________________________________________________________\n",
      "dense_76 (Dense)             (None, 1)                 33        \n",
      "=================================================================\n",
      "Total params: 1,477,697\n",
      "Trainable params: 1,477,697\n",
      "Non-trainable params: 0\n",
      "_________________________________________________________________\n"
     ]
    }
   ],
   "source": [
    "from tensorflow.keras.initializers import Constant\n",
    "\n",
    "vocab_size = 10000    # 어휘 사전의 크기입니다(10,000개의 단어만 사용... 나의 실수 단어가 300000개 인데;;)\n",
    "word_vector_dim = 100  # 워드 벡터의 차원 수 \n",
    "\n",
    "# 모델 구성\n",
    "model = tf.keras.Sequential()\n",
    "model.add(tf.keras.layers.Embedding(vocab_size, \n",
    "                                 word_vector_dim, \n",
    "                                 embeddings_initializer=Constant(embedding_matrix),  # 카피한 임베딩을 여기서 활용\n",
    "                                 input_length=maxlen, \n",
    "                                 trainable=True))   # trainable을 True로 주면 Fine-tuning\n",
    "model.add(tf.keras.layers.Conv1D(256, 8, activation='relu'))\n",
    "model.add(tf.keras.layers.MaxPooling1D())\n",
    "model.add(tf.keras.layers.Conv1D(128, 8, activation='relu'))\n",
    "model.add(tf.keras.layers.GlobalMaxPooling1D())\n",
    "model.add(tf.keras.layers.Dense(64, activation='relu'))\n",
    "model.add(tf.keras.layers.Dense(32, activation='relu'))\n",
    "model.add(tf.keras.layers.Dense(1, activation='sigmoid')) \n",
    "\n",
    "model.summary()"
   ]
  },
  {
   "cell_type": "code",
   "execution_count": 183,
   "id": "4807bfab",
   "metadata": {},
   "outputs": [
    {
     "name": "stdout",
     "output_type": "stream",
     "text": [
      "Epoch 1/5\n",
      "7310/7310 [==============================] - 39s 5ms/step - loss: 0.4370 - accuracy: 0.7951 - val_loss: 0.3698 - val_accuracy: 0.8359\n",
      "Epoch 2/5\n",
      "7310/7310 [==============================] - 37s 5ms/step - loss: 0.3298 - accuracy: 0.8582 - val_loss: 0.3342 - val_accuracy: 0.8509\n",
      "Epoch 3/5\n",
      "7310/7310 [==============================] - 38s 5ms/step - loss: 0.2841 - accuracy: 0.8797 - val_loss: 0.3692 - val_accuracy: 0.8472\n",
      "Epoch 4/5\n",
      "7310/7310 [==============================] - 37s 5ms/step - loss: 0.2442 - accuracy: 0.8991 - val_loss: 0.3385 - val_accuracy: 0.8548\n",
      "Epoch 5/5\n",
      "7310/7310 [==============================] - 37s 5ms/step - loss: 0.2030 - accuracy: 0.9182 - val_loss: 0.3748 - val_accuracy: 0.8553\n",
      "1537/1537 - 3s - loss: 0.3789 - accuracy: 0.8510\n"
     ]
    },
    {
     "data": {
      "image/png": "[encoded data removed]",
      "text/plain": [
       "<Figure size 864x360 with 2 Axes>"
      ]
     },
     "metadata": {
      "needs_background": "light"
     },
     "output_type": "display_data"
    }
   ],
   "source": [
    "# 학습 진행\n",
    "results, history_dict = model_evaluate(model, X_train,y_train, X_val, y_val,X_test,y_test,5,16)"
   ]
  },
  {
   "cell_type": "code",
   "execution_count": 184,
   "id": "a1acfea9",
   "metadata": {},
   "outputs": [
    {
     "name": "stdout",
     "output_type": "stream",
     "text": [
      "[0.3789288103580475, 0.851028323173523]\n"
     ]
    }
   ],
   "source": [
    "# 테스트셋을 통한 모델 평가\n",
    "print(results)\n",
    "\n",
    "# 결과 겨우겨우 0.851...달성 휴.."
   ]
  },
  {
   "cell_type": "markdown",
   "id": "7bcbb427",
   "metadata": {},
   "source": [
    "## 회고"
   ]
  },
  {
   "cell_type": "markdown",
   "id": "ff25f81e",
   "metadata": {},
   "source": [
    "###  NLP 의 어려움을 다시 한번 느꼈다. 비정형 데이터를 가져와 토큰화, 임베딩 처리에서의 중요성이 강조되는 프로젝트였다고 생각된다.  추가적으로 해보고 싶은 실험들은 너무 많았다.\n",
    "#### 1. 기존 임베딩 된 모델의 vocap_size를 늘려서 진행해보는 과정 10000 -> 300000개  임베딩된 단어의 집합이 늘수록 텍스트 데이터에 대한 풍부한 학습과 결과 도출이 가능하다고 판단되기 때문\n",
    "#### 2. 감성 분석에 특화된 임베딩 모델을 가져와 수행해보기 이 역시 위의 이유와 같다.\n",
    "\n",
    "#### 모델 평가 후 결과에 대한 아쉬움이 많이 남는다...이유는 임베딩된 모델 중 단어의 집합을 10000개 가져와 진행하였기 때문으로 판단된다. 따라서 모델의 깊이를 비효율적으로 늘린 경우의 코드라고 생각된다. 그러나 모델이 깊을 수록 학습 능력의 한계가 있음을 확인할 수 있는 결과였기도 하다.  그러나.. 내일이 너무 걱정된다.. 잘할 수 있을까?"
   ]
  },
  {
   "cell_type": "code",
   "execution_count": null,
   "id": "4895fb01",
   "metadata": {},
   "outputs": [],
   "source": []
  }
 ],
 "metadata": {
  "kernelspec": {
   "display_name": "Python 3 (ipykernel)",
   "language": "python",
   "name": "python3"
  },
  "language_info": {
   "codemirror_mode": {
    "name": "ipython",
    "version": 3
   },
   "file_extension": ".py",
   "mimetype": "text/x-python",
   "name": "python",
   "nbconvert_exporter": "python",
   "pygments_lexer": "ipython3",
   "version": "3.9.7"
  }
 },
 "nbformat": 4,
 "nbformat_minor": 5
}
